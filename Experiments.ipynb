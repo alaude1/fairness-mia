{
 "cells": [
  {
   "cell_type": "code",
   "execution_count": 70,
   "metadata": {},
   "outputs": [],
   "source": [
    "import pandas as pd\n",
    "import numpy as np\n",
    "import matplotlib.pyplot as plt"
   ]
  },
  {
   "cell_type": "code",
   "execution_count": 2,
   "metadata": {
    "scrolled": true
   },
   "outputs": [
    {
     "name": "stdout",
     "output_type": "stream",
     "text": [
      "Requirement already satisfied: aif360 in /Users/carinalewandowski/opt/anaconda3/lib/python3.8/site-packages (0.4.0)\n",
      "Requirement already satisfied: scipy<1.6.0,>=1.2.0 in /Users/carinalewandowski/opt/anaconda3/lib/python3.8/site-packages (from aif360) (1.5.0)\n",
      "Requirement already satisfied: numpy>=1.16 in /Users/carinalewandowski/opt/anaconda3/lib/python3.8/site-packages (from aif360) (1.19.5)\n",
      "Requirement already satisfied: tempeh in /Users/carinalewandowski/opt/anaconda3/lib/python3.8/site-packages (from aif360) (0.1.12)\n",
      "Requirement already satisfied: scikit-learn>=0.22.1 in /Users/carinalewandowski/opt/anaconda3/lib/python3.8/site-packages (from aif360) (0.23.1)\n",
      "Requirement already satisfied: pandas>=0.24.0 in /Users/carinalewandowski/opt/anaconda3/lib/python3.8/site-packages (from aif360) (1.0.5)\n",
      "Requirement already satisfied: matplotlib in /Users/carinalewandowski/opt/anaconda3/lib/python3.8/site-packages (from aif360) (3.4.0)\n",
      "Requirement already satisfied: requests in /Users/carinalewandowski/opt/anaconda3/lib/python3.8/site-packages (from tempeh->aif360) (2.24.0)\n",
      "Requirement already satisfied: pytest in /Users/carinalewandowski/opt/anaconda3/lib/python3.8/site-packages (from tempeh->aif360) (5.4.3)\n",
      "Requirement already satisfied: memory-profiler in /Users/carinalewandowski/opt/anaconda3/lib/python3.8/site-packages (from tempeh->aif360) (0.58.0)\n",
      "Requirement already satisfied: shap in /Users/carinalewandowski/opt/anaconda3/lib/python3.8/site-packages (from tempeh->aif360) (0.39.0)\n",
      "Requirement already satisfied: threadpoolctl>=2.0.0 in /Users/carinalewandowski/opt/anaconda3/lib/python3.8/site-packages (from scikit-learn>=0.22.1->aif360) (2.1.0)\n",
      "Requirement already satisfied: joblib>=0.11 in /Users/carinalewandowski/opt/anaconda3/lib/python3.8/site-packages (from scikit-learn>=0.22.1->aif360) (0.16.0)\n",
      "Requirement already satisfied: python-dateutil>=2.6.1 in /Users/carinalewandowski/opt/anaconda3/lib/python3.8/site-packages (from pandas>=0.24.0->aif360) (2.8.1)\n",
      "Requirement already satisfied: pytz>=2017.2 in /Users/carinalewandowski/opt/anaconda3/lib/python3.8/site-packages (from pandas>=0.24.0->aif360) (2020.1)\n",
      "Requirement already satisfied: pyparsing>=2.2.1 in /Users/carinalewandowski/opt/anaconda3/lib/python3.8/site-packages (from matplotlib->aif360) (2.4.7)\n",
      "Requirement already satisfied: kiwisolver>=1.0.1 in /Users/carinalewandowski/opt/anaconda3/lib/python3.8/site-packages (from matplotlib->aif360) (1.2.0)\n",
      "Requirement already satisfied: cycler>=0.10 in /Users/carinalewandowski/opt/anaconda3/lib/python3.8/site-packages (from matplotlib->aif360) (0.10.0)\n",
      "Requirement already satisfied: pillow>=6.2.0 in /Users/carinalewandowski/opt/anaconda3/lib/python3.8/site-packages (from matplotlib->aif360) (7.2.0)\n",
      "Requirement already satisfied: idna<3,>=2.5 in /Users/carinalewandowski/opt/anaconda3/lib/python3.8/site-packages (from requests->tempeh->aif360) (2.10)\n",
      "Requirement already satisfied: urllib3!=1.25.0,!=1.25.1,<1.26,>=1.21.1 in /Users/carinalewandowski/opt/anaconda3/lib/python3.8/site-packages (from requests->tempeh->aif360) (1.25.9)\n",
      "Requirement already satisfied: certifi>=2017.4.17 in /Users/carinalewandowski/opt/anaconda3/lib/python3.8/site-packages (from requests->tempeh->aif360) (2020.6.20)\n",
      "Requirement already satisfied: chardet<4,>=3.0.2 in /Users/carinalewandowski/opt/anaconda3/lib/python3.8/site-packages (from requests->tempeh->aif360) (3.0.4)\n",
      "Requirement already satisfied: py>=1.5.0 in /Users/carinalewandowski/opt/anaconda3/lib/python3.8/site-packages (from pytest->tempeh->aif360) (1.9.0)\n",
      "Requirement already satisfied: packaging in /Users/carinalewandowski/opt/anaconda3/lib/python3.8/site-packages (from pytest->tempeh->aif360) (20.4)\n",
      "Requirement already satisfied: attrs>=17.4.0 in /Users/carinalewandowski/opt/anaconda3/lib/python3.8/site-packages (from pytest->tempeh->aif360) (19.3.0)\n",
      "Requirement already satisfied: more-itertools>=4.0.0 in /Users/carinalewandowski/opt/anaconda3/lib/python3.8/site-packages (from pytest->tempeh->aif360) (8.4.0)\n",
      "Requirement already satisfied: pluggy<1.0,>=0.12 in /Users/carinalewandowski/opt/anaconda3/lib/python3.8/site-packages (from pytest->tempeh->aif360) (0.13.1)\n",
      "Requirement already satisfied: wcwidth in /Users/carinalewandowski/opt/anaconda3/lib/python3.8/site-packages (from pytest->tempeh->aif360) (0.2.5)\n",
      "Requirement already satisfied: psutil in /Users/carinalewandowski/opt/anaconda3/lib/python3.8/site-packages (from memory-profiler->tempeh->aif360) (5.7.0)\n",
      "Requirement already satisfied: slicer==0.0.7 in /Users/carinalewandowski/opt/anaconda3/lib/python3.8/site-packages (from shap->tempeh->aif360) (0.0.7)\n",
      "Requirement already satisfied: cloudpickle in /Users/carinalewandowski/opt/anaconda3/lib/python3.8/site-packages (from shap->tempeh->aif360) (1.5.0)\n",
      "Requirement already satisfied: tqdm>4.25.0 in /Users/carinalewandowski/opt/anaconda3/lib/python3.8/site-packages (from shap->tempeh->aif360) (4.47.0)\n",
      "Requirement already satisfied: numba in /Users/carinalewandowski/opt/anaconda3/lib/python3.8/site-packages (from shap->tempeh->aif360) (0.50.1)\n",
      "Requirement already satisfied: six>=1.5 in /Users/carinalewandowski/opt/anaconda3/lib/python3.8/site-packages (from python-dateutil>=2.6.1->pandas>=0.24.0->aif360) (1.15.0)\n",
      "Requirement already satisfied: llvmlite<0.34,>=0.33.0.dev0 in /Users/carinalewandowski/opt/anaconda3/lib/python3.8/site-packages (from numba->shap->tempeh->aif360) (0.33.0+1.g022ab0f)\n",
      "Requirement already satisfied: setuptools in /Users/carinalewandowski/opt/anaconda3/lib/python3.8/site-packages (from numba->shap->tempeh->aif360) (49.2.0.post20200714)\n",
      "Requirement already satisfied: BlackBoxAuditing in /Users/carinalewandowski/opt/anaconda3/lib/python3.8/site-packages (0.1.54)\n",
      "Requirement already satisfied: matplotlib in /Users/carinalewandowski/opt/anaconda3/lib/python3.8/site-packages (from BlackBoxAuditing) (3.4.0)\n",
      "Requirement already satisfied: numpy in /Users/carinalewandowski/opt/anaconda3/lib/python3.8/site-packages (from BlackBoxAuditing) (1.19.5)\n",
      "Requirement already satisfied: pandas in /Users/carinalewandowski/opt/anaconda3/lib/python3.8/site-packages (from BlackBoxAuditing) (1.0.5)\n",
      "Requirement already satisfied: networkx in /Users/carinalewandowski/opt/anaconda3/lib/python3.8/site-packages (from BlackBoxAuditing) (2.4)\n",
      "Requirement already satisfied: pyparsing>=2.2.1 in /Users/carinalewandowski/opt/anaconda3/lib/python3.8/site-packages (from matplotlib->BlackBoxAuditing) (2.4.7)\n",
      "Requirement already satisfied: cycler>=0.10 in /Users/carinalewandowski/opt/anaconda3/lib/python3.8/site-packages (from matplotlib->BlackBoxAuditing) (0.10.0)\n",
      "Requirement already satisfied: pillow>=6.2.0 in /Users/carinalewandowski/opt/anaconda3/lib/python3.8/site-packages (from matplotlib->BlackBoxAuditing) (7.2.0)\n",
      "Requirement already satisfied: python-dateutil>=2.7 in /Users/carinalewandowski/opt/anaconda3/lib/python3.8/site-packages (from matplotlib->BlackBoxAuditing) (2.8.1)\n",
      "Requirement already satisfied: kiwisolver>=1.0.1 in /Users/carinalewandowski/opt/anaconda3/lib/python3.8/site-packages (from matplotlib->BlackBoxAuditing) (1.2.0)\n",
      "Requirement already satisfied: pytz>=2017.2 in /Users/carinalewandowski/opt/anaconda3/lib/python3.8/site-packages (from pandas->BlackBoxAuditing) (2020.1)\n",
      "Requirement already satisfied: decorator>=4.3.0 in /Users/carinalewandowski/opt/anaconda3/lib/python3.8/site-packages (from networkx->BlackBoxAuditing) (4.4.2)\n",
      "Requirement already satisfied: six in /Users/carinalewandowski/opt/anaconda3/lib/python3.8/site-packages (from cycler>=0.10->matplotlib->BlackBoxAuditing) (1.15.0)\n",
      "Collecting fairlearn==0.4.6\n",
      "  Downloading fairlearn-0.4.6-py3-none-any.whl (21.2 MB)\n",
      "\u001b[K     |████████████████████████████████| 21.2 MB 3.4 MB/s eta 0:00:01\n",
      "\u001b[?25hRequirement already satisfied: scikit-learn>=0.22.1 in /Users/carinalewandowski/opt/anaconda3/lib/python3.8/site-packages (from fairlearn==0.4.6) (0.23.1)\n",
      "Requirement already satisfied: pandas>=0.25.1 in /Users/carinalewandowski/opt/anaconda3/lib/python3.8/site-packages (from fairlearn==0.4.6) (1.0.5)\n",
      "Requirement already satisfied: ipywidgets>=7.5.0 in /Users/carinalewandowski/opt/anaconda3/lib/python3.8/site-packages (from fairlearn==0.4.6) (7.5.1)\n",
      "Requirement already satisfied: scipy>=1.3.1 in /Users/carinalewandowski/opt/anaconda3/lib/python3.8/site-packages (from fairlearn==0.4.6) (1.5.0)\n",
      "Requirement already satisfied: numpy>=1.17.2 in /Users/carinalewandowski/opt/anaconda3/lib/python3.8/site-packages (from fairlearn==0.4.6) (1.19.5)\n",
      "Requirement already satisfied: joblib>=0.11 in /Users/carinalewandowski/opt/anaconda3/lib/python3.8/site-packages (from scikit-learn>=0.22.1->fairlearn==0.4.6) (0.16.0)\n",
      "Requirement already satisfied: threadpoolctl>=2.0.0 in /Users/carinalewandowski/opt/anaconda3/lib/python3.8/site-packages (from scikit-learn>=0.22.1->fairlearn==0.4.6) (2.1.0)\n",
      "Requirement already satisfied: python-dateutil>=2.6.1 in /Users/carinalewandowski/opt/anaconda3/lib/python3.8/site-packages (from pandas>=0.25.1->fairlearn==0.4.6) (2.8.1)\n",
      "Requirement already satisfied: pytz>=2017.2 in /Users/carinalewandowski/opt/anaconda3/lib/python3.8/site-packages (from pandas>=0.25.1->fairlearn==0.4.6) (2020.1)\n",
      "Requirement already satisfied: ipykernel>=4.5.1 in /Users/carinalewandowski/opt/anaconda3/lib/python3.8/site-packages (from ipywidgets>=7.5.0->fairlearn==0.4.6) (5.3.2)\n",
      "Requirement already satisfied: nbformat>=4.2.0 in /Users/carinalewandowski/opt/anaconda3/lib/python3.8/site-packages (from ipywidgets>=7.5.0->fairlearn==0.4.6) (5.0.7)\n",
      "Requirement already satisfied: widgetsnbextension~=3.5.0 in /Users/carinalewandowski/opt/anaconda3/lib/python3.8/site-packages (from ipywidgets>=7.5.0->fairlearn==0.4.6) (3.5.1)\n",
      "Requirement already satisfied: traitlets>=4.3.1 in /Users/carinalewandowski/opt/anaconda3/lib/python3.8/site-packages (from ipywidgets>=7.5.0->fairlearn==0.4.6) (4.3.3)\n",
      "Requirement already satisfied: ipython>=4.0.0; python_version >= \"3.3\" in /Users/carinalewandowski/opt/anaconda3/lib/python3.8/site-packages (from ipywidgets>=7.5.0->fairlearn==0.4.6) (7.16.1)\n",
      "Requirement already satisfied: six>=1.5 in /Users/carinalewandowski/opt/anaconda3/lib/python3.8/site-packages (from python-dateutil>=2.6.1->pandas>=0.25.1->fairlearn==0.4.6) (1.15.0)\n",
      "Requirement already satisfied: jupyter-client in /Users/carinalewandowski/opt/anaconda3/lib/python3.8/site-packages (from ipykernel>=4.5.1->ipywidgets>=7.5.0->fairlearn==0.4.6) (6.1.6)\n",
      "Requirement already satisfied: tornado>=4.2 in /Users/carinalewandowski/opt/anaconda3/lib/python3.8/site-packages (from ipykernel>=4.5.1->ipywidgets>=7.5.0->fairlearn==0.4.6) (6.0.4)\n",
      "Requirement already satisfied: appnope; platform_system == \"Darwin\" in /Users/carinalewandowski/opt/anaconda3/lib/python3.8/site-packages (from ipykernel>=4.5.1->ipywidgets>=7.5.0->fairlearn==0.4.6) (0.1.0)\n",
      "Requirement already satisfied: jsonschema!=2.5.0,>=2.4 in /Users/carinalewandowski/opt/anaconda3/lib/python3.8/site-packages (from nbformat>=4.2.0->ipywidgets>=7.5.0->fairlearn==0.4.6) (3.2.0)\n",
      "Requirement already satisfied: ipython-genutils in /Users/carinalewandowski/opt/anaconda3/lib/python3.8/site-packages (from nbformat>=4.2.0->ipywidgets>=7.5.0->fairlearn==0.4.6) (0.2.0)\n",
      "Requirement already satisfied: jupyter-core in /Users/carinalewandowski/opt/anaconda3/lib/python3.8/site-packages (from nbformat>=4.2.0->ipywidgets>=7.5.0->fairlearn==0.4.6) (4.6.3)\n",
      "Requirement already satisfied: notebook>=4.4.1 in /Users/carinalewandowski/opt/anaconda3/lib/python3.8/site-packages (from widgetsnbextension~=3.5.0->ipywidgets>=7.5.0->fairlearn==0.4.6) (6.0.3)\n",
      "Requirement already satisfied: decorator in /Users/carinalewandowski/opt/anaconda3/lib/python3.8/site-packages (from traitlets>=4.3.1->ipywidgets>=7.5.0->fairlearn==0.4.6) (4.4.2)\n",
      "Requirement already satisfied: jedi>=0.10 in /Users/carinalewandowski/opt/anaconda3/lib/python3.8/site-packages (from ipython>=4.0.0; python_version >= \"3.3\"->ipywidgets>=7.5.0->fairlearn==0.4.6) (0.17.1)\n",
      "Requirement already satisfied: prompt-toolkit!=3.0.0,!=3.0.1,<3.1.0,>=2.0.0 in /Users/carinalewandowski/opt/anaconda3/lib/python3.8/site-packages (from ipython>=4.0.0; python_version >= \"3.3\"->ipywidgets>=7.5.0->fairlearn==0.4.6) (3.0.5)\n",
      "Requirement already satisfied: pygments in /Users/carinalewandowski/opt/anaconda3/lib/python3.8/site-packages (from ipython>=4.0.0; python_version >= \"3.3\"->ipywidgets>=7.5.0->fairlearn==0.4.6) (2.6.1)\n",
      "Requirement already satisfied: pickleshare in /Users/carinalewandowski/opt/anaconda3/lib/python3.8/site-packages (from ipython>=4.0.0; python_version >= \"3.3\"->ipywidgets>=7.5.0->fairlearn==0.4.6) (0.7.5)\n",
      "Requirement already satisfied: pexpect; sys_platform != \"win32\" in /Users/carinalewandowski/opt/anaconda3/lib/python3.8/site-packages (from ipython>=4.0.0; python_version >= \"3.3\"->ipywidgets>=7.5.0->fairlearn==0.4.6) (4.8.0)\n",
      "Requirement already satisfied: backcall in /Users/carinalewandowski/opt/anaconda3/lib/python3.8/site-packages (from ipython>=4.0.0; python_version >= \"3.3\"->ipywidgets>=7.5.0->fairlearn==0.4.6) (0.2.0)\n",
      "Requirement already satisfied: setuptools>=18.5 in /Users/carinalewandowski/opt/anaconda3/lib/python3.8/site-packages (from ipython>=4.0.0; python_version >= \"3.3\"->ipywidgets>=7.5.0->fairlearn==0.4.6) (49.2.0.post20200714)\n",
      "Requirement already satisfied: pyzmq>=13 in /Users/carinalewandowski/opt/anaconda3/lib/python3.8/site-packages (from jupyter-client->ipykernel>=4.5.1->ipywidgets>=7.5.0->fairlearn==0.4.6) (19.0.1)\n",
      "Requirement already satisfied: pyrsistent>=0.14.0 in /Users/carinalewandowski/opt/anaconda3/lib/python3.8/site-packages (from jsonschema!=2.5.0,>=2.4->nbformat>=4.2.0->ipywidgets>=7.5.0->fairlearn==0.4.6) (0.16.0)\n",
      "Requirement already satisfied: attrs>=17.4.0 in /Users/carinalewandowski/opt/anaconda3/lib/python3.8/site-packages (from jsonschema!=2.5.0,>=2.4->nbformat>=4.2.0->ipywidgets>=7.5.0->fairlearn==0.4.6) (19.3.0)\n",
      "Requirement already satisfied: prometheus-client in /Users/carinalewandowski/opt/anaconda3/lib/python3.8/site-packages (from notebook>=4.4.1->widgetsnbextension~=3.5.0->ipywidgets>=7.5.0->fairlearn==0.4.6) (0.8.0)\n",
      "Requirement already satisfied: Send2Trash in /Users/carinalewandowski/opt/anaconda3/lib/python3.8/site-packages (from notebook>=4.4.1->widgetsnbextension~=3.5.0->ipywidgets>=7.5.0->fairlearn==0.4.6) (1.5.0)\n",
      "Requirement already satisfied: jinja2 in /Users/carinalewandowski/opt/anaconda3/lib/python3.8/site-packages (from notebook>=4.4.1->widgetsnbextension~=3.5.0->ipywidgets>=7.5.0->fairlearn==0.4.6) (2.11.2)\n",
      "Requirement already satisfied: nbconvert in /Users/carinalewandowski/opt/anaconda3/lib/python3.8/site-packages (from notebook>=4.4.1->widgetsnbextension~=3.5.0->ipywidgets>=7.5.0->fairlearn==0.4.6) (5.6.1)\n",
      "Requirement already satisfied: terminado>=0.8.1 in /Users/carinalewandowski/opt/anaconda3/lib/python3.8/site-packages (from notebook>=4.4.1->widgetsnbextension~=3.5.0->ipywidgets>=7.5.0->fairlearn==0.4.6) (0.8.3)\n",
      "Requirement already satisfied: parso<0.8.0,>=0.7.0 in /Users/carinalewandowski/opt/anaconda3/lib/python3.8/site-packages (from jedi>=0.10->ipython>=4.0.0; python_version >= \"3.3\"->ipywidgets>=7.5.0->fairlearn==0.4.6) (0.7.0)\n",
      "Requirement already satisfied: wcwidth in /Users/carinalewandowski/opt/anaconda3/lib/python3.8/site-packages (from prompt-toolkit!=3.0.0,!=3.0.1,<3.1.0,>=2.0.0->ipython>=4.0.0; python_version >= \"3.3\"->ipywidgets>=7.5.0->fairlearn==0.4.6) (0.2.5)\n",
      "Requirement already satisfied: ptyprocess>=0.5 in /Users/carinalewandowski/opt/anaconda3/lib/python3.8/site-packages (from pexpect; sys_platform != \"win32\"->ipython>=4.0.0; python_version >= \"3.3\"->ipywidgets>=7.5.0->fairlearn==0.4.6) (0.6.0)\n",
      "Requirement already satisfied: MarkupSafe>=0.23 in /Users/carinalewandowski/opt/anaconda3/lib/python3.8/site-packages (from jinja2->notebook>=4.4.1->widgetsnbextension~=3.5.0->ipywidgets>=7.5.0->fairlearn==0.4.6) (1.1.1)\n",
      "Requirement already satisfied: defusedxml in /Users/carinalewandowski/opt/anaconda3/lib/python3.8/site-packages (from nbconvert->notebook>=4.4.1->widgetsnbextension~=3.5.0->ipywidgets>=7.5.0->fairlearn==0.4.6) (0.6.0)\n",
      "Requirement already satisfied: entrypoints>=0.2.2 in /Users/carinalewandowski/opt/anaconda3/lib/python3.8/site-packages (from nbconvert->notebook>=4.4.1->widgetsnbextension~=3.5.0->ipywidgets>=7.5.0->fairlearn==0.4.6) (0.3)\n",
      "Requirement already satisfied: pandocfilters>=1.4.1 in /Users/carinalewandowski/opt/anaconda3/lib/python3.8/site-packages (from nbconvert->notebook>=4.4.1->widgetsnbextension~=3.5.0->ipywidgets>=7.5.0->fairlearn==0.4.6) (1.4.2)\n",
      "Requirement already satisfied: testpath in /Users/carinalewandowski/opt/anaconda3/lib/python3.8/site-packages (from nbconvert->notebook>=4.4.1->widgetsnbextension~=3.5.0->ipywidgets>=7.5.0->fairlearn==0.4.6) (0.4.4)\n",
      "Requirement already satisfied: mistune<2,>=0.8.1 in /Users/carinalewandowski/opt/anaconda3/lib/python3.8/site-packages (from nbconvert->notebook>=4.4.1->widgetsnbextension~=3.5.0->ipywidgets>=7.5.0->fairlearn==0.4.6) (0.8.4)\n",
      "Requirement already satisfied: bleach in /Users/carinalewandowski/opt/anaconda3/lib/python3.8/site-packages (from nbconvert->notebook>=4.4.1->widgetsnbextension~=3.5.0->ipywidgets>=7.5.0->fairlearn==0.4.6) (3.1.5)\n",
      "Requirement already satisfied: webencodings in /Users/carinalewandowski/opt/anaconda3/lib/python3.8/site-packages (from bleach->nbconvert->notebook>=4.4.1->widgetsnbextension~=3.5.0->ipywidgets>=7.5.0->fairlearn==0.4.6) (0.5.1)\n",
      "Requirement already satisfied: packaging in /Users/carinalewandowski/opt/anaconda3/lib/python3.8/site-packages (from bleach->nbconvert->notebook>=4.4.1->widgetsnbextension~=3.5.0->ipywidgets>=7.5.0->fairlearn==0.4.6) (20.4)\n",
      "Requirement already satisfied: pyparsing>=2.0.2 in /Users/carinalewandowski/opt/anaconda3/lib/python3.8/site-packages (from packaging->bleach->nbconvert->notebook>=4.4.1->widgetsnbextension~=3.5.0->ipywidgets>=7.5.0->fairlearn==0.4.6) (2.4.7)\n",
      "Installing collected packages: fairlearn\n",
      "  Attempting uninstall: fairlearn\n",
      "    Found existing installation: fairlearn 0.6.1\n",
      "    Uninstalling fairlearn-0.6.1:\n",
      "      Successfully uninstalled fairlearn-0.6.1\n",
      "Successfully installed fairlearn-0.4.6\n"
     ]
    }
   ],
   "source": [
    "!pip install aif360\n",
    "!pip install BlackBoxAuditing\n",
    "!pip install fairlearn==0.4.6"
   ]
  },
  {
   "cell_type": "markdown",
   "metadata": {},
   "source": [
    "# Load and Split Data"
   ]
  },
  {
   "cell_type": "code",
   "execution_count": 115,
   "metadata": {
    "scrolled": true
   },
   "outputs": [],
   "source": [
    "from aif360.datasets import AdultDataset, BinaryLabelDataset"
   ]
  },
  {
   "cell_type": "code",
   "execution_count": 122,
   "metadata": {},
   "outputs": [],
   "source": [
    "adult_numerical = pd.read_csv('fairness/data/preprocessed/adult_numerical.csv')\n",
    "filtered_idx = adult_numerical['race'] != 'Other'\n",
    "adult_numerical = adult_numerical[filtered_idx]\n",
    "adult_numerical['race-sex'] = adult_numerical['race-sex'].astype('category').cat.codes\n",
    "adult_numerical['race'] = adult_numerical['race-sex'].astype('category').cat.codes"
   ]
  },
  {
   "cell_type": "code",
   "execution_count": null,
   "metadata": {},
   "outputs": [],
   "source": [
    "# TO FINISH\n",
    "adult_binary = BinaryLabelDataset(df=adult_numerical,\n",
    "                                  label_names=['<=50K', '>50K'], \n",
    "                                  protected_attribute_names=['race', 'sex'], \n",
    "                                  instance_weights_name=None, \n",
    "                                  scores_names=[], \n",
    "                                  unprivileged_protected_attributes=[], \n",
    "                                  privileged_protected_attributes=[], \n",
    "                                  metadata=None)"
   ]
  },
  {
   "cell_type": "code",
   "execution_count": null,
   "metadata": {},
   "outputs": [],
   "source": [
    "aif360.datasets.StructuredDataset(df, label_names, protected_attribute_names, instance_weights_name=None, scores_names=[], unprivileged_protected_attributes=[], privileged_protected_attributes=[], metadata=None)"
   ]
  },
  {
   "cell_type": "code",
   "execution_count": 4,
   "metadata": {},
   "outputs": [
    {
     "name": "stderr",
     "output_type": "stream",
     "text": [
      "WARNING:root:Missing Data: 3620 rows removed from AdultDataset.\n"
     ]
    }
   ],
   "source": [
    "ad = AdultDataset(instance_weights_name='fnlwgt', features_to_drop=[])"
   ]
  },
  {
   "cell_type": "code",
   "execution_count": 5,
   "metadata": {},
   "outputs": [],
   "source": [
    "ad_train, ad_test = ad.split(2)"
   ]
  },
  {
   "cell_type": "markdown",
   "metadata": {},
   "source": [
    "# Unconstrained Model"
   ]
  },
  {
   "cell_type": "code",
   "execution_count": 6,
   "metadata": {},
   "outputs": [],
   "source": [
    "from sklearn.linear_model import LogisticRegression\n",
    "from copy import deepcopy\n",
    "from aif360.metrics import ClassificationMetric"
   ]
  },
  {
   "cell_type": "code",
   "execution_count": 7,
   "metadata": {},
   "outputs": [],
   "source": [
    "ad_df_train, ad_attrs_train = ad_train.convert_to_dataframe(de_dummy_code=False, sep='=', set_category=True)\n",
    "ad_df_test, ad_attrs_test = ad_test.convert_to_dataframe(de_dummy_code=False, sep='=', set_category=True)"
   ]
  },
  {
   "cell_type": "code",
   "execution_count": 8,
   "metadata": {},
   "outputs": [],
   "source": [
    "Y_train = np.array(ad_df_train[['income-per-year']]).reshape(((len(ad_df_train),))).astype(int)\n",
    "Xs_train = np.array(ad_df_train.drop(columns='income-per-year'))\n",
    "Y_test = np.array(ad_df_test[['income-per-year']]).reshape(((len(ad_df_test),))).astype(int)\n",
    "Xs_test = np.array(ad_df_test.drop(columns='income-per-year'))"
   ]
  },
  {
   "cell_type": "code",
   "execution_count": 9,
   "metadata": {},
   "outputs": [],
   "source": [
    "clf = LogisticRegression(max_iter = 300, solver='liblinear').fit(Xs_train, Y_train)"
   ]
  },
  {
   "cell_type": "code",
   "execution_count": 10,
   "metadata": {},
   "outputs": [],
   "source": [
    "predicted_labels_train = clf.predict(Xs_train).reshape((len(Y_train), 1))\n",
    "predicted_labels = clf.predict(Xs_test).reshape((len(Y_test), 1))"
   ]
  },
  {
   "cell_type": "code",
   "execution_count": 11,
   "metadata": {},
   "outputs": [],
   "source": [
    "ad_pred = deepcopy(ad_test)\n",
    "ad_pred_train = deepcopy(ad_train)\n",
    "ad_pred.labels = predicted_labels\n",
    "ad_pred_train.labels = predicted_labels_train"
   ]
  },
  {
   "cell_type": "code",
   "execution_count": 12,
   "metadata": {},
   "outputs": [
    {
     "name": "stdout",
     "output_type": "stream",
     "text": [
      "Original Test Accuracy: 0.8516964899300383\n",
      "Original Demographic Parity ratio: 0.5652787213393603\n",
      "Original Average Absolute Odds diff: 0.049887323350057494\n"
     ]
    }
   ],
   "source": [
    "u = [{'race': 0}]\n",
    "p = [{'race': 1}]\n",
    "metrics = ClassificationMetric(ad_test,ad_pred,unprivileged_groups=u, privileged_groups=p)\n",
    "test_acc = metrics.accuracy()\n",
    "DI = metrics.disparate_impact()\n",
    "EO = metrics.average_abs_odds_difference()\n",
    "print('Original Test Accuracy:', test_acc)\n",
    "print('Original Demographic Parity ratio:', DI)\n",
    "print('Original Average Absolute Odds diff:', EO)"
   ]
  },
  {
   "cell_type": "code",
   "execution_count": 13,
   "metadata": {},
   "outputs": [],
   "source": [
    "from mia.membership_inference_attacks import black_box_benchmarks"
   ]
  },
  {
   "cell_type": "code",
   "execution_count": 14,
   "metadata": {},
   "outputs": [],
   "source": [
    "# Membership inference attack\n",
    "\n",
    "# train shadow model\n",
    "shadow_train, shadow_test = ad_test.split(2)\n",
    "shadow_train_df, _ = shadow_train.convert_to_dataframe(de_dummy_code=False, sep='=', set_category=True)\n",
    "shadow_test_df, _ = shadow_test.convert_to_dataframe(de_dummy_code=False, sep='=', set_category=True)\n",
    "shadow_Y_train = np.array(shadow_train_df[['income-per-year']]).reshape(((len(shadow_train_df),))).astype(int)\n",
    "shadow_Xs_train = np.array(shadow_train_df.drop(columns='income-per-year'))\n",
    "shadow_Y_test = np.array(shadow_test_df[['income-per-year']]).reshape(((len(shadow_test_df),))).astype(int)\n",
    "shadow_Xs_test = np.array(shadow_test_df.drop(columns='income-per-year'))\n",
    "\n",
    "true_pred_on_shadow_train = clf.predict(shadow_Xs_train)\n",
    "true_pred_on_shadow_test = clf.predict(shadow_Xs_test)\n",
    "\n",
    "shadow_model = LogisticRegression(max_iter = 300, solver='liblinear').fit(shadow_Xs_train, true_pred_on_shadow_train)\n"
   ]
  },
  {
   "cell_type": "code",
   "execution_count": 15,
   "metadata": {},
   "outputs": [],
   "source": [
    "# get outputs\n",
    "shadow_out_train = shadow_model.predict_proba(shadow_Xs_train)\n",
    "shadow_out_test = shadow_model.predict_proba(shadow_Xs_test)\n",
    "true_model_train = clf.predict_proba(Xs_train)\n",
    "true_model_test = clf.predict_proba(Xs_test)"
   ]
  },
  {
   "cell_type": "code",
   "execution_count": 16,
   "metadata": {},
   "outputs": [],
   "source": [
    "shadow_train_performance = (shadow_out_train, true_pred_on_shadow_train)\n",
    "shadow_test_performance = (shadow_out_test, true_pred_on_shadow_test)\n",
    "target_train_performance = (true_model_train, Y_train)\n",
    "target_test_performance = (true_model_test, Y_test)"
   ]
  },
  {
   "cell_type": "code",
   "execution_count": 17,
   "metadata": {},
   "outputs": [
    {
     "data": {
      "text/html": [
       "<div>\n",
       "<style scoped>\n",
       "    .dataframe tbody tr th:only-of-type {\n",
       "        vertical-align: middle;\n",
       "    }\n",
       "\n",
       "    .dataframe tbody tr th {\n",
       "        vertical-align: top;\n",
       "    }\n",
       "\n",
       "    .dataframe thead th {\n",
       "        text-align: right;\n",
       "    }\n",
       "</style>\n",
       "<table border=\"1\" class=\"dataframe\">\n",
       "  <thead>\n",
       "    <tr style=\"text-align: right;\">\n",
       "      <th></th>\n",
       "      <th>age</th>\n",
       "      <th>education-num</th>\n",
       "      <th>race</th>\n",
       "      <th>sex</th>\n",
       "      <th>capital-gain</th>\n",
       "      <th>capital-loss</th>\n",
       "      <th>hours-per-week</th>\n",
       "      <th>workclass=Federal-gov</th>\n",
       "      <th>workclass=Local-gov</th>\n",
       "      <th>workclass=Private</th>\n",
       "      <th>...</th>\n",
       "      <th>native-country=Puerto-Rico</th>\n",
       "      <th>native-country=Scotland</th>\n",
       "      <th>native-country=South</th>\n",
       "      <th>native-country=Taiwan</th>\n",
       "      <th>native-country=Thailand</th>\n",
       "      <th>native-country=Trinadad&amp;Tobago</th>\n",
       "      <th>native-country=United-States</th>\n",
       "      <th>native-country=Vietnam</th>\n",
       "      <th>native-country=Yugoslavia</th>\n",
       "      <th>income-per-year</th>\n",
       "    </tr>\n",
       "  </thead>\n",
       "  <tbody>\n",
       "    <tr>\n",
       "      <th>24471</th>\n",
       "      <td>23.0</td>\n",
       "      <td>9.0</td>\n",
       "      <td>1.0</td>\n",
       "      <td>0.0</td>\n",
       "      <td>0.0</td>\n",
       "      <td>0.0</td>\n",
       "      <td>33.0</td>\n",
       "      <td>0.0</td>\n",
       "      <td>0.0</td>\n",
       "      <td>1.0</td>\n",
       "      <td>...</td>\n",
       "      <td>0.0</td>\n",
       "      <td>0.0</td>\n",
       "      <td>0.0</td>\n",
       "      <td>0.0</td>\n",
       "      <td>0.0</td>\n",
       "      <td>0.0</td>\n",
       "      <td>1.0</td>\n",
       "      <td>0.0</td>\n",
       "      <td>0.0</td>\n",
       "      <td>0.0</td>\n",
       "    </tr>\n",
       "    <tr>\n",
       "      <th>24472</th>\n",
       "      <td>40.0</td>\n",
       "      <td>14.0</td>\n",
       "      <td>1.0</td>\n",
       "      <td>0.0</td>\n",
       "      <td>0.0</td>\n",
       "      <td>1876.0</td>\n",
       "      <td>35.0</td>\n",
       "      <td>0.0</td>\n",
       "      <td>1.0</td>\n",
       "      <td>0.0</td>\n",
       "      <td>...</td>\n",
       "      <td>0.0</td>\n",
       "      <td>0.0</td>\n",
       "      <td>0.0</td>\n",
       "      <td>0.0</td>\n",
       "      <td>0.0</td>\n",
       "      <td>0.0</td>\n",
       "      <td>1.0</td>\n",
       "      <td>0.0</td>\n",
       "      <td>0.0</td>\n",
       "      <td>0.0</td>\n",
       "    </tr>\n",
       "    <tr>\n",
       "      <th>24473</th>\n",
       "      <td>45.0</td>\n",
       "      <td>10.0</td>\n",
       "      <td>1.0</td>\n",
       "      <td>0.0</td>\n",
       "      <td>0.0</td>\n",
       "      <td>0.0</td>\n",
       "      <td>35.0</td>\n",
       "      <td>0.0</td>\n",
       "      <td>0.0</td>\n",
       "      <td>0.0</td>\n",
       "      <td>...</td>\n",
       "      <td>0.0</td>\n",
       "      <td>0.0</td>\n",
       "      <td>0.0</td>\n",
       "      <td>0.0</td>\n",
       "      <td>0.0</td>\n",
       "      <td>0.0</td>\n",
       "      <td>1.0</td>\n",
       "      <td>0.0</td>\n",
       "      <td>0.0</td>\n",
       "      <td>0.0</td>\n",
       "    </tr>\n",
       "    <tr>\n",
       "      <th>24475</th>\n",
       "      <td>22.0</td>\n",
       "      <td>10.0</td>\n",
       "      <td>1.0</td>\n",
       "      <td>1.0</td>\n",
       "      <td>0.0</td>\n",
       "      <td>0.0</td>\n",
       "      <td>40.0</td>\n",
       "      <td>0.0</td>\n",
       "      <td>0.0</td>\n",
       "      <td>1.0</td>\n",
       "      <td>...</td>\n",
       "      <td>0.0</td>\n",
       "      <td>0.0</td>\n",
       "      <td>0.0</td>\n",
       "      <td>0.0</td>\n",
       "      <td>0.0</td>\n",
       "      <td>0.0</td>\n",
       "      <td>1.0</td>\n",
       "      <td>0.0</td>\n",
       "      <td>0.0</td>\n",
       "      <td>0.0</td>\n",
       "    </tr>\n",
       "    <tr>\n",
       "      <th>24476</th>\n",
       "      <td>38.0</td>\n",
       "      <td>13.0</td>\n",
       "      <td>1.0</td>\n",
       "      <td>1.0</td>\n",
       "      <td>0.0</td>\n",
       "      <td>0.0</td>\n",
       "      <td>50.0</td>\n",
       "      <td>0.0</td>\n",
       "      <td>0.0</td>\n",
       "      <td>1.0</td>\n",
       "      <td>...</td>\n",
       "      <td>0.0</td>\n",
       "      <td>0.0</td>\n",
       "      <td>0.0</td>\n",
       "      <td>0.0</td>\n",
       "      <td>0.0</td>\n",
       "      <td>0.0</td>\n",
       "      <td>1.0</td>\n",
       "      <td>0.0</td>\n",
       "      <td>0.0</td>\n",
       "      <td>1.0</td>\n",
       "    </tr>\n",
       "  </tbody>\n",
       "</table>\n",
       "<p>5 rows × 99 columns</p>\n",
       "</div>"
      ],
      "text/plain": [
       "        age  education-num  race  sex  capital-gain  capital-loss  \\\n",
       "24471  23.0            9.0   1.0  0.0           0.0           0.0   \n",
       "24472  40.0           14.0   1.0  0.0           0.0        1876.0   \n",
       "24473  45.0           10.0   1.0  0.0           0.0           0.0   \n",
       "24475  22.0           10.0   1.0  1.0           0.0           0.0   \n",
       "24476  38.0           13.0   1.0  1.0           0.0           0.0   \n",
       "\n",
       "       hours-per-week  workclass=Federal-gov  workclass=Local-gov  \\\n",
       "24471            33.0                    0.0                  0.0   \n",
       "24472            35.0                    0.0                  1.0   \n",
       "24473            35.0                    0.0                  0.0   \n",
       "24475            40.0                    0.0                  0.0   \n",
       "24476            50.0                    0.0                  0.0   \n",
       "\n",
       "       workclass=Private  ...  native-country=Puerto-Rico  \\\n",
       "24471                1.0  ...                         0.0   \n",
       "24472                0.0  ...                         0.0   \n",
       "24473                0.0  ...                         0.0   \n",
       "24475                1.0  ...                         0.0   \n",
       "24476                1.0  ...                         0.0   \n",
       "\n",
       "       native-country=Scotland  native-country=South  native-country=Taiwan  \\\n",
       "24471                      0.0                   0.0                    0.0   \n",
       "24472                      0.0                   0.0                    0.0   \n",
       "24473                      0.0                   0.0                    0.0   \n",
       "24475                      0.0                   0.0                    0.0   \n",
       "24476                      0.0                   0.0                    0.0   \n",
       "\n",
       "       native-country=Thailand  native-country=Trinadad&Tobago  \\\n",
       "24471                      0.0                             0.0   \n",
       "24472                      0.0                             0.0   \n",
       "24473                      0.0                             0.0   \n",
       "24475                      0.0                             0.0   \n",
       "24476                      0.0                             0.0   \n",
       "\n",
       "       native-country=United-States  native-country=Vietnam  \\\n",
       "24471                           1.0                     0.0   \n",
       "24472                           1.0                     0.0   \n",
       "24473                           1.0                     0.0   \n",
       "24475                           1.0                     0.0   \n",
       "24476                           1.0                     0.0   \n",
       "\n",
       "       native-country=Yugoslavia  income-per-year  \n",
       "24471                        0.0              0.0  \n",
       "24472                        0.0              0.0  \n",
       "24473                        0.0              0.0  \n",
       "24475                        0.0              0.0  \n",
       "24476                        0.0              1.0  \n",
       "\n",
       "[5 rows x 99 columns]"
      ]
     },
     "execution_count": 17,
     "metadata": {},
     "output_type": "execute_result"
    }
   ],
   "source": [
    "shadow_train_df.head()"
   ]
  },
  {
   "cell_type": "code",
   "execution_count": 18,
   "metadata": {},
   "outputs": [],
   "source": [
    "shadow_train_df['race-sex'] = shadow_train_df['race'].astype(str) + '-' + shadow_train_df['sex'].astype(str)\n",
    "shadow_train_df['race-sex'] = shadow_train_df['race-sex'].astype('category').cat.codes\n",
    "shadow_test_df['race-sex'] = shadow_test_df['race'].astype(str) + '-' + shadow_test_df['sex'].astype(str)\n",
    "shadow_test_df['race-sex'] = shadow_test_df['race-sex'].astype('category').cat.codes\n",
    "ad_df_train['race-sex'] = ad_df_train['race'].astype(str) + '-' + ad_df_train['sex'].astype(str)\n",
    "ad_df_train['race-sex'] = ad_df_train['race-sex'].astype('category').cat.codes\n",
    "ad_df_test['race-sex'] = ad_df_test['race'].astype(str) + '-' + ad_df_test['sex'].astype(str)\n",
    "ad_df_test['race-sex'] = ad_df_test['race-sex'].astype('category').cat.codes"
   ]
  },
  {
   "cell_type": "code",
   "execution_count": 19,
   "metadata": {},
   "outputs": [],
   "source": [
    "# run MIA\n",
    "MIA = black_box_benchmarks(shadow_train_performance,shadow_test_performance,\n",
    "                         target_train_performance,target_test_performance,num_classes=2)"
   ]
  },
  {
   "cell_type": "code",
   "execution_count": 20,
   "metadata": {},
   "outputs": [
    {
     "name": "stdout",
     "output_type": "stream",
     "text": [
      "For membership inference attack via correctness, the attack acc is 0.500, with train acc 0.847 and test acc 0.848\n",
      "For membership inference attack via confidence, group attr 0, the attack acc is 0.533\n",
      "For membership inference attack via confidence, group attr 1, the attack acc is 0.515\n",
      "For membership inference attack via confidence, group attr 2, the attack acc is 0.506\n",
      "For membership inference attack via confidence, group attr 3, the attack acc is 0.505\n",
      "For membership inference attack via confidence, the shadow attack acc is 0.509\n",
      "For membership inference attack via confidence, the attack acc is 0.499\n",
      "For membership inference attack via entropy, group attr 0, the attack acc is 0.533\n",
      "For membership inference attack via entropy, group attr 1, the attack acc is 0.515\n",
      "For membership inference attack via entropy, group attr 2, the attack acc is 0.505\n",
      "For membership inference attack via entropy, group attr 3, the attack acc is 0.505\n",
      "For membership inference attack via entropy, the shadow attack acc is 0.509\n",
      "For membership inference attack via entropy, the attack acc is 0.497\n",
      "For membership inference attack via modified entropy, group attr 0, the attack acc is 0.533\n",
      "For membership inference attack via modified entropy, group attr 1, the attack acc is 0.515\n",
      "For membership inference attack via modified entropy, group attr 2, the attack acc is 0.506\n",
      "For membership inference attack via modified entropy, group attr 3, the attack acc is 0.505\n",
      "For membership inference attack via modified entropy, the shadow attack acc is 0.509\n",
      "For membership inference attack via modified entropy, the attack acc is 0.499\n",
      "For membership inference attack via confidence, the attack acc is 0.498\n",
      "For membership inference attack via entropy, the attack acc is 0.497\n",
      "For membership inference attack via modified entropy, the attack acc is 0.498\n"
     ]
    }
   ],
   "source": [
    "MIA._mem_inf_benchmarks(shadow_train_df['race-sex'].astype(int), shadow_test_df['race-sex'].astype(int), ad_df_train['race-sex'].astype(int), ad_df_test['race-sex'].astype(int))"
   ]
  },
  {
   "cell_type": "markdown",
   "metadata": {},
   "source": [
    "# Privacy Risk Score Analysis"
   ]
  },
  {
   "cell_type": "code",
   "execution_count": 52,
   "metadata": {},
   "outputs": [],
   "source": [
    "from mia.privacy_risk_score_utils import calculate_risk_score"
   ]
  },
  {
   "cell_type": "code",
   "execution_count": 67,
   "metadata": {},
   "outputs": [],
   "source": [
    "tr_values = MIA._entr_comp(shadow_out_train)\n",
    "te_values = MIA._entr_comp(shadow_out_test)\n",
    "data_values = MIA._entr_comp(true_model_train)"
   ]
  },
  {
   "cell_type": "code",
   "execution_count": 106,
   "metadata": {},
   "outputs": [],
   "source": [
    "# get risk scores\n",
    "risk_scores = calculate_risk_score(tr_values, te_values, \n",
    "                                   true_pred_on_shadow_train, \n",
    "                                   true_pred_on_shadow_test, \n",
    "                                   data_values, Y_train, num_bins=5, log_bins=True)"
   ]
  },
  {
   "cell_type": "code",
   "execution_count": 95,
   "metadata": {},
   "outputs": [],
   "source": [
    "white_idx = ad_df_train['race'] == 1\n",
    "nonwhite_idx = ad_df_train['race'] == 0\n",
    "male_idx = ad_df_train['sex'] == 1\n",
    "female_idx = ad_df_train['sex'] == 0\n",
    "income_above_idx = ad_df_train['income-per-year'] == 1\n",
    "income_below_idx = ad_df_train['income-per-year'] == 0"
   ]
  },
  {
   "cell_type": "code",
   "execution_count": 96,
   "metadata": {},
   "outputs": [],
   "source": [
    "plt.clf()\n",
    "plt.hist(risk_scores[white_idx])\n",
    "plt.savefig('white.png')"
   ]
  },
  {
   "cell_type": "code",
   "execution_count": 97,
   "metadata": {},
   "outputs": [],
   "source": [
    "plt.clf()\n",
    "plt.hist(risk_scores[nonwhite_idx])\n",
    "plt.savefig('nonwhite.png')"
   ]
  },
  {
   "cell_type": "code",
   "execution_count": 109,
   "metadata": {},
   "outputs": [],
   "source": [
    "plt.clf()\n",
    "plt.hist(risk_scores[male_idx])\n",
    "plt.savefig('male.png')"
   ]
  },
  {
   "cell_type": "code",
   "execution_count": 110,
   "metadata": {},
   "outputs": [],
   "source": [
    "plt.clf()\n",
    "plt.hist(risk_scores[female_idx])\n",
    "plt.savefig('female.png')"
   ]
  },
  {
   "cell_type": "code",
   "execution_count": 108,
   "metadata": {},
   "outputs": [],
   "source": [
    "plt.clf()\n",
    "plt.hist(risk_scores[income_above_idx])\n",
    "plt.savefig('income_above.png')"
   ]
  },
  {
   "cell_type": "code",
   "execution_count": 107,
   "metadata": {},
   "outputs": [],
   "source": [
    "plt.clf()\n",
    "plt.hist(risk_scores[income_below_idx])\n",
    "plt.savefig('income_below.png')"
   ]
  },
  {
   "cell_type": "markdown",
   "metadata": {},
   "source": [
    "# Demographic Parity (Independence)"
   ]
  },
  {
   "cell_type": "markdown",
   "metadata": {},
   "source": [
    "## Feldman et al. Repair (Preprocessing)"
   ]
  },
  {
   "cell_type": "code",
   "execution_count": 21,
   "metadata": {
    "scrolled": true
   },
   "outputs": [],
   "source": [
    "import aif360.algorithms.preprocessing as AIF"
   ]
  },
  {
   "cell_type": "code",
   "execution_count": 22,
   "metadata": {},
   "outputs": [],
   "source": [
    "repairer = AIF.DisparateImpactRemover(repair_level=1.0, sensitive_attribute='race')\n",
    "repaired_train = repairer.fit_transform(ad_train)\n",
    "repaired_test = repairer.fit_transform(ad_test)"
   ]
  },
  {
   "cell_type": "code",
   "execution_count": 23,
   "metadata": {},
   "outputs": [],
   "source": [
    "repaired_df_train, repaired_attrs_train = repaired_train.convert_to_dataframe(de_dummy_code=False, sep='=', set_category=True)\n",
    "repaired_df_test, repaired_attrs_test = repaired_test.convert_to_dataframe(de_dummy_code=False, sep='=', set_category=True)"
   ]
  },
  {
   "cell_type": "code",
   "execution_count": 24,
   "metadata": {},
   "outputs": [],
   "source": [
    "Y_rep_train = np.array(repaired_df_train[['income-per-year']]).reshape(((len(repaired_df_train),)))\n",
    "Xs_rep_train = np.array(repaired_df_train.drop(columns='income-per-year'))\n",
    "\n",
    "Y_rep_test = np.array(repaired_df_test[['income-per-year']]).reshape(((len(repaired_df_test),)))\n",
    "Xs_rep_test = np.array(repaired_df_test.drop(columns='income-per-year'))"
   ]
  },
  {
   "cell_type": "code",
   "execution_count": 25,
   "metadata": {},
   "outputs": [],
   "source": [
    "clf_rep = LogisticRegression(max_iter = 300, solver='liblinear').fit(Xs_rep_train, Y_rep_train)"
   ]
  },
  {
   "cell_type": "code",
   "execution_count": 26,
   "metadata": {},
   "outputs": [],
   "source": [
    "predicted_labels_rep = clf_rep.predict(Xs_rep_test).reshape((len(Y_rep_test), 1))"
   ]
  },
  {
   "cell_type": "code",
   "execution_count": 27,
   "metadata": {},
   "outputs": [],
   "source": [
    "ad_pred_rep = deepcopy(ad_test)\n",
    "ad_pred_rep.labels = predicted_labels_rep"
   ]
  },
  {
   "cell_type": "code",
   "execution_count": 28,
   "metadata": {},
   "outputs": [
    {
     "name": "stdout",
     "output_type": "stream",
     "text": [
      "Repair Test Accuracy: 0.8529882411264145\n",
      "Repair Demographic Parity ratio: 0.5042660361320814\n",
      "Repair Average Absolute Odds diff: 0.070722554642618\n"
     ]
    }
   ],
   "source": [
    "metrics_rep = ClassificationMetric(ad_test,ad_pred_rep,unprivileged_groups=u, privileged_groups=p)\n",
    "test_acc_rep = metrics_rep.accuracy()\n",
    "DI_rep = metrics_rep.disparate_impact()\n",
    "EO_rep = metrics_rep.average_abs_odds_difference()\n",
    "print('Repair Test Accuracy:', test_acc_rep)\n",
    "print('Repair Demographic Parity ratio:', DI_rep)\n",
    "print('Repair Average Absolute Odds diff:', EO_rep)"
   ]
  },
  {
   "cell_type": "markdown",
   "metadata": {},
   "source": [
    "## Kamishima et al. Regularization (Regularization)"
   ]
  },
  {
   "cell_type": "code",
   "execution_count": 29,
   "metadata": {
    "scrolled": true
   },
   "outputs": [
    {
     "name": "stdout",
     "output_type": "stream",
     "text": [
      "Requirement already satisfied: tensorflow in /Users/carinalewandowski/opt/anaconda3/lib/python3.8/site-packages (2.4.1)\n",
      "Requirement already satisfied: wrapt~=1.12.1 in /Users/carinalewandowski/opt/anaconda3/lib/python3.8/site-packages (from tensorflow) (1.12.1)\n",
      "Requirement already satisfied: numpy~=1.19.2 in /Users/carinalewandowski/opt/anaconda3/lib/python3.8/site-packages (from tensorflow) (1.19.5)\n",
      "Requirement already satisfied: six~=1.15.0 in /Users/carinalewandowski/opt/anaconda3/lib/python3.8/site-packages (from tensorflow) (1.15.0)\n",
      "Requirement already satisfied: h5py~=2.10.0 in /Users/carinalewandowski/opt/anaconda3/lib/python3.8/site-packages (from tensorflow) (2.10.0)\n",
      "Requirement already satisfied: grpcio~=1.32.0 in /Users/carinalewandowski/opt/anaconda3/lib/python3.8/site-packages (from tensorflow) (1.32.0)\n",
      "Requirement already satisfied: astunparse~=1.6.3 in /Users/carinalewandowski/opt/anaconda3/lib/python3.8/site-packages (from tensorflow) (1.6.3)\n",
      "Requirement already satisfied: keras-preprocessing~=1.1.2 in /Users/carinalewandowski/opt/anaconda3/lib/python3.8/site-packages (from tensorflow) (1.1.2)\n",
      "Requirement already satisfied: flatbuffers~=1.12.0 in /Users/carinalewandowski/opt/anaconda3/lib/python3.8/site-packages (from tensorflow) (1.12)\n",
      "Requirement already satisfied: absl-py~=0.10 in /Users/carinalewandowski/opt/anaconda3/lib/python3.8/site-packages (from tensorflow) (0.12.0)\n",
      "Requirement already satisfied: termcolor~=1.1.0 in /Users/carinalewandowski/opt/anaconda3/lib/python3.8/site-packages (from tensorflow) (1.1.0)\n",
      "Requirement already satisfied: protobuf>=3.9.2 in /Users/carinalewandowski/opt/anaconda3/lib/python3.8/site-packages (from tensorflow) (3.15.8)\n",
      "Requirement already satisfied: google-pasta~=0.2 in /Users/carinalewandowski/opt/anaconda3/lib/python3.8/site-packages (from tensorflow) (0.2.0)\n",
      "Requirement already satisfied: opt-einsum~=3.3.0 in /Users/carinalewandowski/opt/anaconda3/lib/python3.8/site-packages (from tensorflow) (3.3.0)\n",
      "Requirement already satisfied: tensorboard~=2.4 in /Users/carinalewandowski/opt/anaconda3/lib/python3.8/site-packages (from tensorflow) (2.5.0)\n",
      "Requirement already satisfied: tensorflow-estimator<2.5.0,>=2.4.0 in /Users/carinalewandowski/opt/anaconda3/lib/python3.8/site-packages (from tensorflow) (2.4.0)\n",
      "Requirement already satisfied: wheel~=0.35 in /Users/carinalewandowski/opt/anaconda3/lib/python3.8/site-packages (from tensorflow) (0.36.2)\n",
      "Requirement already satisfied: gast==0.3.3 in /Users/carinalewandowski/opt/anaconda3/lib/python3.8/site-packages (from tensorflow) (0.3.3)\n",
      "Requirement already satisfied: typing-extensions~=3.7.4 in /Users/carinalewandowski/opt/anaconda3/lib/python3.8/site-packages (from tensorflow) (3.7.4.2)\n",
      "Requirement already satisfied: tensorboard-data-server<0.7.0,>=0.6.0 in /Users/carinalewandowski/opt/anaconda3/lib/python3.8/site-packages (from tensorboard~=2.4->tensorflow) (0.6.0)\n",
      "Requirement already satisfied: tensorboard-plugin-wit>=1.6.0 in /Users/carinalewandowski/opt/anaconda3/lib/python3.8/site-packages (from tensorboard~=2.4->tensorflow) (1.8.0)\n",
      "Requirement already satisfied: google-auth<2,>=1.6.3 in /Users/carinalewandowski/opt/anaconda3/lib/python3.8/site-packages (from tensorboard~=2.4->tensorflow) (1.29.0)\n",
      "Requirement already satisfied: requests<3,>=2.21.0 in /Users/carinalewandowski/opt/anaconda3/lib/python3.8/site-packages (from tensorboard~=2.4->tensorflow) (2.24.0)\n",
      "Requirement already satisfied: werkzeug>=0.11.15 in /Users/carinalewandowski/opt/anaconda3/lib/python3.8/site-packages (from tensorboard~=2.4->tensorflow) (1.0.1)\n",
      "Requirement already satisfied: markdown>=2.6.8 in /Users/carinalewandowski/opt/anaconda3/lib/python3.8/site-packages (from tensorboard~=2.4->tensorflow) (3.3.4)\n",
      "Requirement already satisfied: google-auth-oauthlib<0.5,>=0.4.1 in /Users/carinalewandowski/opt/anaconda3/lib/python3.8/site-packages (from tensorboard~=2.4->tensorflow) (0.4.4)\n",
      "Requirement already satisfied: setuptools>=41.0.0 in /Users/carinalewandowski/opt/anaconda3/lib/python3.8/site-packages (from tensorboard~=2.4->tensorflow) (49.2.0.post20200714)\n",
      "Requirement already satisfied: rsa<5,>=3.1.4; python_version >= \"3.6\" in /Users/carinalewandowski/opt/anaconda3/lib/python3.8/site-packages (from google-auth<2,>=1.6.3->tensorboard~=2.4->tensorflow) (4.7.2)\n",
      "Requirement already satisfied: cachetools<5.0,>=2.0.0 in /Users/carinalewandowski/opt/anaconda3/lib/python3.8/site-packages (from google-auth<2,>=1.6.3->tensorboard~=2.4->tensorflow) (4.2.1)\n",
      "Requirement already satisfied: pyasn1-modules>=0.2.1 in /Users/carinalewandowski/opt/anaconda3/lib/python3.8/site-packages (from google-auth<2,>=1.6.3->tensorboard~=2.4->tensorflow) (0.2.8)\n",
      "Requirement already satisfied: idna<3,>=2.5 in /Users/carinalewandowski/opt/anaconda3/lib/python3.8/site-packages (from requests<3,>=2.21.0->tensorboard~=2.4->tensorflow) (2.10)\n",
      "Requirement already satisfied: chardet<4,>=3.0.2 in /Users/carinalewandowski/opt/anaconda3/lib/python3.8/site-packages (from requests<3,>=2.21.0->tensorboard~=2.4->tensorflow) (3.0.4)\n",
      "Requirement already satisfied: certifi>=2017.4.17 in /Users/carinalewandowski/opt/anaconda3/lib/python3.8/site-packages (from requests<3,>=2.21.0->tensorboard~=2.4->tensorflow) (2020.6.20)\n",
      "Requirement already satisfied: urllib3!=1.25.0,!=1.25.1,<1.26,>=1.21.1 in /Users/carinalewandowski/opt/anaconda3/lib/python3.8/site-packages (from requests<3,>=2.21.0->tensorboard~=2.4->tensorflow) (1.25.9)\n",
      "Requirement already satisfied: requests-oauthlib>=0.7.0 in /Users/carinalewandowski/opt/anaconda3/lib/python3.8/site-packages (from google-auth-oauthlib<0.5,>=0.4.1->tensorboard~=2.4->tensorflow) (1.3.0)\n",
      "Requirement already satisfied: pyasn1>=0.1.3 in /Users/carinalewandowski/opt/anaconda3/lib/python3.8/site-packages (from rsa<5,>=3.1.4; python_version >= \"3.6\"->google-auth<2,>=1.6.3->tensorboard~=2.4->tensorflow) (0.4.8)\n",
      "Requirement already satisfied: oauthlib>=3.0.0 in /Users/carinalewandowski/opt/anaconda3/lib/python3.8/site-packages (from requests-oauthlib>=0.7.0->google-auth-oauthlib<0.5,>=0.4.1->tensorboard~=2.4->tensorflow) (3.1.0)\n"
     ]
    }
   ],
   "source": [
    "!pip install tensorflow"
   ]
  },
  {
   "cell_type": "code",
   "execution_count": 30,
   "metadata": {},
   "outputs": [],
   "source": [
    "from aif360.algorithms.inprocessing import PrejudiceRemover"
   ]
  },
  {
   "cell_type": "code",
   "execution_count": 31,
   "metadata": {},
   "outputs": [],
   "source": [
    "PrejRemover = PrejudiceRemover(eta=0.1, sensitive_attr='race', class_attr='income-per-year')"
   ]
  },
  {
   "cell_type": "code",
   "execution_count": 32,
   "metadata": {},
   "outputs": [],
   "source": [
    "PrejRemover = PrejRemover.fit(ad_train)\n",
    "kamishima_pred = PrejRemover.predict(ad_test)"
   ]
  },
  {
   "cell_type": "code",
   "execution_count": 33,
   "metadata": {},
   "outputs": [
    {
     "name": "stdout",
     "output_type": "stream",
     "text": [
      "Prej Remover Test Accuracy: 0.84544298717375\n",
      "Prej Remover Demographic Parity ratio: 0.4978427301386072\n",
      "Prej Remover Average Absolute Odds diff: 0.07570807950451995\n"
     ]
    }
   ],
   "source": [
    "metrics_kamishima = ClassificationMetric(ad_test,kamishima_pred,unprivileged_groups=u, privileged_groups=p)\n",
    "test_acc_prej = metrics_kamishima.accuracy()\n",
    "DI_prej = metrics_kamishima.disparate_impact()\n",
    "EO_prej = metrics_kamishima.average_abs_odds_difference()\n",
    "print('Prej Remover Test Accuracy:', test_acc_prej)\n",
    "print('Prej Remover Demographic Parity ratio:', DI_prej)\n",
    "print('Prej Remover Average Absolute Odds diff:', EO_prej)"
   ]
  },
  {
   "cell_type": "markdown",
   "metadata": {},
   "source": [
    "## Agarwal et al (Reduction)"
   ]
  },
  {
   "cell_type": "code",
   "execution_count": 34,
   "metadata": {},
   "outputs": [],
   "source": [
    "from aif360.algorithms.inprocessing.exponentiated_gradient_reduction import ExponentiatedGradientReduction"
   ]
  },
  {
   "cell_type": "code",
   "execution_count": 35,
   "metadata": {},
   "outputs": [],
   "source": [
    "estimator = LogisticRegression(solver='liblinear')\n",
    "np.random.seed(0) #need for reproducibility\n",
    "exp_grad_red_dp = ExponentiatedGradientReduction(estimator=estimator, \n",
    "                                              constraints=\"DemographicParity\",\n",
    "                                              drop_prot_attr=False)"
   ]
  },
  {
   "cell_type": "code",
   "execution_count": 36,
   "metadata": {},
   "outputs": [
    {
     "name": "stderr",
     "output_type": "stream",
     "text": [
      "A column-vector y was passed when a 1d array was expected. Please change the shape of y to (n_samples, ), for example using ravel().\n"
     ]
    }
   ],
   "source": [
    "exp_grad_red_dp.fit(ad_train)\n",
    "exp_grad_red_pred_dp = exp_grad_red_dp.predict(ad_test)"
   ]
  },
  {
   "cell_type": "code",
   "execution_count": 37,
   "metadata": {},
   "outputs": [
    {
     "name": "stdout",
     "output_type": "stream",
     "text": [
      "DP Reduction Test Accuracy: 0.8337852994174766\n",
      "DP Reduction Demographic Parity ratio: 0.9537495729438386\n",
      "DP Reduction Average Absolute Odds diff: 0.0704127959398408\n"
     ]
    }
   ],
   "source": [
    "metrics_red_dp = ClassificationMetric(ad_test,exp_grad_red_pred_dp,unprivileged_groups=u, privileged_groups=p)\n",
    "test_acc_red_dp = metrics_red_dp.accuracy()\n",
    "DI_red_dp = metrics_red_dp.disparate_impact()\n",
    "EO_red_dp = metrics_red_dp.average_abs_odds_difference()\n",
    "print('DP Reduction Test Accuracy:', test_acc_red_dp)\n",
    "print('DP Reduction Demographic Parity ratio:', DI_red_dp)\n",
    "print('DP Reduction Average Absolute Odds diff:', EO_red_dp)"
   ]
  },
  {
   "cell_type": "markdown",
   "metadata": {},
   "source": [
    "# Equalized Odds (Separation)"
   ]
  },
  {
   "cell_type": "markdown",
   "metadata": {},
   "source": [
    "## Hardt et al. (Postprocessing)"
   ]
  },
  {
   "cell_type": "code",
   "execution_count": 38,
   "metadata": {},
   "outputs": [],
   "source": [
    "from aif360.algorithms.postprocessing import EqOddsPostprocessing"
   ]
  },
  {
   "cell_type": "code",
   "execution_count": 39,
   "metadata": {},
   "outputs": [],
   "source": [
    "postprocessing = EqOddsPostprocessing(u, p)"
   ]
  },
  {
   "cell_type": "code",
   "execution_count": 40,
   "metadata": {},
   "outputs": [],
   "source": [
    "postprocessing = postprocessing.fit(ad_train, ad_pred_train)\n",
    "postprocess_pred = postprocessing.predict(ad_pred)"
   ]
  },
  {
   "cell_type": "code",
   "execution_count": 41,
   "metadata": {},
   "outputs": [
    {
     "name": "stdout",
     "output_type": "stream",
     "text": [
      "Postprocessing Test Accuracy: 0.8447642402751687\n",
      "Postprocessing Demographic Parity ratio: 0.7119058923062103\n",
      "Postprocessing Average Absolute Odds diff: 0.012286884883292742\n"
     ]
    }
   ],
   "source": [
    "metrics_post = ClassificationMetric(ad_test,postprocess_pred,unprivileged_groups=u, privileged_groups=p)\n",
    "test_acc_post = metrics_post.accuracy()\n",
    "DI_post = metrics_post.disparate_impact()\n",
    "EO_ppost = metrics_post.average_abs_odds_difference()\n",
    "print('Postprocessing Test Accuracy:', test_acc_post)\n",
    "print('Postprocessing Demographic Parity ratio:', DI_post)\n",
    "print('Postprocessing Average Absolute Odds diff:', EO_ppost)"
   ]
  },
  {
   "cell_type": "markdown",
   "metadata": {},
   "source": [
    "## Agarwal et al (Reduction)"
   ]
  },
  {
   "cell_type": "code",
   "execution_count": 42,
   "metadata": {},
   "outputs": [],
   "source": [
    "estimator = LogisticRegression(solver='liblinear')\n",
    "np.random.seed(0) #need for reproducibility\n",
    "exp_grad_red = ExponentiatedGradientReduction(estimator=estimator, \n",
    "                                              constraints=\"EqualizedOdds\",\n",
    "                                              drop_prot_attr=False)"
   ]
  },
  {
   "cell_type": "code",
   "execution_count": 43,
   "metadata": {},
   "outputs": [
    {
     "name": "stderr",
     "output_type": "stream",
     "text": [
      "A column-vector y was passed when a 1d array was expected. Please change the shape of y to (n_samples, ), for example using ravel().\n"
     ]
    }
   ],
   "source": [
    "exp_grad_red.fit(ad_train)\n",
    "exp_grad_red_pred = exp_grad_red.predict(ad_test)"
   ]
  },
  {
   "cell_type": "code",
   "execution_count": 44,
   "metadata": {},
   "outputs": [
    {
     "name": "stdout",
     "output_type": "stream",
     "text": [
      "EO Reduction Test Accuracy: 0.8390311892594322\n",
      "EO Reduction Demographic Parity ratio: 0.6709987046165171\n",
      "EO Reduction Average Absolute Odds diff: 0.010889519330083027\n"
     ]
    }
   ],
   "source": [
    "metrics_red_eo = ClassificationMetric(ad_test,exp_grad_red_pred,unprivileged_groups=u, privileged_groups=p)\n",
    "test_acc_red_eo = metrics_red_eo.accuracy()\n",
    "DI_red_eo = metrics_red_eo.disparate_impact()\n",
    "EO_red_eo = metrics_red_eo.average_abs_odds_difference()\n",
    "print('EO Reduction Test Accuracy:', test_acc_red_eo)\n",
    "print('EO Reduction Demographic Parity ratio:', DI_red_eo)\n",
    "print('EO Reduction Average Absolute Odds diff:', EO_red_eo)"
   ]
  },
  {
   "cell_type": "code",
   "execution_count": 45,
   "metadata": {},
   "outputs": [
    {
     "name": "stderr",
     "output_type": "stream",
     "text": [
      "A column-vector y was passed when a 1d array was expected. Please change the shape of y to (n_samples, ), for example using ravel().\n"
     ]
    }
   ],
   "source": [
    "# Membership inference attack\n",
    "\n",
    "# train shadow model\n",
    "true_pred_on_shadow_train = exp_grad_red.predict(shadow_train)\n",
    "true_pred_on_shadow_test = exp_grad_red.predict(shadow_test)\n",
    "\n",
    "shadow_model = LogisticRegression(max_iter = 300, solver='liblinear').fit(shadow_Xs_train, true_pred_on_shadow_train.labels)"
   ]
  },
  {
   "cell_type": "code",
   "execution_count": 46,
   "metadata": {},
   "outputs": [],
   "source": [
    "X_df_train = pd.DataFrame(ad_train.features, columns=ad_train.feature_names)\n",
    "X_df_test = pd.DataFrame(ad_test.features, columns=ad_test.feature_names)"
   ]
  },
  {
   "cell_type": "code",
   "execution_count": 47,
   "metadata": {},
   "outputs": [],
   "source": [
    "# get outputs\n",
    "shadow_out_train = shadow_model.predict_proba(shadow_Xs_train)\n",
    "shadow_out_test = shadow_model.predict_proba(shadow_Xs_test)\n",
    "true_model_train = exp_grad_red.model.predict_proba(X_df_train)\n",
    "true_model_test = exp_grad_red.model.predict_proba(X_df_test)"
   ]
  },
  {
   "cell_type": "code",
   "execution_count": 48,
   "metadata": {},
   "outputs": [],
   "source": [
    "true_pred_on_shadow_train = true_pred_on_shadow_train.labels.astype(int).reshape(len(true_pred_on_shadow_train.labels),)\n",
    "true_pred_on_shadow_test = true_pred_on_shadow_test.labels.astype(int).reshape(len(true_pred_on_shadow_test.labels),)"
   ]
  },
  {
   "cell_type": "code",
   "execution_count": 49,
   "metadata": {},
   "outputs": [],
   "source": [
    "shadow_train_performance = (shadow_out_train, true_pred_on_shadow_train)\n",
    "shadow_test_performance = (shadow_out_test, true_pred_on_shadow_test)\n",
    "target_train_performance = (true_model_train, Y_train)\n",
    "target_test_performance = (true_model_test, Y_test)"
   ]
  },
  {
   "cell_type": "code",
   "execution_count": 50,
   "metadata": {},
   "outputs": [],
   "source": [
    "# run MIA\n",
    "MIA = black_box_benchmarks(shadow_train_performance,shadow_test_performance,\n",
    "                         target_train_performance,target_test_performance,num_classes=2)"
   ]
  },
  {
   "cell_type": "code",
   "execution_count": 51,
   "metadata": {},
   "outputs": [
    {
     "name": "stdout",
     "output_type": "stream",
     "text": [
      "For membership inference attack via correctness, the attack acc is 0.499, with train acc 0.846 and test acc 0.847\n",
      "For membership inference attack via confidence, group attr 0, the attack acc is 0.531\n",
      "For membership inference attack via confidence, group attr 1, the attack acc is 0.510\n",
      "For membership inference attack via confidence, group attr 2, the attack acc is 0.508\n",
      "For membership inference attack via confidence, group attr 3, the attack acc is 0.510\n",
      "For membership inference attack via confidence, the shadow attack acc is 0.512\n",
      "For membership inference attack via confidence, the attack acc is 0.501\n",
      "For membership inference attack via entropy, group attr 0, the attack acc is 0.532\n",
      "For membership inference attack via entropy, group attr 1, the attack acc is 0.510\n",
      "For membership inference attack via entropy, group attr 2, the attack acc is 0.507\n",
      "For membership inference attack via entropy, group attr 3, the attack acc is 0.510\n",
      "For membership inference attack via entropy, the shadow attack acc is 0.512\n",
      "For membership inference attack via entropy, the attack acc is 0.501\n",
      "For membership inference attack via modified entropy, group attr 0, the attack acc is 0.531\n",
      "For membership inference attack via modified entropy, group attr 1, the attack acc is 0.510\n",
      "For membership inference attack via modified entropy, group attr 2, the attack acc is 0.508\n",
      "For membership inference attack via modified entropy, group attr 3, the attack acc is 0.510\n",
      "For membership inference attack via modified entropy, the shadow attack acc is 0.512\n",
      "For membership inference attack via modified entropy, the attack acc is 0.501\n",
      "For membership inference attack via confidence, the attack acc is 0.500\n",
      "For membership inference attack via entropy, the attack acc is 0.499\n",
      "For membership inference attack via modified entropy, the attack acc is 0.500\n"
     ]
    }
   ],
   "source": [
    "MIA._mem_inf_benchmarks(shadow_train_df['race-sex'].astype(int), shadow_test_df['race-sex'].astype(int), ad_df_train['race-sex'].astype(int), ad_df_test['race-sex'].astype(int))"
   ]
  },
  {
   "cell_type": "markdown",
   "metadata": {},
   "source": []
  }
 ],
 "metadata": {
  "kernelspec": {
   "display_name": "Python 3",
   "language": "python",
   "name": "python3"
  },
  "language_info": {
   "codemirror_mode": {
    "name": "ipython",
    "version": 3
   },
   "file_extension": ".py",
   "mimetype": "text/x-python",
   "name": "python",
   "nbconvert_exporter": "python",
   "pygments_lexer": "ipython3",
   "version": "3.8.3"
  }
 },
 "nbformat": 4,
 "nbformat_minor": 4
}
