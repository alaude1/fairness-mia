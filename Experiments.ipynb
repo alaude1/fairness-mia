{
 "cells": [
  {
   "cell_type": "code",
   "execution_count": 1,
   "metadata": {},
   "outputs": [],
   "source": [
    "import pandas as pd\n",
    "import numpy as np\n",
    "import matplotlib.pyplot as plt"
   ]
  },
  {
   "cell_type": "code",
   "execution_count": 2,
   "metadata": {
    "scrolled": true
   },
   "outputs": [
    {
     "name": "stdout",
     "output_type": "stream",
     "text": [
      "Requirement already satisfied: aif360 in /home/sophie/.local/lib/python3.7/site-packages (0.4.0)\n",
      "Requirement already satisfied: scikit-learn>=0.22.1 in /home/sophie/.local/lib/python3.7/site-packages (from aif360) (0.23.1)\n",
      "Requirement already satisfied: matplotlib in /home/sophie/anaconda3/lib/python3.7/site-packages (from aif360) (3.0.2)\n",
      "Requirement already satisfied: scipy<1.6.0,>=1.2.0 in /home/sophie/.local/lib/python3.7/site-packages (from aif360) (1.4.1)\n",
      "Requirement already satisfied: tempeh in /home/sophie/.local/lib/python3.7/site-packages (from aif360) (0.1.12)\n",
      "Requirement already satisfied: numpy>=1.16 in /home/sophie/.local/lib/python3.7/site-packages (from aif360) (1.18.2)\n",
      "Requirement already satisfied: pandas>=0.24.0 in /home/sophie/.local/lib/python3.7/site-packages (from aif360) (1.0.3)\n",
      "Requirement already satisfied: threadpoolctl>=2.0.0 in /home/sophie/.local/lib/python3.7/site-packages (from scikit-learn>=0.22.1->aif360) (2.1.0)\n",
      "Requirement already satisfied: joblib>=0.11 in /home/sophie/.local/lib/python3.7/site-packages (from scikit-learn>=0.22.1->aif360) (0.15.1)\n",
      "Requirement already satisfied: cycler>=0.10 in /home/sophie/anaconda3/lib/python3.7/site-packages (from matplotlib->aif360) (0.10.0)\n",
      "Requirement already satisfied: kiwisolver>=1.0.1 in /home/sophie/anaconda3/lib/python3.7/site-packages (from matplotlib->aif360) (1.0.1)\n",
      "Requirement already satisfied: pyparsing!=2.0.4,!=2.1.2,!=2.1.6,>=2.0.1 in /home/sophie/anaconda3/lib/python3.7/site-packages (from matplotlib->aif360) (2.3.0)\n",
      "Requirement already satisfied: python-dateutil>=2.1 in /home/sophie/.local/lib/python3.7/site-packages (from matplotlib->aif360) (2.8.1)\n",
      "Requirement already satisfied: shap in /home/sophie/.local/lib/python3.7/site-packages (from tempeh->aif360) (0.39.0)\n",
      "Requirement already satisfied: pytest in /home/sophie/anaconda3/lib/python3.7/site-packages (from tempeh->aif360) (4.0.2)\n",
      "Requirement already satisfied: memory-profiler in /home/sophie/.local/lib/python3.7/site-packages (from tempeh->aif360) (0.58.0)\n",
      "Requirement already satisfied: requests in /home/sophie/anaconda3/lib/python3.7/site-packages (from tempeh->aif360) (2.21.0)\n",
      "Requirement already satisfied: pytz>=2017.2 in /home/sophie/anaconda3/lib/python3.7/site-packages (from pandas>=0.24.0->aif360) (2018.7)\n",
      "Requirement already satisfied: six in /home/sophie/anaconda3/lib/python3.7/site-packages (from cycler>=0.10->matplotlib->aif360) (1.12.0)\n",
      "Requirement already satisfied: setuptools in /home/sophie/.local/lib/python3.7/site-packages (from kiwisolver>=1.0.1->matplotlib->aif360) (46.1.3)\n",
      "Requirement already satisfied: tqdm>4.25.0 in /home/sophie/anaconda3/lib/python3.7/site-packages (from shap->tempeh->aif360) (4.28.1)\n",
      "Requirement already satisfied: slicer==0.0.7 in /home/sophie/.local/lib/python3.7/site-packages (from shap->tempeh->aif360) (0.0.7)\n",
      "Requirement already satisfied: numba in /home/sophie/anaconda3/lib/python3.7/site-packages (from shap->tempeh->aif360) (0.41.0)\n",
      "Requirement already satisfied: cloudpickle in /home/sophie/anaconda3/lib/python3.7/site-packages (from shap->tempeh->aif360) (0.6.1)\n",
      "Requirement already satisfied: py>=1.5.0 in /home/sophie/anaconda3/lib/python3.7/site-packages (from pytest->tempeh->aif360) (1.7.0)\n",
      "Requirement already satisfied: attrs>=17.4.0 in /home/sophie/anaconda3/lib/python3.7/site-packages (from pytest->tempeh->aif360) (18.2.0)\n",
      "Requirement already satisfied: more-itertools>=4.0.0 in /home/sophie/anaconda3/lib/python3.7/site-packages (from pytest->tempeh->aif360) (4.3.0)\n",
      "Requirement already satisfied: atomicwrites>=1.0 in /home/sophie/anaconda3/lib/python3.7/site-packages (from pytest->tempeh->aif360) (1.2.1)\n",
      "Requirement already satisfied: pluggy>=0.7 in /home/sophie/anaconda3/lib/python3.7/site-packages (from pytest->tempeh->aif360) (0.8.0)\n",
      "Requirement already satisfied: psutil in /home/sophie/anaconda3/lib/python3.7/site-packages (from memory-profiler->tempeh->aif360) (5.4.8)\n",
      "Requirement already satisfied: urllib3<1.25,>=1.21.1 in /home/sophie/anaconda3/lib/python3.7/site-packages (from requests->tempeh->aif360) (1.24.1)\n",
      "Requirement already satisfied: chardet<3.1.0,>=3.0.2 in /home/sophie/anaconda3/lib/python3.7/site-packages (from requests->tempeh->aif360) (3.0.4)\n",
      "Requirement already satisfied: certifi>=2017.4.17 in /home/sophie/anaconda3/lib/python3.7/site-packages (from requests->tempeh->aif360) (2018.11.29)\n",
      "Requirement already satisfied: idna<2.9,>=2.5 in /home/sophie/anaconda3/lib/python3.7/site-packages (from requests->tempeh->aif360) (2.8)\n",
      "Requirement already satisfied: llvmlite>=0.26.0dev0 in /home/sophie/anaconda3/lib/python3.7/site-packages (from numba->shap->tempeh->aif360) (0.26.0)\n",
      "Requirement already satisfied: BlackBoxAuditing in /home/sophie/.local/lib/python3.7/site-packages (0.1.54)\n",
      "Requirement already satisfied: matplotlib in /home/sophie/anaconda3/lib/python3.7/site-packages (from BlackBoxAuditing) (3.0.2)\n",
      "Requirement already satisfied: pandas in /home/sophie/.local/lib/python3.7/site-packages (from BlackBoxAuditing) (1.0.3)\n",
      "Requirement already satisfied: networkx in /home/sophie/anaconda3/lib/python3.7/site-packages (from BlackBoxAuditing) (2.2)\n",
      "Requirement already satisfied: numpy in /home/sophie/.local/lib/python3.7/site-packages (from BlackBoxAuditing) (1.18.2)\n",
      "Requirement already satisfied: cycler>=0.10 in /home/sophie/anaconda3/lib/python3.7/site-packages (from matplotlib->BlackBoxAuditing) (0.10.0)\n",
      "Requirement already satisfied: kiwisolver>=1.0.1 in /home/sophie/anaconda3/lib/python3.7/site-packages (from matplotlib->BlackBoxAuditing) (1.0.1)\n",
      "Requirement already satisfied: pyparsing!=2.0.4,!=2.1.2,!=2.1.6,>=2.0.1 in /home/sophie/anaconda3/lib/python3.7/site-packages (from matplotlib->BlackBoxAuditing) (2.3.0)\n",
      "Requirement already satisfied: python-dateutil>=2.1 in /home/sophie/.local/lib/python3.7/site-packages (from matplotlib->BlackBoxAuditing) (2.8.1)\n",
      "Requirement already satisfied: pytz>=2017.2 in /home/sophie/anaconda3/lib/python3.7/site-packages (from pandas->BlackBoxAuditing) (2018.7)\n",
      "Requirement already satisfied: decorator>=4.3.0 in /home/sophie/anaconda3/lib/python3.7/site-packages (from networkx->BlackBoxAuditing) (4.3.0)\n",
      "Requirement already satisfied: six in /home/sophie/anaconda3/lib/python3.7/site-packages (from cycler>=0.10->matplotlib->BlackBoxAuditing) (1.12.0)\n",
      "Requirement already satisfied: setuptools in /home/sophie/.local/lib/python3.7/site-packages (from kiwisolver>=1.0.1->matplotlib->BlackBoxAuditing) (46.1.3)\n",
      "Requirement already satisfied: fairlearn==0.4.6 in /home/sophie/.local/lib/python3.7/site-packages (0.4.6)\n",
      "Requirement already satisfied: numpy>=1.17.2 in /home/sophie/.local/lib/python3.7/site-packages (from fairlearn==0.4.6) (1.18.2)\n",
      "Requirement already satisfied: ipywidgets>=7.5.0 in /home/sophie/.local/lib/python3.7/site-packages (from fairlearn==0.4.6) (7.6.3)\n",
      "Requirement already satisfied: scipy>=1.3.1 in /home/sophie/.local/lib/python3.7/site-packages (from fairlearn==0.4.6) (1.4.1)\n",
      "Requirement already satisfied: pandas>=0.25.1 in /home/sophie/.local/lib/python3.7/site-packages (from fairlearn==0.4.6) (1.0.3)\n",
      "Requirement already satisfied: scikit-learn>=0.22.1 in /home/sophie/.local/lib/python3.7/site-packages (from fairlearn==0.4.6) (0.23.1)\n",
      "Requirement already satisfied: ipython>=4.0.0; python_version >= \"3.3\" in /home/sophie/anaconda3/lib/python3.7/site-packages (from ipywidgets>=7.5.0->fairlearn==0.4.6) (7.2.0)\n",
      "Requirement already satisfied: traitlets>=4.3.1 in /home/sophie/anaconda3/lib/python3.7/site-packages (from ipywidgets>=7.5.0->fairlearn==0.4.6) (4.3.2)\n",
      "Requirement already satisfied: widgetsnbextension~=3.5.0 in /home/sophie/.local/lib/python3.7/site-packages (from ipywidgets>=7.5.0->fairlearn==0.4.6) (3.5.1)\n",
      "Requirement already satisfied: ipykernel>=4.5.1 in /home/sophie/anaconda3/lib/python3.7/site-packages (from ipywidgets>=7.5.0->fairlearn==0.4.6) (5.1.0)\n",
      "Requirement already satisfied: jupyterlab-widgets>=1.0.0; python_version >= \"3.6\" in /home/sophie/.local/lib/python3.7/site-packages (from ipywidgets>=7.5.0->fairlearn==0.4.6) (1.0.0)\n",
      "Requirement already satisfied: nbformat>=4.2.0 in /home/sophie/anaconda3/lib/python3.7/site-packages (from ipywidgets>=7.5.0->fairlearn==0.4.6) (4.4.0)\n",
      "Requirement already satisfied: python-dateutil>=2.6.1 in /home/sophie/.local/lib/python3.7/site-packages (from pandas>=0.25.1->fairlearn==0.4.6) (2.8.1)\n",
      "Requirement already satisfied: pytz>=2017.2 in /home/sophie/anaconda3/lib/python3.7/site-packages (from pandas>=0.25.1->fairlearn==0.4.6) (2018.7)\n",
      "Requirement already satisfied: threadpoolctl>=2.0.0 in /home/sophie/.local/lib/python3.7/site-packages (from scikit-learn>=0.22.1->fairlearn==0.4.6) (2.1.0)\n",
      "Requirement already satisfied: joblib>=0.11 in /home/sophie/.local/lib/python3.7/site-packages (from scikit-learn>=0.22.1->fairlearn==0.4.6) (0.15.1)\n",
      "Requirement already satisfied: prompt-toolkit<2.1.0,>=2.0.0 in /home/sophie/anaconda3/lib/python3.7/site-packages (from ipython>=4.0.0; python_version >= \"3.3\"->ipywidgets>=7.5.0->fairlearn==0.4.6) (2.0.7)\n",
      "Requirement already satisfied: pickleshare in /home/sophie/anaconda3/lib/python3.7/site-packages (from ipython>=4.0.0; python_version >= \"3.3\"->ipywidgets>=7.5.0->fairlearn==0.4.6) (0.7.5)\n",
      "Requirement already satisfied: jedi>=0.10 in /home/sophie/anaconda3/lib/python3.7/site-packages (from ipython>=4.0.0; python_version >= \"3.3\"->ipywidgets>=7.5.0->fairlearn==0.4.6) (0.13.2)\n",
      "Requirement already satisfied: pexpect; sys_platform != \"win32\" in /home/sophie/anaconda3/lib/python3.7/site-packages (from ipython>=4.0.0; python_version >= \"3.3\"->ipywidgets>=7.5.0->fairlearn==0.4.6) (4.6.0)\n",
      "Requirement already satisfied: setuptools>=18.5 in /home/sophie/.local/lib/python3.7/site-packages (from ipython>=4.0.0; python_version >= \"3.3\"->ipywidgets>=7.5.0->fairlearn==0.4.6) (46.1.3)\n",
      "Requirement already satisfied: backcall in /home/sophie/anaconda3/lib/python3.7/site-packages (from ipython>=4.0.0; python_version >= \"3.3\"->ipywidgets>=7.5.0->fairlearn==0.4.6) (0.1.0)\n",
      "Requirement already satisfied: decorator in /home/sophie/anaconda3/lib/python3.7/site-packages (from ipython>=4.0.0; python_version >= \"3.3\"->ipywidgets>=7.5.0->fairlearn==0.4.6) (4.3.0)\n",
      "Requirement already satisfied: pygments in /home/sophie/anaconda3/lib/python3.7/site-packages (from ipython>=4.0.0; python_version >= \"3.3\"->ipywidgets>=7.5.0->fairlearn==0.4.6) (2.3.1)\n",
      "Requirement already satisfied: six in /home/sophie/anaconda3/lib/python3.7/site-packages (from traitlets>=4.3.1->ipywidgets>=7.5.0->fairlearn==0.4.6) (1.12.0)\n",
      "Requirement already satisfied: ipython-genutils in /home/sophie/anaconda3/lib/python3.7/site-packages (from traitlets>=4.3.1->ipywidgets>=7.5.0->fairlearn==0.4.6) (0.2.0)\n",
      "Requirement already satisfied: notebook>=4.4.1 in /home/sophie/anaconda3/lib/python3.7/site-packages (from widgetsnbextension~=3.5.0->ipywidgets>=7.5.0->fairlearn==0.4.6) (5.7.4)\n",
      "Requirement already satisfied: jupyter-client in /home/sophie/anaconda3/lib/python3.7/site-packages (from ipykernel>=4.5.1->ipywidgets>=7.5.0->fairlearn==0.4.6) (5.2.4)\n",
      "Requirement already satisfied: tornado>=4.2 in /home/sophie/anaconda3/lib/python3.7/site-packages (from ipykernel>=4.5.1->ipywidgets>=7.5.0->fairlearn==0.4.6) (5.1.1)\n",
      "Requirement already satisfied: jsonschema!=2.5.0,>=2.4 in /home/sophie/anaconda3/lib/python3.7/site-packages (from nbformat>=4.2.0->ipywidgets>=7.5.0->fairlearn==0.4.6) (2.6.0)\n",
      "Requirement already satisfied: jupyter-core in /home/sophie/anaconda3/lib/python3.7/site-packages (from nbformat>=4.2.0->ipywidgets>=7.5.0->fairlearn==0.4.6) (4.4.0)\n",
      "Requirement already satisfied: wcwidth in /home/sophie/anaconda3/lib/python3.7/site-packages (from prompt-toolkit<2.1.0,>=2.0.0->ipython>=4.0.0; python_version >= \"3.3\"->ipywidgets>=7.5.0->fairlearn==0.4.6) (0.1.7)\n",
      "Requirement already satisfied: parso>=0.3.0 in /home/sophie/anaconda3/lib/python3.7/site-packages (from jedi>=0.10->ipython>=4.0.0; python_version >= \"3.3\"->ipywidgets>=7.5.0->fairlearn==0.4.6) (0.3.1)\n",
      "Requirement already satisfied: ptyprocess>=0.5 in /home/sophie/anaconda3/lib/python3.7/site-packages (from pexpect; sys_platform != \"win32\"->ipython>=4.0.0; python_version >= \"3.3\"->ipywidgets>=7.5.0->fairlearn==0.4.6) (0.6.0)\n",
      "Requirement already satisfied: jinja2 in /home/sophie/anaconda3/lib/python3.7/site-packages (from notebook>=4.4.1->widgetsnbextension~=3.5.0->ipywidgets>=7.5.0->fairlearn==0.4.6) (2.10)\n",
      "Requirement already satisfied: prometheus-client in /home/sophie/anaconda3/lib/python3.7/site-packages (from notebook>=4.4.1->widgetsnbextension~=3.5.0->ipywidgets>=7.5.0->fairlearn==0.4.6) (0.5.0)\n",
      "Requirement already satisfied: nbconvert in /home/sophie/anaconda3/lib/python3.7/site-packages (from notebook>=4.4.1->widgetsnbextension~=3.5.0->ipywidgets>=7.5.0->fairlearn==0.4.6) (5.4.0)\n",
      "Requirement already satisfied: pyzmq>=17 in /home/sophie/anaconda3/lib/python3.7/site-packages (from notebook>=4.4.1->widgetsnbextension~=3.5.0->ipywidgets>=7.5.0->fairlearn==0.4.6) (17.1.2)\n",
      "Requirement already satisfied: Send2Trash in /home/sophie/anaconda3/lib/python3.7/site-packages (from notebook>=4.4.1->widgetsnbextension~=3.5.0->ipywidgets>=7.5.0->fairlearn==0.4.6) (1.5.0)\n",
      "Requirement already satisfied: terminado>=0.8.1 in /home/sophie/anaconda3/lib/python3.7/site-packages (from notebook>=4.4.1->widgetsnbextension~=3.5.0->ipywidgets>=7.5.0->fairlearn==0.4.6) (0.8.1)\n",
      "Requirement already satisfied: MarkupSafe>=0.23 in /home/sophie/anaconda3/lib/python3.7/site-packages (from jinja2->notebook>=4.4.1->widgetsnbextension~=3.5.0->ipywidgets>=7.5.0->fairlearn==0.4.6) (1.1.0)\n",
      "Requirement already satisfied: mistune>=0.8.1 in /home/sophie/anaconda3/lib/python3.7/site-packages (from nbconvert->notebook>=4.4.1->widgetsnbextension~=3.5.0->ipywidgets>=7.5.0->fairlearn==0.4.6) (0.8.4)\n",
      "Requirement already satisfied: entrypoints>=0.2.2 in /home/sophie/anaconda3/lib/python3.7/site-packages (from nbconvert->notebook>=4.4.1->widgetsnbextension~=3.5.0->ipywidgets>=7.5.0->fairlearn==0.4.6) (0.2.3)\n",
      "Requirement already satisfied: bleach in /home/sophie/anaconda3/lib/python3.7/site-packages (from nbconvert->notebook>=4.4.1->widgetsnbextension~=3.5.0->ipywidgets>=7.5.0->fairlearn==0.4.6) (3.0.2)\n",
      "Requirement already satisfied: pandocfilters>=1.4.1 in /home/sophie/anaconda3/lib/python3.7/site-packages (from nbconvert->notebook>=4.4.1->widgetsnbextension~=3.5.0->ipywidgets>=7.5.0->fairlearn==0.4.6) (1.4.2)\n",
      "Requirement already satisfied: testpath in /home/sophie/anaconda3/lib/python3.7/site-packages (from nbconvert->notebook>=4.4.1->widgetsnbextension~=3.5.0->ipywidgets>=7.5.0->fairlearn==0.4.6) (0.4.2)\n",
      "Requirement already satisfied: defusedxml in /home/sophie/anaconda3/lib/python3.7/site-packages (from nbconvert->notebook>=4.4.1->widgetsnbextension~=3.5.0->ipywidgets>=7.5.0->fairlearn==0.4.6) (0.5.0)\n",
      "Requirement already satisfied: webencodings in /home/sophie/anaconda3/lib/python3.7/site-packages (from bleach->nbconvert->notebook>=4.4.1->widgetsnbextension~=3.5.0->ipywidgets>=7.5.0->fairlearn==0.4.6) (0.5.1)\n"
     ]
    }
   ],
   "source": [
    "!pip install aif360\n",
    "!pip install BlackBoxAuditing\n",
    "!pip install fairlearn==0.4.6"
   ]
  },
  {
   "cell_type": "markdown",
   "metadata": {},
   "source": [
    "# Load Data"
   ]
  },
  {
   "cell_type": "code",
   "execution_count": 3,
   "metadata": {
    "scrolled": true
   },
   "outputs": [
    {
     "name": "stderr",
     "output_type": "stream",
     "text": [
      "/home/sophie/.local/lib/python3.7/site-packages/tensorflow/python/framework/dtypes.py:516: FutureWarning: Passing (type, 1) or '1type' as a synonym of type is deprecated; in a future version of numpy, it will be understood as (type, (1,)) / '(1,)type'.\n",
      "  _np_qint8 = np.dtype([(\"qint8\", np.int8, 1)])\n",
      "/home/sophie/.local/lib/python3.7/site-packages/tensorflow/python/framework/dtypes.py:517: FutureWarning: Passing (type, 1) or '1type' as a synonym of type is deprecated; in a future version of numpy, it will be understood as (type, (1,)) / '(1,)type'.\n",
      "  _np_quint8 = np.dtype([(\"quint8\", np.uint8, 1)])\n",
      "/home/sophie/.local/lib/python3.7/site-packages/tensorflow/python/framework/dtypes.py:518: FutureWarning: Passing (type, 1) or '1type' as a synonym of type is deprecated; in a future version of numpy, it will be understood as (type, (1,)) / '(1,)type'.\n",
      "  _np_qint16 = np.dtype([(\"qint16\", np.int16, 1)])\n",
      "/home/sophie/.local/lib/python3.7/site-packages/tensorflow/python/framework/dtypes.py:519: FutureWarning: Passing (type, 1) or '1type' as a synonym of type is deprecated; in a future version of numpy, it will be understood as (type, (1,)) / '(1,)type'.\n",
      "  _np_quint16 = np.dtype([(\"quint16\", np.uint16, 1)])\n",
      "/home/sophie/.local/lib/python3.7/site-packages/tensorflow/python/framework/dtypes.py:520: FutureWarning: Passing (type, 1) or '1type' as a synonym of type is deprecated; in a future version of numpy, it will be understood as (type, (1,)) / '(1,)type'.\n",
      "  _np_qint32 = np.dtype([(\"qint32\", np.int32, 1)])\n",
      "/home/sophie/.local/lib/python3.7/site-packages/tensorflow/python/framework/dtypes.py:525: FutureWarning: Passing (type, 1) or '1type' as a synonym of type is deprecated; in a future version of numpy, it will be understood as (type, (1,)) / '(1,)type'.\n",
      "  np_resource = np.dtype([(\"resource\", np.ubyte, 1)])\n",
      "/home/sophie/.local/lib/python3.7/site-packages/tensorboard/compat/tensorflow_stub/dtypes.py:541: FutureWarning: Passing (type, 1) or '1type' as a synonym of type is deprecated; in a future version of numpy, it will be understood as (type, (1,)) / '(1,)type'.\n",
      "  _np_qint8 = np.dtype([(\"qint8\", np.int8, 1)])\n",
      "/home/sophie/.local/lib/python3.7/site-packages/tensorboard/compat/tensorflow_stub/dtypes.py:542: FutureWarning: Passing (type, 1) or '1type' as a synonym of type is deprecated; in a future version of numpy, it will be understood as (type, (1,)) / '(1,)type'.\n",
      "  _np_quint8 = np.dtype([(\"quint8\", np.uint8, 1)])\n",
      "/home/sophie/.local/lib/python3.7/site-packages/tensorboard/compat/tensorflow_stub/dtypes.py:543: FutureWarning: Passing (type, 1) or '1type' as a synonym of type is deprecated; in a future version of numpy, it will be understood as (type, (1,)) / '(1,)type'.\n",
      "  _np_qint16 = np.dtype([(\"qint16\", np.int16, 1)])\n",
      "/home/sophie/.local/lib/python3.7/site-packages/tensorboard/compat/tensorflow_stub/dtypes.py:544: FutureWarning: Passing (type, 1) or '1type' as a synonym of type is deprecated; in a future version of numpy, it will be understood as (type, (1,)) / '(1,)type'.\n",
      "  _np_quint16 = np.dtype([(\"quint16\", np.uint16, 1)])\n",
      "/home/sophie/.local/lib/python3.7/site-packages/tensorboard/compat/tensorflow_stub/dtypes.py:545: FutureWarning: Passing (type, 1) or '1type' as a synonym of type is deprecated; in a future version of numpy, it will be understood as (type, (1,)) / '(1,)type'.\n",
      "  _np_qint32 = np.dtype([(\"qint32\", np.int32, 1)])\n",
      "/home/sophie/.local/lib/python3.7/site-packages/tensorboard/compat/tensorflow_stub/dtypes.py:550: FutureWarning: Passing (type, 1) or '1type' as a synonym of type is deprecated; in a future version of numpy, it will be understood as (type, (1,)) / '(1,)type'.\n",
      "  np_resource = np.dtype([(\"resource\", np.ubyte, 1)])\n",
      "pandas.util.testing is deprecated. Use the functions in the public API at pandas.testing instead.\n"
     ]
    }
   ],
   "source": [
    "from aif360.datasets import BinaryLabelDataset"
   ]
  },
  {
   "cell_type": "code",
   "execution_count": 4,
   "metadata": {},
   "outputs": [],
   "source": [
    "adult_numerical = pd.read_csv('fairness/data/preprocessed/adult_numerical.csv')\n",
    "filtered_idx = adult_numerical['race'] != 'Other'\n",
    "adult_numerical = adult_numerical[filtered_idx]\n",
    "adult_numerical['race-sex'] = adult_numerical['race-sex'].astype('category')\n",
    "map_race_sex = dict( enumerate(adult_numerical['race-sex'].cat.categories))\n",
    "adult_numerical['race-sex'] = adult_numerical['race-sex'].cat.codes\n",
    "\n",
    "adult_numerical['race'] = adult_numerical['race'].astype('category')\n",
    "map_race = dict( enumerate(adult_numerical['race'].cat.categories))\n",
    "adult_numerical['race'] = adult_numerical['race'].cat.codes\n",
    "\n",
    "\n",
    "adult_numerical['sex'] = adult_numerical['sex'].astype('category')\n",
    "map_sex = dict( enumerate(adult_numerical['sex'].cat.categories))\n",
    "adult_numerical['sex'] = adult_numerical['sex'].cat.codes\n",
    "\n",
    "adult_numerical['income-per-year'] = adult_numerical['income-per-year'].astype('category')\n",
    "map_income = dict( enumerate(adult_numerical['income-per-year'].cat.categories))\n",
    "adult_numerical['income-per-year'] = adult_numerical['income-per-year'].cat.codes\n"
   ]
  },
  {
   "cell_type": "code",
   "execution_count": 5,
   "metadata": {},
   "outputs": [],
   "source": [
    "adult_binary = BinaryLabelDataset(df=adult_numerical,\n",
    "                                  label_names=['income-per-year'], \n",
    "                                  protected_attribute_names=['race-sex'], \n",
    "                                  instance_weights_name=None, \n",
    "                                  scores_names=[], \n",
    "                                  unprivileged_protected_attributes=[], \n",
    "                                  privileged_protected_attributes=[], \n",
    "                                  metadata=None)"
   ]
  },
  {
   "cell_type": "code",
   "execution_count": 6,
   "metadata": {},
   "outputs": [],
   "source": [
    "ad_train, ad_test = adult_binary.split(2)"
   ]
  },
  {
   "cell_type": "code",
   "execution_count": 7,
   "metadata": {},
   "outputs": [],
   "source": [
    "from sklearn.metrics import log_loss\n",
    "def gen_gap_per_group(pred_prob_train, Y_train, attr_train, pred_prob_test, Y_test, attr_test):\n",
    "    unique_attr = np.unique(attr_train)\n",
    "    for a in unique_attr:\n",
    "        ind_train = (attr_train == a)\n",
    "        Y_train_a = Y_train[ind_train]\n",
    "        pred_prob_train_a = pred_prob_train[ind_train]\n",
    "        \n",
    "        ind_test = (attr_test == a)\n",
    "        Y_test_a = Y_test[ind_test]\n",
    "        pred_prob_test_a = pred_prob_test[ind_test]\n",
    "        \n",
    "        gap = abs(log_loss(Y_train_a, pred_prob_train_a) - log_loss(Y_test_a, pred_prob_test_a))\n",
    "        print('generalization gap for group {}: {}'.format(a, gap))"
   ]
  },
  {
   "cell_type": "markdown",
   "metadata": {},
   "source": [
    "# Unconstrained Model"
   ]
  },
  {
   "cell_type": "code",
   "execution_count": 8,
   "metadata": {},
   "outputs": [],
   "source": [
    "from sklearn.linear_model import LogisticRegression\n",
    "from copy import deepcopy\n",
    "from aif360.metrics import ClassificationMetric"
   ]
  },
  {
   "cell_type": "code",
   "execution_count": 9,
   "metadata": {},
   "outputs": [],
   "source": [
    "ad_df_train, ad_attrs_train = ad_train.convert_to_dataframe(de_dummy_code=False, sep='=', set_category=True)\n",
    "ad_df_test, ad_attrs_test = ad_test.convert_to_dataframe(de_dummy_code=False, sep='=', set_category=True)"
   ]
  },
  {
   "cell_type": "code",
   "execution_count": 10,
   "metadata": {},
   "outputs": [
    {
     "data": {
      "text/html": [
       "<div>\n",
       "<style scoped>\n",
       "    .dataframe tbody tr th:only-of-type {\n",
       "        vertical-align: middle;\n",
       "    }\n",
       "\n",
       "    .dataframe tbody tr th {\n",
       "        vertical-align: top;\n",
       "    }\n",
       "\n",
       "    .dataframe thead th {\n",
       "        text-align: right;\n",
       "    }\n",
       "</style>\n",
       "<table border=\"1\" class=\"dataframe\">\n",
       "  <thead>\n",
       "    <tr style=\"text-align: right;\">\n",
       "      <th></th>\n",
       "      <th>age</th>\n",
       "      <th>education-num</th>\n",
       "      <th>race</th>\n",
       "      <th>sex</th>\n",
       "      <th>capital-gain</th>\n",
       "      <th>capital-loss</th>\n",
       "      <th>hours-per-week</th>\n",
       "      <th>race-sex</th>\n",
       "      <th>workclass_Federal-gov</th>\n",
       "      <th>workclass_Local-gov</th>\n",
       "      <th>...</th>\n",
       "      <th>native-country_Puerto-Rico</th>\n",
       "      <th>native-country_Scotland</th>\n",
       "      <th>native-country_South</th>\n",
       "      <th>native-country_Taiwan</th>\n",
       "      <th>native-country_Thailand</th>\n",
       "      <th>native-country_Trinadad&amp;Tobago</th>\n",
       "      <th>native-country_United-States</th>\n",
       "      <th>native-country_Vietnam</th>\n",
       "      <th>native-country_Yugoslavia</th>\n",
       "      <th>income-per-year</th>\n",
       "    </tr>\n",
       "  </thead>\n",
       "  <tbody>\n",
       "    <tr>\n",
       "      <th>0</th>\n",
       "      <td>39.0</td>\n",
       "      <td>13.0</td>\n",
       "      <td>3.0</td>\n",
       "      <td>1.0</td>\n",
       "      <td>2174.0</td>\n",
       "      <td>0.0</td>\n",
       "      <td>40.0</td>\n",
       "      <td>7.0</td>\n",
       "      <td>0.0</td>\n",
       "      <td>0.0</td>\n",
       "      <td>...</td>\n",
       "      <td>0.0</td>\n",
       "      <td>0.0</td>\n",
       "      <td>0.0</td>\n",
       "      <td>0.0</td>\n",
       "      <td>0.0</td>\n",
       "      <td>0.0</td>\n",
       "      <td>1.0</td>\n",
       "      <td>0.0</td>\n",
       "      <td>0.0</td>\n",
       "      <td>0.0</td>\n",
       "    </tr>\n",
       "    <tr>\n",
       "      <th>1</th>\n",
       "      <td>50.0</td>\n",
       "      <td>13.0</td>\n",
       "      <td>3.0</td>\n",
       "      <td>1.0</td>\n",
       "      <td>0.0</td>\n",
       "      <td>0.0</td>\n",
       "      <td>13.0</td>\n",
       "      <td>7.0</td>\n",
       "      <td>0.0</td>\n",
       "      <td>0.0</td>\n",
       "      <td>...</td>\n",
       "      <td>0.0</td>\n",
       "      <td>0.0</td>\n",
       "      <td>0.0</td>\n",
       "      <td>0.0</td>\n",
       "      <td>0.0</td>\n",
       "      <td>0.0</td>\n",
       "      <td>1.0</td>\n",
       "      <td>0.0</td>\n",
       "      <td>0.0</td>\n",
       "      <td>0.0</td>\n",
       "    </tr>\n",
       "    <tr>\n",
       "      <th>2</th>\n",
       "      <td>38.0</td>\n",
       "      <td>9.0</td>\n",
       "      <td>3.0</td>\n",
       "      <td>1.0</td>\n",
       "      <td>0.0</td>\n",
       "      <td>0.0</td>\n",
       "      <td>40.0</td>\n",
       "      <td>7.0</td>\n",
       "      <td>0.0</td>\n",
       "      <td>0.0</td>\n",
       "      <td>...</td>\n",
       "      <td>0.0</td>\n",
       "      <td>0.0</td>\n",
       "      <td>0.0</td>\n",
       "      <td>0.0</td>\n",
       "      <td>0.0</td>\n",
       "      <td>0.0</td>\n",
       "      <td>1.0</td>\n",
       "      <td>0.0</td>\n",
       "      <td>0.0</td>\n",
       "      <td>0.0</td>\n",
       "    </tr>\n",
       "    <tr>\n",
       "      <th>3</th>\n",
       "      <td>53.0</td>\n",
       "      <td>7.0</td>\n",
       "      <td>2.0</td>\n",
       "      <td>1.0</td>\n",
       "      <td>0.0</td>\n",
       "      <td>0.0</td>\n",
       "      <td>40.0</td>\n",
       "      <td>5.0</td>\n",
       "      <td>0.0</td>\n",
       "      <td>0.0</td>\n",
       "      <td>...</td>\n",
       "      <td>0.0</td>\n",
       "      <td>0.0</td>\n",
       "      <td>0.0</td>\n",
       "      <td>0.0</td>\n",
       "      <td>0.0</td>\n",
       "      <td>0.0</td>\n",
       "      <td>1.0</td>\n",
       "      <td>0.0</td>\n",
       "      <td>0.0</td>\n",
       "      <td>0.0</td>\n",
       "    </tr>\n",
       "    <tr>\n",
       "      <th>4</th>\n",
       "      <td>28.0</td>\n",
       "      <td>13.0</td>\n",
       "      <td>2.0</td>\n",
       "      <td>0.0</td>\n",
       "      <td>0.0</td>\n",
       "      <td>0.0</td>\n",
       "      <td>40.0</td>\n",
       "      <td>4.0</td>\n",
       "      <td>0.0</td>\n",
       "      <td>0.0</td>\n",
       "      <td>...</td>\n",
       "      <td>0.0</td>\n",
       "      <td>0.0</td>\n",
       "      <td>0.0</td>\n",
       "      <td>0.0</td>\n",
       "      <td>0.0</td>\n",
       "      <td>0.0</td>\n",
       "      <td>0.0</td>\n",
       "      <td>0.0</td>\n",
       "      <td>0.0</td>\n",
       "      <td>0.0</td>\n",
       "    </tr>\n",
       "  </tbody>\n",
       "</table>\n",
       "<p>5 rows × 100 columns</p>\n",
       "</div>"
      ],
      "text/plain": [
       "    age  education-num  race  sex  capital-gain  capital-loss  hours-per-week  \\\n",
       "0  39.0           13.0   3.0  1.0        2174.0           0.0            40.0   \n",
       "1  50.0           13.0   3.0  1.0           0.0           0.0            13.0   \n",
       "2  38.0            9.0   3.0  1.0           0.0           0.0            40.0   \n",
       "3  53.0            7.0   2.0  1.0           0.0           0.0            40.0   \n",
       "4  28.0           13.0   2.0  0.0           0.0           0.0            40.0   \n",
       "\n",
       "   race-sex  workclass_Federal-gov  workclass_Local-gov  ...  \\\n",
       "0       7.0                    0.0                  0.0  ...   \n",
       "1       7.0                    0.0                  0.0  ...   \n",
       "2       7.0                    0.0                  0.0  ...   \n",
       "3       5.0                    0.0                  0.0  ...   \n",
       "4       4.0                    0.0                  0.0  ...   \n",
       "\n",
       "   native-country_Puerto-Rico  native-country_Scotland  native-country_South  \\\n",
       "0                         0.0                      0.0                   0.0   \n",
       "1                         0.0                      0.0                   0.0   \n",
       "2                         0.0                      0.0                   0.0   \n",
       "3                         0.0                      0.0                   0.0   \n",
       "4                         0.0                      0.0                   0.0   \n",
       "\n",
       "   native-country_Taiwan  native-country_Thailand  \\\n",
       "0                    0.0                      0.0   \n",
       "1                    0.0                      0.0   \n",
       "2                    0.0                      0.0   \n",
       "3                    0.0                      0.0   \n",
       "4                    0.0                      0.0   \n",
       "\n",
       "   native-country_Trinadad&Tobago  native-country_United-States  \\\n",
       "0                             0.0                           1.0   \n",
       "1                             0.0                           1.0   \n",
       "2                             0.0                           1.0   \n",
       "3                             0.0                           1.0   \n",
       "4                             0.0                           0.0   \n",
       "\n",
       "   native-country_Vietnam  native-country_Yugoslavia  income-per-year  \n",
       "0                     0.0                        0.0              0.0  \n",
       "1                     0.0                        0.0              0.0  \n",
       "2                     0.0                        0.0              0.0  \n",
       "3                     0.0                        0.0              0.0  \n",
       "4                     0.0                        0.0              0.0  \n",
       "\n",
       "[5 rows x 100 columns]"
      ]
     },
     "execution_count": 10,
     "metadata": {},
     "output_type": "execute_result"
    }
   ],
   "source": [
    "ad_df_train.head()"
   ]
  },
  {
   "cell_type": "code",
   "execution_count": 11,
   "metadata": {},
   "outputs": [],
   "source": [
    "Y_train = np.array(ad_df_train[['income-per-year']]).reshape(((len(ad_df_train),))).astype(int)\n",
    "Xs_train = np.array(ad_df_train.drop(columns='income-per-year'))\n",
    "Y_test = np.array(ad_df_test[['income-per-year']]).reshape(((len(ad_df_test),))).astype(int)\n",
    "Xs_test = np.array(ad_df_test.drop(columns='income-per-year'))"
   ]
  },
  {
   "cell_type": "code",
   "execution_count": 12,
   "metadata": {},
   "outputs": [],
   "source": [
    "clf = LogisticRegression(max_iter = 300, solver='liblinear').fit(Xs_train, Y_train)"
   ]
  },
  {
   "cell_type": "code",
   "execution_count": 13,
   "metadata": {},
   "outputs": [],
   "source": [
    "predicted_labels_train = clf.predict(Xs_train).reshape((len(Y_train), 1))\n",
    "predicted_labels = clf.predict(Xs_test).reshape((len(Y_test), 1))"
   ]
  },
  {
   "cell_type": "code",
   "execution_count": 14,
   "metadata": {},
   "outputs": [],
   "source": [
    "ad_pred = deepcopy(ad_test)\n",
    "ad_pred_train = deepcopy(ad_train)\n",
    "ad_pred.labels = predicted_labels\n",
    "ad_pred_train.labels = predicted_labels_train"
   ]
  },
  {
   "cell_type": "code",
   "execution_count": 15,
   "metadata": {},
   "outputs": [
    {
     "name": "stdout",
     "output_type": "stream",
     "text": [
      "Original Test Accuracy: 0.8460407617774808\n",
      "Original Demographic Parity ratio: 0.2996890474115724\n",
      "Original Average Absolute Odds diff: 0.0921651727995266\n"
     ]
    }
   ],
   "source": [
    "u = [{'race-sex': 0, 'race-sex': 1, 'race-sex': 2, 'race-sex': 3, 'race-sex': 4, 'race-sex': 5, 'race-sex': 6}]\n",
    "p = [{'race-sex': 7}]\n",
    "metrics = ClassificationMetric(ad_test,ad_pred,unprivileged_groups=u, privileged_groups=p)\n",
    "test_acc = metrics.accuracy()\n",
    "DI = metrics.disparate_impact()\n",
    "EO = metrics.average_abs_odds_difference()\n",
    "print('Original Test Accuracy:', test_acc)\n",
    "print('Original Demographic Parity ratio:', DI)\n",
    "print('Original Average Absolute Odds diff:', EO)"
   ]
  },
  {
   "cell_type": "markdown",
   "metadata": {},
   "source": [
    "### Membership Inference Attack"
   ]
  },
  {
   "cell_type": "code",
   "execution_count": 16,
   "metadata": {},
   "outputs": [],
   "source": [
    "from mia.membership_inference_attacks import black_box_benchmarks"
   ]
  },
  {
   "cell_type": "code",
   "execution_count": 17,
   "metadata": {},
   "outputs": [],
   "source": [
    "# Membership inference attack\n",
    "\n",
    "# train shadow model\n",
    "shadow_train, shadow_test = ad_test.split(2)\n",
    "shadow_train_df, _ = shadow_train.convert_to_dataframe(de_dummy_code=False, sep='=', set_category=True)\n",
    "shadow_test_df, _ = shadow_test.convert_to_dataframe(de_dummy_code=False, sep='=', set_category=True)\n",
    "shadow_Y_train = np.array(shadow_train_df[['income-per-year']]).reshape(((len(shadow_train_df),))).astype(int)\n",
    "shadow_Xs_train = np.array(shadow_train_df.drop(columns='income-per-year'))\n",
    "shadow_Y_test = np.array(shadow_test_df[['income-per-year']]).reshape(((len(shadow_test_df),))).astype(int)\n",
    "shadow_Xs_test = np.array(shadow_test_df.drop(columns='income-per-year'))\n",
    "\n",
    "true_pred_on_shadow_train = clf.predict(shadow_Xs_train)\n",
    "true_pred_on_shadow_test = clf.predict(shadow_Xs_test)\n",
    "\n",
    "shadow_model = LogisticRegression(max_iter = 300, solver='liblinear').fit(shadow_Xs_train, true_pred_on_shadow_train)\n"
   ]
  },
  {
   "cell_type": "code",
   "execution_count": 18,
   "metadata": {},
   "outputs": [],
   "source": [
    "# get outputs\n",
    "shadow_out_train = shadow_model.predict_proba(shadow_Xs_train)\n",
    "shadow_out_test = shadow_model.predict_proba(shadow_Xs_test)\n",
    "true_model_train = clf.predict_proba(Xs_train)\n",
    "true_model_test = clf.predict_proba(Xs_test)"
   ]
  },
  {
   "cell_type": "code",
   "execution_count": 19,
   "metadata": {},
   "outputs": [],
   "source": [
    "shadow_train_performance = (shadow_out_train, true_pred_on_shadow_train)\n",
    "shadow_test_performance = (shadow_out_test, true_pred_on_shadow_test)\n",
    "target_train_performance = (true_model_train, Y_train)\n",
    "target_test_performance = (true_model_test, Y_test)"
   ]
  },
  {
   "cell_type": "code",
   "execution_count": 20,
   "metadata": {},
   "outputs": [],
   "source": [
    "shadow_train_df['race-sex'] = shadow_train_df['race'].astype(str) + '-' + shadow_train_df['sex'].astype(str)\n",
    "shadow_train_df['race-sex'] = shadow_train_df['race-sex'].astype('category').cat.codes\n",
    "shadow_test_df['race-sex'] = shadow_test_df['race'].astype(str) + '-' + shadow_test_df['sex'].astype(str)\n",
    "shadow_test_df['race-sex'] = shadow_test_df['race-sex'].astype('category').cat.codes\n",
    "ad_df_train['race-sex'] = ad_df_train['race'].astype(str) + '-' + ad_df_train['sex'].astype(str)\n",
    "ad_df_train['race-sex'] = ad_df_train['race-sex'].astype('category').cat.codes\n",
    "ad_df_test['race-sex'] = ad_df_test['race'].astype(str) + '-' + ad_df_test['sex'].astype(str)\n",
    "ad_df_test['race-sex'] = ad_df_test['race-sex'].astype('category').cat.codes"
   ]
  },
  {
   "cell_type": "code",
   "execution_count": 21,
   "metadata": {},
   "outputs": [],
   "source": [
    "shadow_attr_train = shadow_train_df['race-sex'].astype(int)\n",
    "shadow_attr_test = shadow_test_df['race-sex'].astype(int)\n",
    "train_attr = ad_df_train['race-sex'].astype(int)\n",
    "test_attr = ad_df_test['race-sex'].astype(int)"
   ]
  },
  {
   "cell_type": "code",
   "execution_count": 22,
   "metadata": {},
   "outputs": [],
   "source": [
    "# run MIA\n",
    "MIA = black_box_benchmarks(shadow_train_performance,shadow_test_performance,\n",
    "                         target_train_performance,target_test_performance,num_classes=2)"
   ]
  },
  {
   "cell_type": "code",
   "execution_count": 23,
   "metadata": {},
   "outputs": [
    {
     "name": "stdout",
     "output_type": "stream",
     "text": [
      "For membership inference attack via correctness, the attack acc is 0.499, with train acc 0.845 and test acc 0.846\n",
      "For membership inference attack via confidence, group attr 0, the attack acc is 0.516\n",
      "For membership inference attack via confidence, group attr 1, the attack acc is 0.500\n",
      "For membership inference attack via confidence, group attr 2, the attack acc is 0.500\n",
      "For membership inference attack via confidence, group attr 3, the attack acc is 0.519\n",
      "For membership inference attack via confidence, group attr 4, the attack acc is 0.501\n",
      "For membership inference attack via confidence, group attr 5, the attack acc is 0.495\n",
      "For membership inference attack via confidence, group attr 6, the attack acc is 0.498\n",
      "For membership inference attack via confidence, group attr 7, the attack acc is 0.497\n",
      "For membership inference attack via confidence, the attack acc is 0.498\n",
      "For membership inference attack via entropy, group attr 0, the attack acc is 0.516\n",
      "For membership inference attack via entropy, group attr 1, the attack acc is 0.500\n",
      "For membership inference attack via entropy, group attr 2, the attack acc is 0.500\n",
      "For membership inference attack via entropy, group attr 3, the attack acc is 0.524\n",
      "For membership inference attack via entropy, group attr 4, the attack acc is 0.501\n",
      "For membership inference attack via entropy, group attr 5, the attack acc is 0.494\n",
      "For membership inference attack via entropy, group attr 6, the attack acc is 0.498\n",
      "For membership inference attack via entropy, group attr 7, the attack acc is 0.500\n",
      "For membership inference attack via entropy, the attack acc is 0.500\n",
      "For membership inference attack via modified entropy, group attr 0, the attack acc is 0.516\n",
      "For membership inference attack via modified entropy, group attr 1, the attack acc is 0.500\n",
      "For membership inference attack via modified entropy, group attr 2, the attack acc is 0.500\n",
      "For membership inference attack via modified entropy, group attr 3, the attack acc is 0.519\n",
      "For membership inference attack via modified entropy, group attr 4, the attack acc is 0.501\n",
      "For membership inference attack via modified entropy, group attr 5, the attack acc is 0.495\n",
      "For membership inference attack via modified entropy, group attr 6, the attack acc is 0.498\n",
      "For membership inference attack via modified entropy, group attr 7, the attack acc is 0.497\n",
      "For membership inference attack via modified entropy, the attack acc is 0.498\n"
     ]
    }
   ],
   "source": [
    "MIA._mem_inf_benchmarks(shadow_attr_train, shadow_attr_test, train_attr, test_attr)"
   ]
  },
  {
   "cell_type": "code",
   "execution_count": 24,
   "metadata": {},
   "outputs": [],
   "source": [
    "# white box MIA for reference\n",
    "MIA_wb = black_box_benchmarks(target_train_performance,target_test_performance,\n",
    "                         target_train_performance,target_test_performance,num_classes=2)"
   ]
  },
  {
   "cell_type": "code",
   "execution_count": 25,
   "metadata": {},
   "outputs": [
    {
     "name": "stdout",
     "output_type": "stream",
     "text": [
      "For membership inference attack via correctness, the attack acc is 0.499, with train acc 0.845 and test acc 0.846\n",
      "For membership inference attack via confidence, group attr 0, the attack acc is 0.551\n",
      "For membership inference attack via confidence, group attr 1, the attack acc is 0.581\n",
      "For membership inference attack via confidence, group attr 2, the attack acc is 0.571\n",
      "For membership inference attack via confidence, group attr 3, the attack acc is 0.534\n",
      "For membership inference attack via confidence, group attr 4, the attack acc is 0.524\n",
      "For membership inference attack via confidence, group attr 5, the attack acc is 0.518\n",
      "For membership inference attack via confidence, group attr 6, the attack acc is 0.509\n",
      "For membership inference attack via confidence, group attr 7, the attack acc is 0.504\n",
      "For membership inference attack via confidence, the attack acc is 0.509\n",
      "For membership inference attack via entropy, group attr 0, the attack acc is 0.560\n",
      "For membership inference attack via entropy, group attr 1, the attack acc is 0.567\n",
      "For membership inference attack via entropy, group attr 2, the attack acc is 0.582\n",
      "For membership inference attack via entropy, group attr 3, the attack acc is 0.526\n",
      "For membership inference attack via entropy, group attr 4, the attack acc is 0.520\n",
      "For membership inference attack via entropy, group attr 5, the attack acc is 0.521\n",
      "For membership inference attack via entropy, group attr 6, the attack acc is 0.509\n",
      "For membership inference attack via entropy, group attr 7, the attack acc is 0.504\n",
      "For membership inference attack via entropy, the attack acc is 0.509\n",
      "For membership inference attack via modified entropy, group attr 0, the attack acc is 0.551\n",
      "For membership inference attack via modified entropy, group attr 1, the attack acc is 0.581\n",
      "For membership inference attack via modified entropy, group attr 2, the attack acc is 0.571\n",
      "For membership inference attack via modified entropy, group attr 3, the attack acc is 0.534\n",
      "For membership inference attack via modified entropy, group attr 4, the attack acc is 0.524\n",
      "For membership inference attack via modified entropy, group attr 5, the attack acc is 0.518\n",
      "For membership inference attack via modified entropy, group attr 6, the attack acc is 0.509\n",
      "For membership inference attack via modified entropy, group attr 7, the attack acc is 0.504\n",
      "For membership inference attack via modified entropy, the attack acc is 0.509\n"
     ]
    }
   ],
   "source": [
    "MIA_wb._mem_inf_benchmarks(train_attr, test_attr, train_attr, test_attr)"
   ]
  },
  {
   "cell_type": "code",
   "execution_count": 26,
   "metadata": {},
   "outputs": [
    {
     "name": "stdout",
     "output_type": "stream",
     "text": [
      "generalization gap for group 0: 0.026538831210573266\n",
      "generalization gap for group 1: 0.09866577643288499\n",
      "generalization gap for group 2: 0.17538865348881075\n",
      "generalization gap for group 3: 0.002220065245218228\n",
      "generalization gap for group 4: 0.01795451880166976\n",
      "generalization gap for group 5: 0.00017744523551793678\n",
      "generalization gap for group 6: 0.000796687713221389\n",
      "generalization gap for group 7: 0.011224237990104968\n"
     ]
    }
   ],
   "source": [
    "# measure memorization\n",
    "gen_gap_per_group(true_model_train, Y_train, train_attr, true_model_test, Y_test, test_attr)"
   ]
  },
  {
   "cell_type": "markdown",
   "metadata": {},
   "source": [
    "### Privacy Risk Score Analysis"
   ]
  },
  {
   "cell_type": "code",
   "execution_count": 27,
   "metadata": {},
   "outputs": [],
   "source": [
    "from mia.privacy_risk_score_utils import calculate_risk_score"
   ]
  },
  {
   "cell_type": "code",
   "execution_count": 28,
   "metadata": {},
   "outputs": [
    {
     "name": "stdout",
     "output_type": "stream",
     "text": [
      "{0: 'Amer-Indian-Eskimo-Female', 1: 'Amer-Indian-Eskimo-Male', 2: 'Asian-Pac-Islander-Female', 3: 'Asian-Pac-Islander-Male', 4: 'Black-Female', 5: 'Black-Male', 6: 'White-Female', 7: 'White-Male'}\n",
      "{0: 'Amer-Indian-Eskimo', 1: 'Asian-Pac-Islander', 2: 'Black', 3: 'White'}\n",
      "{0: 'Female', 1: 'Male'}\n",
      "{0: '<=50K', 1: '>50K'}\n"
     ]
    }
   ],
   "source": [
    "print(map_race_sex)\n",
    "print(map_race)\n",
    "print(map_sex)\n",
    "print(map_income)"
   ]
  },
  {
   "cell_type": "code",
   "execution_count": 29,
   "metadata": {},
   "outputs": [],
   "source": [
    "def risk_hist(attr_map, attr_name, ad_df_train, risk_scores):\n",
    "    for key in attr_map:\n",
    "        idx = ad_df_train[attr_name] == key\n",
    "        plt.hist(risk_scores[idx], label=attr_map[key], density=True, alpha=0.5)\n",
    "    plt.legend()\n",
    "    plt.xlabel('privacy risk score')\n",
    "    plt.ylabel('frequency')\n",
    "    plt.savefig('{}.png'.format(attr_name))"
   ]
  },
  {
   "cell_type": "code",
   "execution_count": 30,
   "metadata": {},
   "outputs": [],
   "source": [
    "tr_values = MIA._entr_comp(shadow_out_train)\n",
    "te_values = MIA._entr_comp(shadow_out_test)\n",
    "data_values = MIA._entr_comp(true_model_train)"
   ]
  },
  {
   "cell_type": "code",
   "execution_count": 31,
   "metadata": {},
   "outputs": [
    {
     "data": {
      "image/png": "[encoded data removed]",
      "text/plain": [
       "<Figure size 1080x1080 with 2 Axes>"
      ]
     },
     "metadata": {
      "needs_background": "light"
     },
     "output_type": "display_data"
    }
   ],
   "source": [
    "# get risk scores\n",
    "risk_scores = calculate_risk_score(tr_values, te_values, \n",
    "                                   true_pred_on_shadow_train, \n",
    "                                   true_pred_on_shadow_test, \n",
    "                                   data_values, Y_train, num_bins=5, log_bins=False)"
   ]
  },
  {
   "cell_type": "code",
   "execution_count": 32,
   "metadata": {},
   "outputs": [
    {
     "data": {
      "image/png": "[encoded data removed]",
      "text/plain": [
       "<Figure size 432x288 with 1 Axes>"
      ]
     },
     "metadata": {
      "needs_background": "light"
     },
     "output_type": "display_data"
    }
   ],
   "source": [
    "risk_hist(map_race, 'race', ad_df_train, risk_scores)"
   ]
  },
  {
   "cell_type": "code",
   "execution_count": 33,
   "metadata": {},
   "outputs": [
    {
     "data": {
      "image/png": "[encoded data removed]",
      "text/plain": [
       "<Figure size 432x288 with 1 Axes>"
      ]
     },
     "metadata": {
      "needs_background": "light"
     },
     "output_type": "display_data"
    }
   ],
   "source": [
    "risk_hist(map_sex, 'sex', ad_df_train, risk_scores)"
   ]
  },
  {
   "cell_type": "code",
   "execution_count": 34,
   "metadata": {},
   "outputs": [
    {
     "data": {
      "image/png": "[encoded data removed]",
      "text/plain": [
       "<Figure size 432x288 with 1 Axes>"
      ]
     },
     "metadata": {
      "needs_background": "light"
     },
     "output_type": "display_data"
    }
   ],
   "source": [
    "risk_hist(map_income, 'income-per-year', ad_df_train, risk_scores)"
   ]
  },
  {
   "cell_type": "code",
   "execution_count": 35,
   "metadata": {},
   "outputs": [
    {
     "data": {
      "image/png": "[encoded data removed]",
      "text/plain": [
       "<Figure size 432x288 with 1 Axes>"
      ]
     },
     "metadata": {
      "needs_background": "light"
     },
     "output_type": "display_data"
    }
   ],
   "source": [
    "risk_hist(map_race_sex, 'race-sex', ad_df_train, risk_scores)"
   ]
  },
  {
   "cell_type": "markdown",
   "metadata": {},
   "source": [
    "# Demographic Parity (Independence)"
   ]
  },
  {
   "cell_type": "markdown",
   "metadata": {},
   "source": [
    "## Feldman et al. Repair (Preprocessing)"
   ]
  },
  {
   "cell_type": "code",
   "execution_count": 36,
   "metadata": {
    "scrolled": true
   },
   "outputs": [],
   "source": [
    "import aif360.algorithms.preprocessing as AIF"
   ]
  },
  {
   "cell_type": "code",
   "execution_count": 37,
   "metadata": {},
   "outputs": [
    {
     "name": "stdout",
     "output_type": "stream",
     "text": [
      "Repair Test Accuracy: 0.8460407617774808\n",
      "Repair Demographic Parity ratio: 0.2996890474115724\n",
      "Repair Average Absolute Odds diff: 0.0921651727995266\n",
      "Repair Test Accuracy: 0.8408954226528567\n",
      "Repair Demographic Parity ratio: 0.3394946668003241\n",
      "Repair Average Absolute Odds diff: 0.04862292852946082\n",
      "Repair Test Accuracy: 0.8342799866354828\n",
      "Repair Demographic Parity ratio: 0.3468472819773562\n",
      "Repair Average Absolute Odds diff: 0.03150792385649004\n",
      "Repair Test Accuracy: 0.8203140661543602\n",
      "Repair Demographic Parity ratio: 0.3687730033392927\n",
      "Repair Average Absolute Odds diff: 0.017384281993712208\n",
      "Repair Test Accuracy: 0.843701971266288\n",
      "Repair Demographic Parity ratio: 0.3553400589107184\n",
      "Repair Average Absolute Odds diff: 0.04394799807579919\n",
      "Repair Test Accuracy: 0.6314734380220515\n",
      "Repair Demographic Parity ratio: 0.4870669034922455\n",
      "Repair Average Absolute Odds diff: 0.19011057600434675\n",
      "Repair Test Accuracy: 0.63701971266288\n",
      "Repair Demographic Parity ratio: 0.5401011251489555\n",
      "Repair Average Absolute Odds diff: 0.15847189881947\n",
      "Repair Test Accuracy: 0.44537253591714\n",
      "Repair Demographic Parity ratio: 0.8422346898009688\n",
      "Repair Average Absolute Odds diff: 0.06155440753408642\n",
      "Repair Test Accuracy: 0.5641162712996993\n",
      "Repair Demographic Parity ratio: 0.6996046077577811\n",
      "Repair Average Absolute Odds diff: 0.09807813043602717\n",
      "Repair Test Accuracy: 0.6248580020046776\n",
      "Repair Demographic Parity ratio: 0.5953345912631965\n",
      "Repair Average Absolute Odds diff: 0.13032918174151628\n",
      "Repair Test Accuracy: 0.5983294353491481\n",
      "Repair Demographic Parity ratio: 0.6542557697333441\n",
      "Repair Average Absolute Odds diff: 0.10951495808697362\n"
     ]
    }
   ],
   "source": [
    "# tuning repair level to minimize test accuracy tradeoff\n",
    "x = np.arange(0, 1.1, 0.1)\n",
    "test_acc = []\n",
    "dp = []\n",
    "for rep in x:\n",
    "    repairer = AIF.DisparateImpactRemover(repair_level=rep, sensitive_attribute='race-sex')\n",
    "    repaired_train = repairer.fit_transform(ad_train)\n",
    "    repaired_test = repairer.fit_transform(ad_test)\n",
    "    repaired_df_train, repaired_attrs_train = repaired_train.convert_to_dataframe(de_dummy_code=False, sep='=', set_category=True)\n",
    "    repaired_df_test, repaired_attrs_test = repaired_test.convert_to_dataframe(de_dummy_code=False, sep='=', set_category=True)\n",
    "    Y_rep_train = np.array(repaired_df_train[['income-per-year']]).reshape(((len(repaired_df_train),)))\n",
    "    Xs_rep_train = np.array(repaired_df_train.drop(columns='income-per-year'))\n",
    "\n",
    "    Y_rep_test = np.array(repaired_df_test[['income-per-year']]).reshape(((len(repaired_df_test),)))\n",
    "    Xs_rep_test = np.array(repaired_df_test.drop(columns='income-per-year'))\n",
    "    clf_rep = LogisticRegression(max_iter = 300, solver='liblinear').fit(Xs_rep_train, Y_rep_train)\n",
    "    predicted_labels_rep = clf_rep.predict(Xs_rep_test).reshape((len(Y_rep_test), 1))\n",
    "    ad_pred_rep = deepcopy(ad_test)\n",
    "    ad_pred_rep.labels = predicted_labels_rep\n",
    "    metrics_rep = ClassificationMetric(ad_test,ad_pred_rep,unprivileged_groups=u, privileged_groups=p)\n",
    "    test_acc_rep = metrics_rep.accuracy()\n",
    "    DI_rep = metrics_rep.disparate_impact()\n",
    "    EO_rep = metrics_rep.average_abs_odds_difference()\n",
    "    print('Repair Test Accuracy:', test_acc_rep)\n",
    "    print('Repair Demographic Parity ratio:', DI_rep)\n",
    "    print('Repair Average Absolute Odds diff:', EO_rep)\n",
    "    test_acc.append(test_acc_rep)\n",
    "    dp.append(DI_rep)"
   ]
  },
  {
   "cell_type": "code",
   "execution_count": 38,
   "metadata": {},
   "outputs": [
    {
     "data": {
      "image/png": "[encoded data removed]",
      "text/plain": [
       "<Figure size 432x288 with 1 Axes>"
      ]
     },
     "metadata": {
      "needs_background": "light"
     },
     "output_type": "display_data"
    }
   ],
   "source": [
    "plt.clf()\n",
    "plt.plot(x, test_acc, label='test acc')\n",
    "plt.plot(x, dp, label='demographic parity ratio')\n",
    "plt.legend()\n",
    "plt.savefig(\"feldman_repair.png\")"
   ]
  },
  {
   "cell_type": "code",
   "execution_count": 39,
   "metadata": {},
   "outputs": [
    {
     "name": "stdout",
     "output_type": "stream",
     "text": [
      "Repair Test Accuracy: 0.6248580020046776\n",
      "Repair Demographic Parity ratio: 0.5953345912631965\n",
      "Repair Average Absolute Odds diff: 0.13032918174151628\n"
     ]
    }
   ],
   "source": [
    "# repair level 0.9 seems to have ok demographic parity ratio and with a small drop in test accuracy\n",
    "repairer = AIF.DisparateImpactRemover(repair_level=0.9, sensitive_attribute='race-sex')\n",
    "repaired_train = repairer.fit_transform(ad_train)\n",
    "repaired_test = repairer.fit_transform(ad_test)\n",
    "repaired_df_train, repaired_attrs_train = repaired_train.convert_to_dataframe(de_dummy_code=False, sep='=', set_category=True)\n",
    "repaired_df_test, repaired_attrs_test = repaired_test.convert_to_dataframe(de_dummy_code=False, sep='=', set_category=True)\n",
    "Y_rep_train = np.array(repaired_df_train[['income-per-year']]).reshape(((len(repaired_df_train),)))\n",
    "Xs_rep_train = np.array(repaired_df_train.drop(columns='income-per-year'))\n",
    "\n",
    "Y_rep_test = np.array(repaired_df_test[['income-per-year']]).reshape(((len(repaired_df_test),)))\n",
    "Xs_rep_test = np.array(repaired_df_test.drop(columns='income-per-year'))\n",
    "clf_rep = LogisticRegression(max_iter = 300, solver='liblinear').fit(Xs_rep_train, Y_rep_train)\n",
    "predicted_labels_rep = clf_rep.predict(Xs_rep_test).reshape((len(Y_rep_test), 1))\n",
    "ad_pred_rep = deepcopy(ad_test)\n",
    "ad_pred_rep.labels = predicted_labels_rep\n",
    "metrics_rep = ClassificationMetric(ad_test,ad_pred_rep,unprivileged_groups=u, privileged_groups=p)\n",
    "test_acc_rep = metrics_rep.accuracy()\n",
    "DI_rep = metrics_rep.disparate_impact()\n",
    "EO_rep = metrics_rep.average_abs_odds_difference()\n",
    "print('Repair Test Accuracy:', test_acc_rep)\n",
    "print('Repair Demographic Parity ratio:', DI_rep)\n",
    "print('Repair Average Absolute Odds diff:', EO_rep)"
   ]
  },
  {
   "cell_type": "markdown",
   "metadata": {},
   "source": [
    "### Membership Inference Attack"
   ]
  },
  {
   "cell_type": "code",
   "execution_count": 40,
   "metadata": {},
   "outputs": [],
   "source": [
    "# Membership inference attack\n",
    "\n",
    "repaired_shadow_train = repairer.fit_transform(shadow_train)\n",
    "repaired_shadow_test = repairer.fit_transform(shadow_test)\n",
    "\n",
    "shadow_train_df, _ = repaired_shadow_train.convert_to_dataframe(de_dummy_code=False, sep='=', set_category=True)\n",
    "shadow_test_df, _ = repaired_shadow_test.convert_to_dataframe(de_dummy_code=False, sep='=', set_category=True)\n",
    "shadow_Xs_train = np.array(shadow_train_df.drop(columns='income-per-year'))\n",
    "shadow_Xs_test = np.array(shadow_test_df.drop(columns='income-per-year'))\n",
    "\n",
    "\n",
    "# train shadow model\n",
    "true_pred_on_shadow_train = clf_rep.predict(shadow_Xs_train)\n",
    "true_pred_on_shadow_test = clf_rep.predict(shadow_Xs_test)\n",
    "\n",
    "shadow_model = LogisticRegression(max_iter = 300, solver='liblinear').fit(shadow_Xs_train, true_pred_on_shadow_train)"
   ]
  },
  {
   "cell_type": "code",
   "execution_count": 41,
   "metadata": {},
   "outputs": [],
   "source": [
    "true_pred_on_shadow_train = true_pred_on_shadow_train.astype(int).reshape(len(true_pred_on_shadow_train),)\n",
    "true_pred_on_shadow_test = true_pred_on_shadow_test.astype(int).reshape(len(true_pred_on_shadow_test),)"
   ]
  },
  {
   "cell_type": "code",
   "execution_count": 42,
   "metadata": {},
   "outputs": [],
   "source": [
    "shadow_out_train = clf_rep.predict_proba(shadow_Xs_train)\n",
    "shadow_out_test = clf_rep.predict_proba(shadow_Xs_test)\n",
    "true_model_train = clf_rep.predict_proba(Xs_rep_train)\n",
    "true_model_test = clf_rep.predict_proba(Xs_rep_test)"
   ]
  },
  {
   "cell_type": "code",
   "execution_count": 43,
   "metadata": {},
   "outputs": [],
   "source": [
    "shadow_train_performance = (shadow_out_train, true_pred_on_shadow_train)\n",
    "shadow_test_performance = (shadow_out_test, true_pred_on_shadow_test)\n",
    "target_train_performance = (true_model_train, Y_train)\n",
    "target_test_performance = (true_model_test, Y_test)"
   ]
  },
  {
   "cell_type": "code",
   "execution_count": 44,
   "metadata": {},
   "outputs": [],
   "source": [
    "# run MIA\n",
    "MIA = black_box_benchmarks(shadow_train_performance,shadow_test_performance,\n",
    "                         target_train_performance,target_test_performance,num_classes=2)"
   ]
  },
  {
   "cell_type": "code",
   "execution_count": 45,
   "metadata": {},
   "outputs": [
    {
     "name": "stdout",
     "output_type": "stream",
     "text": [
      "For membership inference attack via correctness, the attack acc is 0.608, with train acc 0.842 and test acc 0.625\n",
      "For membership inference attack via confidence, group attr 0, the attack acc is 0.675\n",
      "For membership inference attack via confidence, group attr 1, the attack acc is 0.599\n",
      "For membership inference attack via confidence, group attr 2, the attack acc is 0.689\n",
      "For membership inference attack via confidence, group attr 3, the attack acc is 0.571\n",
      "For membership inference attack via confidence, group attr 4, the attack acc is 0.704\n",
      "For membership inference attack via confidence, group attr 5, the attack acc is 0.545\n",
      "For membership inference attack via confidence, group attr 6, the attack acc is 0.671\n",
      "For membership inference attack via confidence, group attr 7, the attack acc is 0.601\n",
      "For membership inference attack via confidence, the attack acc is 0.622\n",
      "For membership inference attack via entropy, group attr 0, the attack acc is 0.675\n",
      "For membership inference attack via entropy, group attr 1, the attack acc is 0.625\n",
      "For membership inference attack via entropy, group attr 2, the attack acc is 0.676\n",
      "For membership inference attack via entropy, group attr 3, the attack acc is 0.563\n",
      "For membership inference attack via entropy, group attr 4, the attack acc is 0.704\n",
      "For membership inference attack via entropy, group attr 5, the attack acc is 0.545\n",
      "For membership inference attack via entropy, group attr 6, the attack acc is 0.670\n",
      "For membership inference attack via entropy, group attr 7, the attack acc is 0.497\n",
      "For membership inference attack via entropy, the attack acc is 0.559\n",
      "For membership inference attack via modified entropy, group attr 0, the attack acc is 0.675\n",
      "For membership inference attack via modified entropy, group attr 1, the attack acc is 0.599\n",
      "For membership inference attack via modified entropy, group attr 2, the attack acc is 0.689\n",
      "For membership inference attack via modified entropy, group attr 3, the attack acc is 0.571\n",
      "For membership inference attack via modified entropy, group attr 4, the attack acc is 0.704\n",
      "For membership inference attack via modified entropy, group attr 5, the attack acc is 0.545\n",
      "For membership inference attack via modified entropy, group attr 6, the attack acc is 0.671\n",
      "For membership inference attack via modified entropy, group attr 7, the attack acc is 0.601\n",
      "For membership inference attack via modified entropy, the attack acc is 0.622\n"
     ]
    }
   ],
   "source": [
    "MIA._mem_inf_benchmarks(shadow_attr_train, shadow_attr_test, train_attr, test_attr)"
   ]
  },
  {
   "cell_type": "code",
   "execution_count": 46,
   "metadata": {},
   "outputs": [],
   "source": [
    "# white box MIA for reference\n",
    "MIA_wb = black_box_benchmarks(target_train_performance,target_test_performance,\n",
    "                         target_train_performance,target_test_performance,num_classes=2)"
   ]
  },
  {
   "cell_type": "code",
   "execution_count": 47,
   "metadata": {},
   "outputs": [
    {
     "name": "stdout",
     "output_type": "stream",
     "text": [
      "For membership inference attack via correctness, the attack acc is 0.608, with train acc 0.842 and test acc 0.625\n",
      "For membership inference attack via confidence, group attr 0, the attack acc is 0.766\n",
      "For membership inference attack via confidence, group attr 1, the attack acc is 0.721\n",
      "For membership inference attack via confidence, group attr 2, the attack acc is 0.788\n",
      "For membership inference attack via confidence, group attr 3, the attack acc is 0.671\n",
      "For membership inference attack via confidence, group attr 4, the attack acc is 0.813\n",
      "For membership inference attack via confidence, group attr 5, the attack acc is 0.687\n",
      "For membership inference attack via confidence, group attr 6, the attack acc is 0.757\n",
      "For membership inference attack via confidence, group attr 7, the attack acc is 0.658\n",
      "For membership inference attack via confidence, the attack acc is 0.695\n",
      "For membership inference attack via entropy, group attr 0, the attack acc is 0.762\n",
      "For membership inference attack via entropy, group attr 1, the attack acc is 0.700\n",
      "For membership inference attack via entropy, group attr 2, the attack acc is 0.759\n",
      "For membership inference attack via entropy, group attr 3, the attack acc is 0.617\n",
      "For membership inference attack via entropy, group attr 4, the attack acc is 0.811\n",
      "For membership inference attack via entropy, group attr 5, the attack acc is 0.668\n",
      "For membership inference attack via entropy, group attr 6, the attack acc is 0.738\n",
      "For membership inference attack via entropy, group attr 7, the attack acc is 0.577\n",
      "For membership inference attack via entropy, the attack acc is 0.639\n",
      "For membership inference attack via modified entropy, group attr 0, the attack acc is 0.766\n",
      "For membership inference attack via modified entropy, group attr 1, the attack acc is 0.721\n",
      "For membership inference attack via modified entropy, group attr 2, the attack acc is 0.788\n",
      "For membership inference attack via modified entropy, group attr 3, the attack acc is 0.671\n",
      "For membership inference attack via modified entropy, group attr 4, the attack acc is 0.813\n",
      "For membership inference attack via modified entropy, group attr 5, the attack acc is 0.687\n",
      "For membership inference attack via modified entropy, group attr 6, the attack acc is 0.757\n",
      "For membership inference attack via modified entropy, group attr 7, the attack acc is 0.658\n",
      "For membership inference attack via modified entropy, the attack acc is 0.695\n"
     ]
    }
   ],
   "source": [
    "MIA_wb._mem_inf_benchmarks(train_attr, test_attr, train_attr, test_attr)"
   ]
  },
  {
   "cell_type": "code",
   "execution_count": 48,
   "metadata": {},
   "outputs": [
    {
     "name": "stdout",
     "output_type": "stream",
     "text": [
      "generalization gap for group 0: 0.16373108803182573\n",
      "generalization gap for group 1: 0.5993458626994765\n",
      "generalization gap for group 2: 0.33632992843068943\n",
      "generalization gap for group 3: 0.3639825060234316\n",
      "generalization gap for group 4: 0.3589775877981376\n",
      "generalization gap for group 5: 0.4518100684968798\n",
      "generalization gap for group 6: 0.4233788170934199\n",
      "generalization gap for group 7: 0.46970920038987607\n"
     ]
    }
   ],
   "source": [
    "# measure memorization\n",
    "gen_gap_per_group(true_model_train, Y_train, train_attr, true_model_test, Y_test, test_attr)"
   ]
  },
  {
   "cell_type": "markdown",
   "metadata": {},
   "source": [
    "### Privacy Risk Score Analysis"
   ]
  },
  {
   "cell_type": "code",
   "execution_count": 49,
   "metadata": {},
   "outputs": [],
   "source": [
    "tr_values = MIA._entr_comp(shadow_out_train)\n",
    "te_values = MIA._entr_comp(shadow_out_test)\n",
    "data_values = MIA._entr_comp(true_model_train)"
   ]
  },
  {
   "cell_type": "code",
   "execution_count": 50,
   "metadata": {},
   "outputs": [
    {
     "data": {
      "image/png": "[encoded data removed]",
      "text/plain": [
       "<Figure size 1080x1080 with 2 Axes>"
      ]
     },
     "metadata": {
      "needs_background": "light"
     },
     "output_type": "display_data"
    }
   ],
   "source": [
    "# get risk scores\n",
    "risk_scores = calculate_risk_score(tr_values, te_values, \n",
    "                                   true_pred_on_shadow_train, \n",
    "                                   true_pred_on_shadow_test, \n",
    "                                   data_values, Y_train, num_bins=5, log_bins=False)"
   ]
  },
  {
   "cell_type": "code",
   "execution_count": 51,
   "metadata": {},
   "outputs": [
    {
     "data": {
      "image/png": "[encoded data removed]",
      "text/plain": [
       "<Figure size 432x288 with 1 Axes>"
      ]
     },
     "metadata": {
      "needs_background": "light"
     },
     "output_type": "display_data"
    }
   ],
   "source": [
    "risk_hist(map_race, 'race', ad_df_train, risk_scores)"
   ]
  },
  {
   "cell_type": "code",
   "execution_count": 52,
   "metadata": {},
   "outputs": [
    {
     "data": {
      "image/png": "[encoded data removed]",
      "text/plain": [
       "<Figure size 432x288 with 1 Axes>"
      ]
     },
     "metadata": {
      "needs_background": "light"
     },
     "output_type": "display_data"
    }
   ],
   "source": [
    "risk_hist(map_sex, 'sex', ad_df_train, risk_scores)"
   ]
  },
  {
   "cell_type": "code",
   "execution_count": 53,
   "metadata": {},
   "outputs": [
    {
     "data": {
      "image/png": "[encoded data removed]",
      "text/plain": [
       "<Figure size 432x288 with 1 Axes>"
      ]
     },
     "metadata": {
      "needs_background": "light"
     },
     "output_type": "display_data"
    }
   ],
   "source": [
    "risk_hist(map_income, 'income-per-year', ad_df_train, risk_scores)"
   ]
  },
  {
   "cell_type": "code",
   "execution_count": 54,
   "metadata": {},
   "outputs": [
    {
     "data": {
      "image/png": "[encoded data removed]",
      "text/plain": [
       "<Figure size 432x288 with 1 Axes>"
      ]
     },
     "metadata": {
      "needs_background": "light"
     },
     "output_type": "display_data"
    }
   ],
   "source": [
    "risk_hist(map_race_sex, 'race-sex', ad_df_train, risk_scores)"
   ]
  },
  {
   "cell_type": "markdown",
   "metadata": {},
   "source": [
    "## Agarwal et al (Reduction)"
   ]
  },
  {
   "cell_type": "code",
   "execution_count": 55,
   "metadata": {},
   "outputs": [],
   "source": [
    "from aif360.algorithms.inprocessing.exponentiated_gradient_reduction import ExponentiatedGradientReduction"
   ]
  },
  {
   "cell_type": "code",
   "execution_count": 56,
   "metadata": {},
   "outputs": [],
   "source": [
    "estimator = LogisticRegression(solver='liblinear')\n",
    "np.random.seed(0) #need for reproducibility\n",
    "exp_grad_red_dp = ExponentiatedGradientReduction(estimator=estimator, \n",
    "                                              constraints=\"DemographicParity\",\n",
    "                                              drop_prot_attr=False)"
   ]
  },
  {
   "cell_type": "code",
   "execution_count": 57,
   "metadata": {},
   "outputs": [
    {
     "name": "stderr",
     "output_type": "stream",
     "text": [
      "A column-vector y was passed when a 1d array was expected. Please change the shape of y to (n_samples, ), for example using ravel().\n"
     ]
    }
   ],
   "source": [
    "exp_grad_red_dp.fit(ad_train)\n",
    "exp_grad_red_pred_dp = exp_grad_red_dp.predict(ad_test)"
   ]
  },
  {
   "cell_type": "code",
   "execution_count": 58,
   "metadata": {},
   "outputs": [
    {
     "name": "stdout",
     "output_type": "stream",
     "text": [
      "DP Reduction Test Accuracy: 0.8026729034413632\n",
      "DP Reduction Demographic Parity ratio: 0.8863646735827712\n",
      "DP Reduction Average Absolute Odds diff: 0.13793206099376182\n"
     ]
    }
   ],
   "source": [
    "metrics_red_dp = ClassificationMetric(ad_test,exp_grad_red_pred_dp,unprivileged_groups=u, privileged_groups=p)\n",
    "test_acc_red_dp = metrics_red_dp.accuracy()\n",
    "DI_red_dp = metrics_red_dp.disparate_impact()\n",
    "EO_red_dp = metrics_red_dp.average_abs_odds_difference()\n",
    "print('DP Reduction Test Accuracy:', test_acc_red_dp)\n",
    "print('DP Reduction Demographic Parity ratio:', DI_red_dp)\n",
    "print('DP Reduction Average Absolute Odds diff:', EO_red_dp)"
   ]
  },
  {
   "cell_type": "markdown",
   "metadata": {},
   "source": [
    "### Membership Inference Attack"
   ]
  },
  {
   "cell_type": "code",
   "execution_count": 59,
   "metadata": {},
   "outputs": [
    {
     "name": "stderr",
     "output_type": "stream",
     "text": [
      "A column-vector y was passed when a 1d array was expected. Please change the shape of y to (n_samples, ), for example using ravel().\n"
     ]
    }
   ],
   "source": [
    "# Membership inference attack\n",
    "\n",
    "# train shadow model\n",
    "true_pred_on_shadow_train = exp_grad_red_dp.predict(shadow_train)\n",
    "true_pred_on_shadow_test = exp_grad_red_dp.predict(shadow_test)\n",
    "\n",
    "shadow_model = LogisticRegression(max_iter = 300, solver='liblinear').fit(shadow_Xs_train, true_pred_on_shadow_train.labels)"
   ]
  },
  {
   "cell_type": "code",
   "execution_count": 60,
   "metadata": {},
   "outputs": [],
   "source": [
    "true_pred_on_shadow_train = true_pred_on_shadow_train.labels.astype(int).reshape(len(true_pred_on_shadow_train.labels),)\n",
    "true_pred_on_shadow_test = true_pred_on_shadow_test.labels.astype(int).reshape(len(true_pred_on_shadow_test.labels),)"
   ]
  },
  {
   "cell_type": "code",
   "execution_count": 61,
   "metadata": {},
   "outputs": [],
   "source": [
    "shadow_out_train = exp_grad_red_dp.model.predict_proba(shadow_Xs_train)\n",
    "shadow_out_test = exp_grad_red_dp.model.predict_proba(shadow_Xs_test)\n",
    "true_model_train = exp_grad_red_dp.model.predict_proba(Xs_train)\n",
    "true_model_test = exp_grad_red_dp.model.predict_proba(Xs_test)"
   ]
  },
  {
   "cell_type": "code",
   "execution_count": 62,
   "metadata": {},
   "outputs": [],
   "source": [
    "shadow_train_performance = (shadow_out_train, true_pred_on_shadow_train)\n",
    "shadow_test_performance = (shadow_out_test, true_pred_on_shadow_test)\n",
    "target_train_performance = (true_model_train, Y_train)\n",
    "target_test_performance = (true_model_test, Y_test)"
   ]
  },
  {
   "cell_type": "code",
   "execution_count": 63,
   "metadata": {},
   "outputs": [],
   "source": [
    "# run MIA\n",
    "MIA = black_box_benchmarks(shadow_train_performance,shadow_test_performance,\n",
    "                         target_train_performance,target_test_performance,num_classes=2)"
   ]
  },
  {
   "cell_type": "code",
   "execution_count": 64,
   "metadata": {},
   "outputs": [
    {
     "name": "stdout",
     "output_type": "stream",
     "text": [
      "For membership inference attack via correctness, the attack acc is 0.500, with train acc 0.817 and test acc 0.817\n",
      "For membership inference attack via confidence, group attr 0, the attack acc is 0.527\n",
      "For membership inference attack via confidence, group attr 1, the attack acc is 0.495\n",
      "For membership inference attack via confidence, group attr 2, the attack acc is 0.493\n",
      "For membership inference attack via confidence, group attr 3, the attack acc is 0.520\n",
      "For membership inference attack via confidence, group attr 4, the attack acc is 0.493\n",
      "For membership inference attack via confidence, group attr 5, the attack acc is 0.496\n",
      "For membership inference attack via confidence, group attr 6, the attack acc is 0.499\n",
      "For membership inference attack via confidence, group attr 7, the attack acc is 0.500\n",
      "For membership inference attack via confidence, the attack acc is 0.499\n",
      "For membership inference attack via entropy, group attr 0, the attack acc is 0.513\n",
      "For membership inference attack via entropy, group attr 1, the attack acc is 0.506\n",
      "For membership inference attack via entropy, group attr 2, the attack acc is 0.505\n",
      "For membership inference attack via entropy, group attr 3, the attack acc is 0.474\n",
      "For membership inference attack via entropy, group attr 4, the attack acc is 0.495\n",
      "For membership inference attack via entropy, group attr 5, the attack acc is 0.495\n",
      "For membership inference attack via entropy, group attr 6, the attack acc is 0.498\n",
      "For membership inference attack via entropy, group attr 7, the attack acc is 0.500\n",
      "For membership inference attack via entropy, the attack acc is 0.498\n",
      "For membership inference attack via modified entropy, group attr 0, the attack acc is 0.527\n",
      "For membership inference attack via modified entropy, group attr 1, the attack acc is 0.495\n",
      "For membership inference attack via modified entropy, group attr 2, the attack acc is 0.493\n",
      "For membership inference attack via modified entropy, group attr 3, the attack acc is 0.520\n",
      "For membership inference attack via modified entropy, group attr 4, the attack acc is 0.493\n",
      "For membership inference attack via modified entropy, group attr 5, the attack acc is 0.496\n",
      "For membership inference attack via modified entropy, group attr 6, the attack acc is 0.499\n",
      "For membership inference attack via modified entropy, group attr 7, the attack acc is 0.500\n",
      "For membership inference attack via modified entropy, the attack acc is 0.499\n"
     ]
    }
   ],
   "source": [
    "MIA._mem_inf_benchmarks(shadow_attr_train, shadow_attr_test, train_attr, test_attr)"
   ]
  },
  {
   "cell_type": "code",
   "execution_count": 65,
   "metadata": {},
   "outputs": [],
   "source": [
    "# white box MIA for reference\n",
    "MIA_wb = black_box_benchmarks(target_train_performance,target_test_performance,\n",
    "                         target_train_performance,target_test_performance,num_classes=2)"
   ]
  },
  {
   "cell_type": "code",
   "execution_count": 66,
   "metadata": {},
   "outputs": [
    {
     "name": "stdout",
     "output_type": "stream",
     "text": [
      "For membership inference attack via correctness, the attack acc is 0.500, with train acc 0.817 and test acc 0.817\n",
      "For membership inference attack via confidence, group attr 0, the attack acc is 0.556\n",
      "For membership inference attack via confidence, group attr 1, the attack acc is 0.512\n",
      "For membership inference attack via confidence, group attr 2, the attack acc is 0.502\n",
      "For membership inference attack via confidence, group attr 3, the attack acc is 0.577\n",
      "For membership inference attack via confidence, group attr 4, the attack acc is 0.510\n",
      "For membership inference attack via confidence, group attr 5, the attack acc is 0.506\n",
      "For membership inference attack via confidence, group attr 6, the attack acc is 0.502\n",
      "For membership inference attack via confidence, group attr 7, the attack acc is 0.502\n",
      "For membership inference attack via confidence, the attack acc is 0.504\n",
      "For membership inference attack via entropy, group attr 0, the attack acc is 0.539\n",
      "For membership inference attack via entropy, group attr 1, the attack acc is 0.521\n",
      "For membership inference attack via entropy, group attr 2, the attack acc is 0.514\n",
      "For membership inference attack via entropy, group attr 3, the attack acc is 0.563\n",
      "For membership inference attack via entropy, group attr 4, the attack acc is 0.508\n",
      "For membership inference attack via entropy, group attr 5, the attack acc is 0.508\n",
      "For membership inference attack via entropy, group attr 6, the attack acc is 0.501\n",
      "For membership inference attack via entropy, group attr 7, the attack acc is 0.504\n",
      "For membership inference attack via entropy, the attack acc is 0.505\n",
      "For membership inference attack via modified entropy, group attr 0, the attack acc is 0.556\n",
      "For membership inference attack via modified entropy, group attr 1, the attack acc is 0.512\n",
      "For membership inference attack via modified entropy, group attr 2, the attack acc is 0.502\n",
      "For membership inference attack via modified entropy, group attr 3, the attack acc is 0.577\n",
      "For membership inference attack via modified entropy, group attr 4, the attack acc is 0.510\n",
      "For membership inference attack via modified entropy, group attr 5, the attack acc is 0.506\n",
      "For membership inference attack via modified entropy, group attr 6, the attack acc is 0.502\n",
      "For membership inference attack via modified entropy, group attr 7, the attack acc is 0.502\n",
      "For membership inference attack via modified entropy, the attack acc is 0.504\n"
     ]
    }
   ],
   "source": [
    "MIA_wb._mem_inf_benchmarks(train_attr, test_attr, train_attr, test_attr)"
   ]
  },
  {
   "cell_type": "code",
   "execution_count": 67,
   "metadata": {},
   "outputs": [
    {
     "name": "stdout",
     "output_type": "stream",
     "text": [
      "generalization gap for group 0: 0.22956311276442898\n",
      "generalization gap for group 1: 0.1210844362019598\n",
      "generalization gap for group 2: 0.08764173265421871\n",
      "generalization gap for group 3: 0.23540117317028186\n",
      "generalization gap for group 4: 0.20295860227670415\n",
      "generalization gap for group 5: 0.04160749616046394\n",
      "generalization gap for group 6: 0.0022154603072443435\n",
      "generalization gap for group 7: 0.016974325154452075\n"
     ]
    }
   ],
   "source": [
    "# measure memorization\n",
    "gen_gap_per_group(true_model_train, Y_train, train_attr, true_model_test, Y_test, test_attr)"
   ]
  },
  {
   "cell_type": "markdown",
   "metadata": {},
   "source": [
    "### Privacy Risk Score Analysis"
   ]
  },
  {
   "cell_type": "code",
   "execution_count": 68,
   "metadata": {},
   "outputs": [],
   "source": [
    "tr_values = MIA._entr_comp(shadow_out_train)\n",
    "te_values = MIA._entr_comp(shadow_out_test)\n",
    "data_values = MIA._entr_comp(true_model_train)"
   ]
  },
  {
   "cell_type": "code",
   "execution_count": 69,
   "metadata": {},
   "outputs": [
    {
     "data": {
      "image/png": "[encoded data removed]",
      "text/plain": [
       "<Figure size 1080x1080 with 2 Axes>"
      ]
     },
     "metadata": {
      "needs_background": "light"
     },
     "output_type": "display_data"
    }
   ],
   "source": [
    "# get risk scores\n",
    "risk_scores = calculate_risk_score(tr_values, te_values, \n",
    "                                   true_pred_on_shadow_train, \n",
    "                                   true_pred_on_shadow_test, \n",
    "                                   data_values, Y_train, num_bins=5, log_bins=False)"
   ]
  },
  {
   "cell_type": "code",
   "execution_count": 70,
   "metadata": {},
   "outputs": [
    {
     "data": {
      "image/png": "[encoded data removed]",
      "text/plain": [
       "<Figure size 432x288 with 1 Axes>"
      ]
     },
     "metadata": {
      "needs_background": "light"
     },
     "output_type": "display_data"
    }
   ],
   "source": [
    "risk_hist(map_race, 'race', ad_df_train, risk_scores)"
   ]
  },
  {
   "cell_type": "code",
   "execution_count": 71,
   "metadata": {},
   "outputs": [
    {
     "data": {
      "image/png": "[encoded data removed]",
      "text/plain": [
       "<Figure size 432x288 with 1 Axes>"
      ]
     },
     "metadata": {
      "needs_background": "light"
     },
     "output_type": "display_data"
    }
   ],
   "source": [
    "risk_hist(map_sex, 'sex', ad_df_train, risk_scores)"
   ]
  },
  {
   "cell_type": "code",
   "execution_count": 72,
   "metadata": {},
   "outputs": [
    {
     "data": {
      "image/png": "[encoded data removed]",
      "text/plain": [
       "<Figure size 432x288 with 1 Axes>"
      ]
     },
     "metadata": {
      "needs_background": "light"
     },
     "output_type": "display_data"
    }
   ],
   "source": [
    "risk_hist(map_income, 'income-per-year', ad_df_train, risk_scores)"
   ]
  },
  {
   "cell_type": "code",
   "execution_count": 73,
   "metadata": {},
   "outputs": [
    {
     "data": {
      "image/png": "[encoded data removed]",
      "text/plain": [
       "<Figure size 432x288 with 1 Axes>"
      ]
     },
     "metadata": {
      "needs_background": "light"
     },
     "output_type": "display_data"
    }
   ],
   "source": [
    "risk_hist(map_race_sex, 'race-sex', ad_df_train, risk_scores)"
   ]
  },
  {
   "cell_type": "markdown",
   "metadata": {},
   "source": [
    "# Equalized Odds (Separation)"
   ]
  },
  {
   "cell_type": "markdown",
   "metadata": {},
   "source": [
    "## Hardt et al. (Postprocessing)"
   ]
  },
  {
   "cell_type": "code",
   "execution_count": 74,
   "metadata": {},
   "outputs": [],
   "source": [
    "from aif360.algorithms.postprocessing import EqOddsPostprocessing"
   ]
  },
  {
   "cell_type": "code",
   "execution_count": 75,
   "metadata": {},
   "outputs": [],
   "source": [
    "postprocessing = EqOddsPostprocessing(u, p)"
   ]
  },
  {
   "cell_type": "code",
   "execution_count": 76,
   "metadata": {},
   "outputs": [],
   "source": [
    "postprocessing = postprocessing.fit(ad_train, ad_pred_train)\n",
    "postprocess_pred = postprocessing.predict(ad_pred)"
   ]
  },
  {
   "cell_type": "code",
   "execution_count": 77,
   "metadata": {},
   "outputs": [
    {
     "name": "stdout",
     "output_type": "stream",
     "text": [
      "Postprocessing Test Accuracy: 0.8140995656531907\n",
      "Postprocessing Demographic Parity ratio: 0.6174765669542002\n",
      "Postprocessing Average Absolute Odds diff: 0.007857657450268743\n"
     ]
    }
   ],
   "source": [
    "metrics_post = ClassificationMetric(ad_test,postprocess_pred,unprivileged_groups=u, privileged_groups=p)\n",
    "test_acc_post = metrics_post.accuracy()\n",
    "DI_post = metrics_post.disparate_impact()\n",
    "EO_ppost = metrics_post.average_abs_odds_difference()\n",
    "print('Postprocessing Test Accuracy:', test_acc_post)\n",
    "print('Postprocessing Demographic Parity ratio:', DI_post)\n",
    "print('Postprocessing Average Absolute Odds diff:', EO_ppost)"
   ]
  },
  {
   "cell_type": "markdown",
   "metadata": {},
   "source": [
    "### Membership Inference Attack"
   ]
  },
  {
   "cell_type": "code",
   "execution_count": 78,
   "metadata": {},
   "outputs": [
    {
     "name": "stderr",
     "output_type": "stream",
     "text": [
      "A column-vector y was passed when a 1d array was expected. Please change the shape of y to (n_samples, ), for example using ravel().\n"
     ]
    }
   ],
   "source": [
    "# Membership inference attack\n",
    "\n",
    "# train shadow model\n",
    "true_pred_on_shadow_train = postprocessing.predict(shadow_train)\n",
    "true_pred_on_shadow_test = postprocessing.predict(shadow_test)\n",
    "\n",
    "shadow_model = LogisticRegression(max_iter = 300, solver='liblinear').fit(shadow_Xs_train, true_pred_on_shadow_train.labels)"
   ]
  },
  {
   "cell_type": "code",
   "execution_count": 79,
   "metadata": {},
   "outputs": [],
   "source": [
    "true_pred_on_shadow_train = true_pred_on_shadow_train.labels.astype(int).reshape(len(true_pred_on_shadow_train.labels),)\n",
    "true_pred_on_shadow_test = true_pred_on_shadow_test.labels.astype(int).reshape(len(true_pred_on_shadow_test.labels),)"
   ]
  },
  {
   "cell_type": "code",
   "execution_count": 80,
   "metadata": {},
   "outputs": [],
   "source": [
    "# TODO: probabilities from hardt postprocessing technique\n",
    "shadow_out_train = clf.predict_proba(shadow_Xs_train)\n",
    "shadow_out_test = clf.predict_proba(shadow_Xs_test)\n",
    "true_model_train = clf.predict_proba(Xs_train)\n",
    "true_model_test = clf.predict_proba(Xs_test)"
   ]
  },
  {
   "cell_type": "code",
   "execution_count": 81,
   "metadata": {},
   "outputs": [],
   "source": [
    "shadow_train_performance = (shadow_out_train, true_pred_on_shadow_train)\n",
    "shadow_test_performance = (shadow_out_test, true_pred_on_shadow_test)\n",
    "target_train_performance = (true_model_train, Y_train)\n",
    "target_test_performance = (true_model_test, Y_test)"
   ]
  },
  {
   "cell_type": "code",
   "execution_count": 82,
   "metadata": {},
   "outputs": [],
   "source": [
    "# run MIA\n",
    "MIA = black_box_benchmarks(shadow_train_performance,shadow_test_performance,\n",
    "                         target_train_performance,target_test_performance,num_classes=2)"
   ]
  },
  {
   "cell_type": "code",
   "execution_count": 83,
   "metadata": {},
   "outputs": [
    {
     "name": "stdout",
     "output_type": "stream",
     "text": [
      "For membership inference attack via correctness, the attack acc is 0.499, with train acc 0.845 and test acc 0.846\n",
      "For membership inference attack via confidence, group attr 0, the attack acc is 0.481\n",
      "For membership inference attack via confidence, group attr 1, the attack acc is 0.519\n",
      "For membership inference attack via confidence, group attr 2, the attack acc is 0.516\n",
      "For membership inference attack via confidence, group attr 3, the attack acc is 0.491\n",
      "For membership inference attack via confidence, group attr 4, the attack acc is 0.512\n",
      "For membership inference attack via confidence, group attr 5, the attack acc is 0.504\n",
      "For membership inference attack via confidence, group attr 6, the attack acc is 0.499\n",
      "For membership inference attack via confidence, group attr 7, the attack acc is 0.500\n",
      "For membership inference attack via confidence, the attack acc is 0.501\n",
      "For membership inference attack via entropy, group attr 0, the attack acc is 0.505\n",
      "For membership inference attack via entropy, group attr 1, the attack acc is 0.549\n",
      "For membership inference attack via entropy, group attr 2, the attack acc is 0.473\n",
      "For membership inference attack via entropy, group attr 3, the attack acc is 0.524\n",
      "For membership inference attack via entropy, group attr 4, the attack acc is 0.514\n",
      "For membership inference attack via entropy, group attr 5, the attack acc is 0.509\n",
      "For membership inference attack via entropy, group attr 6, the attack acc is 0.499\n",
      "For membership inference attack via entropy, group attr 7, the attack acc is 0.497\n",
      "For membership inference attack via entropy, the attack acc is 0.500\n",
      "For membership inference attack via modified entropy, group attr 0, the attack acc is 0.505\n",
      "For membership inference attack via modified entropy, group attr 1, the attack acc is 0.524\n",
      "For membership inference attack via modified entropy, group attr 2, the attack acc is 0.501\n",
      "For membership inference attack via modified entropy, group attr 3, the attack acc is 0.547\n",
      "For membership inference attack via modified entropy, group attr 4, the attack acc is 0.514\n",
      "For membership inference attack via modified entropy, group attr 5, the attack acc is 0.507\n",
      "For membership inference attack via modified entropy, group attr 6, the attack acc is 0.499\n",
      "For membership inference attack via modified entropy, group attr 7, the attack acc is 0.500\n",
      "For membership inference attack via modified entropy, the attack acc is 0.502\n"
     ]
    }
   ],
   "source": [
    "MIA._mem_inf_benchmarks(shadow_attr_train, shadow_attr_test, train_attr, test_attr)"
   ]
  },
  {
   "cell_type": "code",
   "execution_count": 84,
   "metadata": {},
   "outputs": [],
   "source": [
    "# white box MIA for reference\n",
    "MIA_wb = black_box_benchmarks(target_train_performance,target_test_performance,\n",
    "                         target_train_performance,target_test_performance,num_classes=2)"
   ]
  },
  {
   "cell_type": "code",
   "execution_count": 85,
   "metadata": {},
   "outputs": [
    {
     "name": "stdout",
     "output_type": "stream",
     "text": [
      "For membership inference attack via correctness, the attack acc is 0.499, with train acc 0.845 and test acc 0.846\n",
      "For membership inference attack via confidence, group attr 0, the attack acc is 0.551\n",
      "For membership inference attack via confidence, group attr 1, the attack acc is 0.581\n",
      "For membership inference attack via confidence, group attr 2, the attack acc is 0.571\n",
      "For membership inference attack via confidence, group attr 3, the attack acc is 0.534\n",
      "For membership inference attack via confidence, group attr 4, the attack acc is 0.524\n",
      "For membership inference attack via confidence, group attr 5, the attack acc is 0.518\n",
      "For membership inference attack via confidence, group attr 6, the attack acc is 0.509\n",
      "For membership inference attack via confidence, group attr 7, the attack acc is 0.504\n",
      "For membership inference attack via confidence, the attack acc is 0.509\n",
      "For membership inference attack via entropy, group attr 0, the attack acc is 0.560\n",
      "For membership inference attack via entropy, group attr 1, the attack acc is 0.567\n",
      "For membership inference attack via entropy, group attr 2, the attack acc is 0.582\n",
      "For membership inference attack via entropy, group attr 3, the attack acc is 0.526\n",
      "For membership inference attack via entropy, group attr 4, the attack acc is 0.520\n",
      "For membership inference attack via entropy, group attr 5, the attack acc is 0.521\n",
      "For membership inference attack via entropy, group attr 6, the attack acc is 0.509\n",
      "For membership inference attack via entropy, group attr 7, the attack acc is 0.504\n",
      "For membership inference attack via entropy, the attack acc is 0.509\n",
      "For membership inference attack via modified entropy, group attr 0, the attack acc is 0.551\n",
      "For membership inference attack via modified entropy, group attr 1, the attack acc is 0.581\n",
      "For membership inference attack via modified entropy, group attr 2, the attack acc is 0.571\n",
      "For membership inference attack via modified entropy, group attr 3, the attack acc is 0.534\n",
      "For membership inference attack via modified entropy, group attr 4, the attack acc is 0.524\n",
      "For membership inference attack via modified entropy, group attr 5, the attack acc is 0.518\n",
      "For membership inference attack via modified entropy, group attr 6, the attack acc is 0.509\n",
      "For membership inference attack via modified entropy, group attr 7, the attack acc is 0.504\n",
      "For membership inference attack via modified entropy, the attack acc is 0.509\n"
     ]
    }
   ],
   "source": [
    "MIA_wb._mem_inf_benchmarks(train_attr, test_attr, train_attr, test_attr)"
   ]
  },
  {
   "cell_type": "code",
   "execution_count": 86,
   "metadata": {},
   "outputs": [
    {
     "name": "stdout",
     "output_type": "stream",
     "text": [
      "generalization gap for group 0: 0.026538831210573266\n",
      "generalization gap for group 1: 0.09866577643288499\n",
      "generalization gap for group 2: 0.17538865348881075\n",
      "generalization gap for group 3: 0.002220065245218228\n",
      "generalization gap for group 4: 0.01795451880166976\n",
      "generalization gap for group 5: 0.00017744523551793678\n",
      "generalization gap for group 6: 0.000796687713221389\n",
      "generalization gap for group 7: 0.011224237990104968\n"
     ]
    }
   ],
   "source": [
    "# measure memorization\n",
    "gen_gap_per_group(true_model_train, Y_train, train_attr, true_model_test, Y_test, test_attr)"
   ]
  },
  {
   "cell_type": "markdown",
   "metadata": {},
   "source": [
    "### Privacy Risk Score Analysis"
   ]
  },
  {
   "cell_type": "code",
   "execution_count": 87,
   "metadata": {},
   "outputs": [],
   "source": [
    "tr_values = MIA._entr_comp(shadow_out_train)\n",
    "te_values = MIA._entr_comp(shadow_out_test)\n",
    "data_values = MIA._entr_comp(true_model_train)"
   ]
  },
  {
   "cell_type": "code",
   "execution_count": 88,
   "metadata": {},
   "outputs": [
    {
     "data": {
      "image/png": "[encoded data removed]",
      "text/plain": [
       "<Figure size 1080x1080 with 2 Axes>"
      ]
     },
     "metadata": {
      "needs_background": "light"
     },
     "output_type": "display_data"
    }
   ],
   "source": [
    "# get risk scores\n",
    "risk_scores = calculate_risk_score(tr_values, te_values, \n",
    "                                   true_pred_on_shadow_train, \n",
    "                                   true_pred_on_shadow_test, \n",
    "                                   data_values, Y_train, num_bins=5, log_bins=False)"
   ]
  },
  {
   "cell_type": "code",
   "execution_count": 89,
   "metadata": {},
   "outputs": [
    {
     "data": {
      "image/png": "[encoded data removed]",
      "text/plain": [
       "<Figure size 432x288 with 1 Axes>"
      ]
     },
     "metadata": {
      "needs_background": "light"
     },
     "output_type": "display_data"
    }
   ],
   "source": [
    "risk_hist(map_race, 'race', ad_df_train, risk_scores)"
   ]
  },
  {
   "cell_type": "code",
   "execution_count": 90,
   "metadata": {},
   "outputs": [
    {
     "data": {
      "image/png": "[encoded data removed]",
      "text/plain": [
       "<Figure size 432x288 with 1 Axes>"
      ]
     },
     "metadata": {
      "needs_background": "light"
     },
     "output_type": "display_data"
    }
   ],
   "source": [
    "risk_hist(map_sex, 'sex', ad_df_train, risk_scores)"
   ]
  },
  {
   "cell_type": "code",
   "execution_count": 91,
   "metadata": {},
   "outputs": [
    {
     "data": {
      "image/png": "[encoded data removed]",
      "text/plain": [
       "<Figure size 432x288 with 1 Axes>"
      ]
     },
     "metadata": {
      "needs_background": "light"
     },
     "output_type": "display_data"
    }
   ],
   "source": [
    "risk_hist(map_income, 'income-per-year', ad_df_train, risk_scores)"
   ]
  },
  {
   "cell_type": "code",
   "execution_count": 92,
   "metadata": {},
   "outputs": [
    {
     "data": {
      "image/png": "[encoded data removed]",
      "text/plain": [
       "<Figure size 432x288 with 1 Axes>"
      ]
     },
     "metadata": {
      "needs_background": "light"
     },
     "output_type": "display_data"
    }
   ],
   "source": [
    "risk_hist(map_race_sex, 'race-sex', ad_df_train, risk_scores)"
   ]
  },
  {
   "cell_type": "markdown",
   "metadata": {},
   "source": [
    "## Agarwal et al (Reduction)"
   ]
  },
  {
   "cell_type": "code",
   "execution_count": 93,
   "metadata": {},
   "outputs": [],
   "source": [
    "estimator = LogisticRegression(solver='liblinear')\n",
    "np.random.seed(0) #need for reproducibility\n",
    "exp_grad_red = ExponentiatedGradientReduction(estimator=estimator, \n",
    "                                              constraints=\"EqualizedOdds\",\n",
    "                                              drop_prot_attr=False)"
   ]
  },
  {
   "cell_type": "code",
   "execution_count": 94,
   "metadata": {},
   "outputs": [
    {
     "name": "stderr",
     "output_type": "stream",
     "text": [
      "A column-vector y was passed when a 1d array was expected. Please change the shape of y to (n_samples, ), for example using ravel().\n"
     ]
    }
   ],
   "source": [
    "exp_grad_red.fit(ad_train)\n",
    "exp_grad_red_pred = exp_grad_red.predict(ad_test)"
   ]
  },
  {
   "cell_type": "code",
   "execution_count": 95,
   "metadata": {},
   "outputs": [
    {
     "name": "stdout",
     "output_type": "stream",
     "text": [
      "EO Reduction Test Accuracy: 0.7929836284664217\n",
      "EO Reduction Demographic Parity ratio: 0.573711529289617\n",
      "EO Reduction Average Absolute Odds diff: 0.022731095923982356\n"
     ]
    }
   ],
   "source": [
    "metrics_red_eo = ClassificationMetric(ad_test,exp_grad_red_pred,unprivileged_groups=u, privileged_groups=p)\n",
    "test_acc_red_eo = metrics_red_eo.accuracy()\n",
    "DI_red_eo = metrics_red_eo.disparate_impact()\n",
    "EO_red_eo = metrics_red_eo.average_abs_odds_difference()\n",
    "print('EO Reduction Test Accuracy:', test_acc_red_eo)\n",
    "print('EO Reduction Demographic Parity ratio:', DI_red_eo)\n",
    "print('EO Reduction Average Absolute Odds diff:', EO_red_eo)"
   ]
  },
  {
   "cell_type": "markdown",
   "metadata": {},
   "source": [
    "### Membership Inference Attack"
   ]
  },
  {
   "cell_type": "code",
   "execution_count": 96,
   "metadata": {},
   "outputs": [
    {
     "name": "stderr",
     "output_type": "stream",
     "text": [
      "A column-vector y was passed when a 1d array was expected. Please change the shape of y to (n_samples, ), for example using ravel().\n"
     ]
    }
   ],
   "source": [
    "# Membership inference attack\n",
    "\n",
    "# train shadow model\n",
    "true_pred_on_shadow_train = exp_grad_red.predict(shadow_train)\n",
    "true_pred_on_shadow_test = exp_grad_red.predict(shadow_test)\n",
    "\n",
    "shadow_model = LogisticRegression(max_iter = 300, solver='liblinear').fit(shadow_Xs_train, true_pred_on_shadow_train.labels)"
   ]
  },
  {
   "cell_type": "code",
   "execution_count": 97,
   "metadata": {},
   "outputs": [],
   "source": [
    "true_pred_on_shadow_train = true_pred_on_shadow_train.labels.astype(int).reshape(len(true_pred_on_shadow_train.labels),)\n",
    "true_pred_on_shadow_test = true_pred_on_shadow_test.labels.astype(int).reshape(len(true_pred_on_shadow_test.labels),)"
   ]
  },
  {
   "cell_type": "code",
   "execution_count": 98,
   "metadata": {},
   "outputs": [],
   "source": [
    "shadow_out_train = exp_grad_red.model.predict_proba(shadow_Xs_train)\n",
    "shadow_out_test = exp_grad_red.model.predict_proba(shadow_Xs_test)\n",
    "true_model_train = exp_grad_red.model.predict_proba(Xs_train)\n",
    "true_model_test = exp_grad_red.model.predict_proba(Xs_test)"
   ]
  },
  {
   "cell_type": "code",
   "execution_count": 99,
   "metadata": {},
   "outputs": [],
   "source": [
    "shadow_train_performance = (shadow_out_train, true_pred_on_shadow_train)\n",
    "shadow_test_performance = (shadow_out_test, true_pred_on_shadow_test)\n",
    "target_train_performance = (true_model_train, Y_train)\n",
    "target_test_performance = (true_model_test, Y_test)"
   ]
  },
  {
   "cell_type": "code",
   "execution_count": 100,
   "metadata": {},
   "outputs": [],
   "source": [
    "# run MIA\n",
    "MIA = black_box_benchmarks(shadow_train_performance,shadow_test_performance,\n",
    "                         target_train_performance,target_test_performance,num_classes=2)"
   ]
  },
  {
   "cell_type": "code",
   "execution_count": 101,
   "metadata": {},
   "outputs": [
    {
     "name": "stdout",
     "output_type": "stream",
     "text": [
      "For membership inference attack via correctness, the attack acc is 0.501, with train acc 0.834 and test acc 0.832\n",
      "For membership inference attack via confidence, group attr 0, the attack acc is 0.499\n",
      "For membership inference attack via confidence, group attr 1, the attack acc is 0.530\n",
      "For membership inference attack via confidence, group attr 2, the attack acc is 0.496\n",
      "For membership inference attack via confidence, group attr 3, the attack acc is 0.562\n",
      "For membership inference attack via confidence, group attr 4, the attack acc is 0.504\n",
      "For membership inference attack via confidence, group attr 5, the attack acc is 0.504\n",
      "For membership inference attack via confidence, group attr 6, the attack acc is 0.501\n",
      "For membership inference attack via confidence, group attr 7, the attack acc is 0.500\n",
      "For membership inference attack via confidence, the attack acc is 0.502\n",
      "For membership inference attack via entropy, group attr 0, the attack acc is 0.528\n",
      "For membership inference attack via entropy, group attr 1, the attack acc is 0.499\n",
      "For membership inference attack via entropy, group attr 2, the attack acc is 0.494\n",
      "For membership inference attack via entropy, group attr 3, the attack acc is 0.559\n",
      "For membership inference attack via entropy, group attr 4, the attack acc is 0.493\n",
      "For membership inference attack via entropy, group attr 5, the attack acc is 0.506\n",
      "For membership inference attack via entropy, group attr 6, the attack acc is 0.501\n",
      "For membership inference attack via entropy, group attr 7, the attack acc is 0.501\n",
      "For membership inference attack via entropy, the attack acc is 0.502\n",
      "For membership inference attack via modified entropy, group attr 0, the attack acc is 0.499\n",
      "For membership inference attack via modified entropy, group attr 1, the attack acc is 0.530\n",
      "For membership inference attack via modified entropy, group attr 2, the attack acc is 0.496\n",
      "For membership inference attack via modified entropy, group attr 3, the attack acc is 0.562\n",
      "For membership inference attack via modified entropy, group attr 4, the attack acc is 0.504\n",
      "For membership inference attack via modified entropy, group attr 5, the attack acc is 0.504\n",
      "For membership inference attack via modified entropy, group attr 6, the attack acc is 0.501\n",
      "For membership inference attack via modified entropy, group attr 7, the attack acc is 0.500\n",
      "For membership inference attack via modified entropy, the attack acc is 0.502\n"
     ]
    }
   ],
   "source": [
    "MIA._mem_inf_benchmarks(shadow_attr_train, shadow_attr_test, train_attr, test_attr)"
   ]
  },
  {
   "cell_type": "code",
   "execution_count": 102,
   "metadata": {},
   "outputs": [],
   "source": [
    "# white box MIA for reference\n",
    "MIA_wb = black_box_benchmarks(target_train_performance,target_test_performance,\n",
    "                         target_train_performance,target_test_performance,num_classes=2)"
   ]
  },
  {
   "cell_type": "code",
   "execution_count": 103,
   "metadata": {},
   "outputs": [
    {
     "name": "stdout",
     "output_type": "stream",
     "text": [
      "For membership inference attack via correctness, the attack acc is 0.501, with train acc 0.834 and test acc 0.832\n",
      "For membership inference attack via confidence, group attr 0, the attack acc is 0.579\n",
      "For membership inference attack via confidence, group attr 1, the attack acc is 0.559\n",
      "For membership inference attack via confidence, group attr 2, the attack acc is 0.539\n",
      "For membership inference attack via confidence, group attr 3, the attack acc is 0.545\n",
      "For membership inference attack via confidence, group attr 4, the attack acc is 0.510\n",
      "For membership inference attack via confidence, group attr 5, the attack acc is 0.518\n",
      "For membership inference attack via confidence, group attr 6, the attack acc is 0.506\n",
      "For membership inference attack via confidence, group attr 7, the attack acc is 0.503\n",
      "For membership inference attack via confidence, the attack acc is 0.507\n",
      "For membership inference attack via entropy, group attr 0, the attack acc is 0.573\n",
      "For membership inference attack via entropy, group attr 1, the attack acc is 0.523\n",
      "For membership inference attack via entropy, group attr 2, the attack acc is 0.551\n",
      "For membership inference attack via entropy, group attr 3, the attack acc is 0.559\n",
      "For membership inference attack via entropy, group attr 4, the attack acc is 0.503\n",
      "For membership inference attack via entropy, group attr 5, the attack acc is 0.514\n",
      "For membership inference attack via entropy, group attr 6, the attack acc is 0.503\n",
      "For membership inference attack via entropy, group attr 7, the attack acc is 0.505\n",
      "For membership inference attack via entropy, the attack acc is 0.507\n",
      "For membership inference attack via modified entropy, group attr 0, the attack acc is 0.579\n",
      "For membership inference attack via modified entropy, group attr 1, the attack acc is 0.559\n",
      "For membership inference attack via modified entropy, group attr 2, the attack acc is 0.539\n",
      "For membership inference attack via modified entropy, group attr 3, the attack acc is 0.545\n",
      "For membership inference attack via modified entropy, group attr 4, the attack acc is 0.510\n",
      "For membership inference attack via modified entropy, group attr 5, the attack acc is 0.518\n",
      "For membership inference attack via modified entropy, group attr 6, the attack acc is 0.506\n",
      "For membership inference attack via modified entropy, group attr 7, the attack acc is 0.503\n",
      "For membership inference attack via modified entropy, the attack acc is 0.507\n"
     ]
    }
   ],
   "source": [
    "MIA_wb._mem_inf_benchmarks(train_attr, test_attr, train_attr, test_attr)"
   ]
  },
  {
   "cell_type": "code",
   "execution_count": 104,
   "metadata": {},
   "outputs": [
    {
     "name": "stdout",
     "output_type": "stream",
     "text": [
      "generalization gap for group 0: 0.05642607700398963\n",
      "generalization gap for group 1: 0.8273891448726809\n",
      "generalization gap for group 2: 0.15353303587886147\n",
      "generalization gap for group 3: 0.3745908827219546\n",
      "generalization gap for group 4: 0.10985327053252847\n",
      "generalization gap for group 5: 0.1591995834940667\n",
      "generalization gap for group 6: 0.07194630524279455\n",
      "generalization gap for group 7: 0.09035579466786015\n"
     ]
    }
   ],
   "source": [
    "# measure memorization\n",
    "gen_gap_per_group(true_model_train, Y_train, train_attr, true_model_test, Y_test, test_attr)"
   ]
  },
  {
   "cell_type": "markdown",
   "metadata": {},
   "source": [
    "### Privacy Risk Score Analysis"
   ]
  },
  {
   "cell_type": "code",
   "execution_count": 105,
   "metadata": {},
   "outputs": [],
   "source": [
    "tr_values = MIA._entr_comp(shadow_out_train)\n",
    "te_values = MIA._entr_comp(shadow_out_test)\n",
    "data_values = MIA._entr_comp(true_model_train)"
   ]
  },
  {
   "cell_type": "code",
   "execution_count": 106,
   "metadata": {},
   "outputs": [
    {
     "data": {
      "image/png": "[encoded data removed]",
      "text/plain": [
       "<Figure size 1080x1080 with 2 Axes>"
      ]
     },
     "metadata": {
      "needs_background": "light"
     },
     "output_type": "display_data"
    }
   ],
   "source": [
    "# get risk scores\n",
    "risk_scores = calculate_risk_score(tr_values, te_values, \n",
    "                                   true_pred_on_shadow_train, \n",
    "                                   true_pred_on_shadow_test, \n",
    "                                   data_values, Y_train, num_bins=5, log_bins=False)"
   ]
  },
  {
   "cell_type": "code",
   "execution_count": 107,
   "metadata": {},
   "outputs": [
    {
     "data": {
      "image/png": "[encoded data removed]",
      "text/plain": [
       "<Figure size 432x288 with 1 Axes>"
      ]
     },
     "metadata": {
      "needs_background": "light"
     },
     "output_type": "display_data"
    }
   ],
   "source": [
    "risk_hist(map_race, 'race', ad_df_train, risk_scores)"
   ]
  },
  {
   "cell_type": "code",
   "execution_count": 108,
   "metadata": {},
   "outputs": [
    {
     "data": {
      "image/png": "[encoded data removed]",
      "text/plain": [
       "<Figure size 432x288 with 1 Axes>"
      ]
     },
     "metadata": {
      "needs_background": "light"
     },
     "output_type": "display_data"
    }
   ],
   "source": [
    "risk_hist(map_sex, 'sex', ad_df_train, risk_scores)"
   ]
  },
  {
   "cell_type": "code",
   "execution_count": 109,
   "metadata": {},
   "outputs": [
    {
     "data": {
      "image/png": "[encoded data removed]",
      "text/plain": [
       "<Figure size 432x288 with 1 Axes>"
      ]
     },
     "metadata": {
      "needs_background": "light"
     },
     "output_type": "display_data"
    }
   ],
   "source": [
    "risk_hist(map_income, 'income-per-year', ad_df_train, risk_scores)"
   ]
  },
  {
   "cell_type": "code",
   "execution_count": 110,
   "metadata": {},
   "outputs": [
    {
     "data": {
      "image/png": "[encoded data removed]",
      "text/plain": [
       "<Figure size 432x288 with 1 Axes>"
      ]
     },
     "metadata": {
      "needs_background": "light"
     },
     "output_type": "display_data"
    }
   ],
   "source": [
    "risk_hist(map_race_sex, 'race-sex', ad_df_train, risk_scores)"
   ]
  }
 ],
 "metadata": {
  "kernelspec": {
   "display_name": "Python 3",
   "language": "python",
   "name": "python3"
  },
  "language_info": {
   "codemirror_mode": {
    "name": "ipython",
    "version": 3
   },
   "file_extension": ".py",
   "mimetype": "text/x-python",
   "name": "python",
   "nbconvert_exporter": "python",
   "pygments_lexer": "ipython3",
   "version": "3.7.1"
  }
 },
 "nbformat": 4,
 "nbformat_minor": 4
}
