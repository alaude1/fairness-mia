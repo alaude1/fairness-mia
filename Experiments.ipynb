{
 "cells": [
  {
   "cell_type": "code",
   "execution_count": 1,
   "metadata": {},
   "outputs": [],
   "source": [
    "import pandas as pd\n",
    "import numpy as np"
   ]
  },
  {
   "cell_type": "code",
   "execution_count": 2,
   "metadata": {
    "jupyter": {
     "outputs_hidden": true
    },
    "scrolled": true
   },
   "outputs": [
    {
     "name": "stdout",
     "output_type": "stream",
     "text": [
      "Requirement already satisfied: aif360 in /home/sophie/.local/lib/python3.7/site-packages (0.4.0)\n",
      "Requirement already satisfied: matplotlib in /home/sophie/anaconda3/lib/python3.7/site-packages (from aif360) (3.0.2)\n",
      "Requirement already satisfied: scipy<1.6.0,>=1.2.0 in /home/sophie/.local/lib/python3.7/site-packages (from aif360) (1.4.1)\n",
      "Requirement already satisfied: scikit-learn>=0.22.1 in /home/sophie/.local/lib/python3.7/site-packages (from aif360) (0.23.1)\n",
      "Requirement already satisfied: tempeh in /home/sophie/.local/lib/python3.7/site-packages (from aif360) (0.1.12)\n",
      "Requirement already satisfied: numpy>=1.16 in /home/sophie/.local/lib/python3.7/site-packages (from aif360) (1.18.2)\n",
      "Requirement already satisfied: pandas>=0.24.0 in /home/sophie/.local/lib/python3.7/site-packages (from aif360) (1.0.3)\n",
      "Requirement already satisfied: cycler>=0.10 in /home/sophie/anaconda3/lib/python3.7/site-packages (from matplotlib->aif360) (0.10.0)\n",
      "Requirement already satisfied: kiwisolver>=1.0.1 in /home/sophie/anaconda3/lib/python3.7/site-packages (from matplotlib->aif360) (1.0.1)\n",
      "Requirement already satisfied: pyparsing!=2.0.4,!=2.1.2,!=2.1.6,>=2.0.1 in /home/sophie/anaconda3/lib/python3.7/site-packages (from matplotlib->aif360) (2.3.0)\n",
      "Requirement already satisfied: python-dateutil>=2.1 in /home/sophie/.local/lib/python3.7/site-packages (from matplotlib->aif360) (2.8.1)\n",
      "Requirement already satisfied: threadpoolctl>=2.0.0 in /home/sophie/.local/lib/python3.7/site-packages (from scikit-learn>=0.22.1->aif360) (2.1.0)\n",
      "Requirement already satisfied: joblib>=0.11 in /home/sophie/.local/lib/python3.7/site-packages (from scikit-learn>=0.22.1->aif360) (0.15.1)\n",
      "Requirement already satisfied: memory-profiler in /home/sophie/.local/lib/python3.7/site-packages (from tempeh->aif360) (0.58.0)\n",
      "Requirement already satisfied: pytest in /home/sophie/anaconda3/lib/python3.7/site-packages (from tempeh->aif360) (4.0.2)\n",
      "Requirement already satisfied: requests in /home/sophie/anaconda3/lib/python3.7/site-packages (from tempeh->aif360) (2.21.0)\n",
      "Requirement already satisfied: shap in /home/sophie/.local/lib/python3.7/site-packages (from tempeh->aif360) (0.39.0)\n",
      "Requirement already satisfied: pytz>=2017.2 in /home/sophie/anaconda3/lib/python3.7/site-packages (from pandas>=0.24.0->aif360) (2018.7)\n",
      "Requirement already satisfied: six in /home/sophie/anaconda3/lib/python3.7/site-packages (from cycler>=0.10->matplotlib->aif360) (1.12.0)\n",
      "Requirement already satisfied: setuptools in /home/sophie/.local/lib/python3.7/site-packages (from kiwisolver>=1.0.1->matplotlib->aif360) (46.1.3)\n",
      "Requirement already satisfied: psutil in /home/sophie/anaconda3/lib/python3.7/site-packages (from memory-profiler->tempeh->aif360) (5.4.8)\n",
      "Requirement already satisfied: py>=1.5.0 in /home/sophie/anaconda3/lib/python3.7/site-packages (from pytest->tempeh->aif360) (1.7.0)\n",
      "Requirement already satisfied: attrs>=17.4.0 in /home/sophie/anaconda3/lib/python3.7/site-packages (from pytest->tempeh->aif360) (18.2.0)\n",
      "Requirement already satisfied: more-itertools>=4.0.0 in /home/sophie/anaconda3/lib/python3.7/site-packages (from pytest->tempeh->aif360) (4.3.0)\n",
      "Requirement already satisfied: atomicwrites>=1.0 in /home/sophie/anaconda3/lib/python3.7/site-packages (from pytest->tempeh->aif360) (1.2.1)\n",
      "Requirement already satisfied: pluggy>=0.7 in /home/sophie/anaconda3/lib/python3.7/site-packages (from pytest->tempeh->aif360) (0.8.0)\n",
      "Requirement already satisfied: certifi>=2017.4.17 in /home/sophie/anaconda3/lib/python3.7/site-packages (from requests->tempeh->aif360) (2018.11.29)\n",
      "Requirement already satisfied: urllib3<1.25,>=1.21.1 in /home/sophie/anaconda3/lib/python3.7/site-packages (from requests->tempeh->aif360) (1.24.1)\n",
      "Requirement already satisfied: chardet<3.1.0,>=3.0.2 in /home/sophie/anaconda3/lib/python3.7/site-packages (from requests->tempeh->aif360) (3.0.4)\n",
      "Requirement already satisfied: idna<2.9,>=2.5 in /home/sophie/anaconda3/lib/python3.7/site-packages (from requests->tempeh->aif360) (2.8)\n",
      "Requirement already satisfied: tqdm>4.25.0 in /home/sophie/anaconda3/lib/python3.7/site-packages (from shap->tempeh->aif360) (4.28.1)\n",
      "Requirement already satisfied: numba in /home/sophie/anaconda3/lib/python3.7/site-packages (from shap->tempeh->aif360) (0.41.0)\n",
      "Requirement already satisfied: slicer==0.0.7 in /home/sophie/.local/lib/python3.7/site-packages (from shap->tempeh->aif360) (0.0.7)\n",
      "Requirement already satisfied: cloudpickle in /home/sophie/anaconda3/lib/python3.7/site-packages (from shap->tempeh->aif360) (0.6.1)\n",
      "Requirement already satisfied: llvmlite>=0.26.0dev0 in /home/sophie/anaconda3/lib/python3.7/site-packages (from numba->shap->tempeh->aif360) (0.26.0)\n",
      "Requirement already satisfied: BlackBoxAuditing in /home/sophie/.local/lib/python3.7/site-packages (0.1.54)\n",
      "Requirement already satisfied: networkx in /home/sophie/anaconda3/lib/python3.7/site-packages (from BlackBoxAuditing) (2.2)\n",
      "Requirement already satisfied: pandas in /home/sophie/.local/lib/python3.7/site-packages (from BlackBoxAuditing) (1.0.3)\n",
      "Requirement already satisfied: matplotlib in /home/sophie/anaconda3/lib/python3.7/site-packages (from BlackBoxAuditing) (3.0.2)\n",
      "Requirement already satisfied: numpy in /home/sophie/.local/lib/python3.7/site-packages (from BlackBoxAuditing) (1.18.2)\n",
      "Requirement already satisfied: decorator>=4.3.0 in /home/sophie/anaconda3/lib/python3.7/site-packages (from networkx->BlackBoxAuditing) (4.3.0)\n",
      "Requirement already satisfied: python-dateutil>=2.6.1 in /home/sophie/.local/lib/python3.7/site-packages (from pandas->BlackBoxAuditing) (2.8.1)\n",
      "Requirement already satisfied: pytz>=2017.2 in /home/sophie/anaconda3/lib/python3.7/site-packages (from pandas->BlackBoxAuditing) (2018.7)\n",
      "Requirement already satisfied: cycler>=0.10 in /home/sophie/anaconda3/lib/python3.7/site-packages (from matplotlib->BlackBoxAuditing) (0.10.0)\n",
      "Requirement already satisfied: kiwisolver>=1.0.1 in /home/sophie/anaconda3/lib/python3.7/site-packages (from matplotlib->BlackBoxAuditing) (1.0.1)\n",
      "Requirement already satisfied: pyparsing!=2.0.4,!=2.1.2,!=2.1.6,>=2.0.1 in /home/sophie/anaconda3/lib/python3.7/site-packages (from matplotlib->BlackBoxAuditing) (2.3.0)\n",
      "Requirement already satisfied: six>=1.5 in /home/sophie/anaconda3/lib/python3.7/site-packages (from python-dateutil>=2.6.1->pandas->BlackBoxAuditing) (1.12.0)\n",
      "Requirement already satisfied: setuptools in /home/sophie/.local/lib/python3.7/site-packages (from kiwisolver>=1.0.1->matplotlib->BlackBoxAuditing) (46.1.3)\n",
      "Requirement already satisfied: fairlearn==0.4.6 in /home/sophie/.local/lib/python3.7/site-packages (0.4.6)\n",
      "Requirement already satisfied: pandas>=0.25.1 in /home/sophie/.local/lib/python3.7/site-packages (from fairlearn==0.4.6) (1.0.3)\n",
      "Requirement already satisfied: scikit-learn>=0.22.1 in /home/sophie/.local/lib/python3.7/site-packages (from fairlearn==0.4.6) (0.23.1)\n",
      "Requirement already satisfied: scipy>=1.3.1 in /home/sophie/.local/lib/python3.7/site-packages (from fairlearn==0.4.6) (1.4.1)\n",
      "Requirement already satisfied: numpy>=1.17.2 in /home/sophie/.local/lib/python3.7/site-packages (from fairlearn==0.4.6) (1.18.2)\n",
      "Requirement already satisfied: ipywidgets>=7.5.0 in /home/sophie/.local/lib/python3.7/site-packages (from fairlearn==0.4.6) (7.6.3)\n",
      "Requirement already satisfied: pytz>=2017.2 in /home/sophie/anaconda3/lib/python3.7/site-packages (from pandas>=0.25.1->fairlearn==0.4.6) (2018.7)\n",
      "Requirement already satisfied: python-dateutil>=2.6.1 in /home/sophie/.local/lib/python3.7/site-packages (from pandas>=0.25.1->fairlearn==0.4.6) (2.8.1)\n",
      "Requirement already satisfied: joblib>=0.11 in /home/sophie/.local/lib/python3.7/site-packages (from scikit-learn>=0.22.1->fairlearn==0.4.6) (0.15.1)\n",
      "Requirement already satisfied: threadpoolctl>=2.0.0 in /home/sophie/.local/lib/python3.7/site-packages (from scikit-learn>=0.22.1->fairlearn==0.4.6) (2.1.0)\n",
      "Requirement already satisfied: jupyterlab-widgets>=1.0.0; python_version >= \"3.6\" in /home/sophie/.local/lib/python3.7/site-packages (from ipywidgets>=7.5.0->fairlearn==0.4.6) (1.0.0)\n",
      "Requirement already satisfied: ipython>=4.0.0; python_version >= \"3.3\" in /home/sophie/anaconda3/lib/python3.7/site-packages (from ipywidgets>=7.5.0->fairlearn==0.4.6) (7.2.0)\n"
     ]
    },
    {
     "name": "stdout",
     "output_type": "stream",
     "text": [
      "Requirement already satisfied: nbformat>=4.2.0 in /home/sophie/anaconda3/lib/python3.7/site-packages (from ipywidgets>=7.5.0->fairlearn==0.4.6) (4.4.0)\n",
      "Requirement already satisfied: traitlets>=4.3.1 in /home/sophie/anaconda3/lib/python3.7/site-packages (from ipywidgets>=7.5.0->fairlearn==0.4.6) (4.3.2)\n",
      "Requirement already satisfied: ipykernel>=4.5.1 in /home/sophie/anaconda3/lib/python3.7/site-packages (from ipywidgets>=7.5.0->fairlearn==0.4.6) (5.1.0)\n",
      "Requirement already satisfied: widgetsnbextension~=3.5.0 in /home/sophie/.local/lib/python3.7/site-packages (from ipywidgets>=7.5.0->fairlearn==0.4.6) (3.5.1)\n",
      "Requirement already satisfied: six>=1.5 in /home/sophie/anaconda3/lib/python3.7/site-packages (from python-dateutil>=2.6.1->pandas>=0.25.1->fairlearn==0.4.6) (1.12.0)\n",
      "Requirement already satisfied: decorator in /home/sophie/anaconda3/lib/python3.7/site-packages (from ipython>=4.0.0; python_version >= \"3.3\"->ipywidgets>=7.5.0->fairlearn==0.4.6) (4.3.0)\n",
      "Requirement already satisfied: pexpect; sys_platform != \"win32\" in /home/sophie/anaconda3/lib/python3.7/site-packages (from ipython>=4.0.0; python_version >= \"3.3\"->ipywidgets>=7.5.0->fairlearn==0.4.6) (4.6.0)\n",
      "Requirement already satisfied: setuptools>=18.5 in /home/sophie/.local/lib/python3.7/site-packages (from ipython>=4.0.0; python_version >= \"3.3\"->ipywidgets>=7.5.0->fairlearn==0.4.6) (46.1.3)\n",
      "Requirement already satisfied: prompt-toolkit<2.1.0,>=2.0.0 in /home/sophie/anaconda3/lib/python3.7/site-packages (from ipython>=4.0.0; python_version >= \"3.3\"->ipywidgets>=7.5.0->fairlearn==0.4.6) (2.0.7)\n",
      "Requirement already satisfied: pygments in /home/sophie/anaconda3/lib/python3.7/site-packages (from ipython>=4.0.0; python_version >= \"3.3\"->ipywidgets>=7.5.0->fairlearn==0.4.6) (2.3.1)\n",
      "Requirement already satisfied: backcall in /home/sophie/anaconda3/lib/python3.7/site-packages (from ipython>=4.0.0; python_version >= \"3.3\"->ipywidgets>=7.5.0->fairlearn==0.4.6) (0.1.0)\n",
      "Requirement already satisfied: jedi>=0.10 in /home/sophie/anaconda3/lib/python3.7/site-packages (from ipython>=4.0.0; python_version >= \"3.3\"->ipywidgets>=7.5.0->fairlearn==0.4.6) (0.13.2)\n",
      "Requirement already satisfied: pickleshare in /home/sophie/anaconda3/lib/python3.7/site-packages (from ipython>=4.0.0; python_version >= \"3.3\"->ipywidgets>=7.5.0->fairlearn==0.4.6) (0.7.5)\n",
      "Requirement already satisfied: ipython-genutils in /home/sophie/anaconda3/lib/python3.7/site-packages (from nbformat>=4.2.0->ipywidgets>=7.5.0->fairlearn==0.4.6) (0.2.0)\n",
      "Requirement already satisfied: jsonschema!=2.5.0,>=2.4 in /home/sophie/anaconda3/lib/python3.7/site-packages (from nbformat>=4.2.0->ipywidgets>=7.5.0->fairlearn==0.4.6) (2.6.0)\n",
      "Requirement already satisfied: jupyter-core in /home/sophie/anaconda3/lib/python3.7/site-packages (from nbformat>=4.2.0->ipywidgets>=7.5.0->fairlearn==0.4.6) (4.4.0)\n",
      "Requirement already satisfied: tornado>=4.2 in /home/sophie/anaconda3/lib/python3.7/site-packages (from ipykernel>=4.5.1->ipywidgets>=7.5.0->fairlearn==0.4.6) (5.1.1)\n",
      "Requirement already satisfied: jupyter-client in /home/sophie/anaconda3/lib/python3.7/site-packages (from ipykernel>=4.5.1->ipywidgets>=7.5.0->fairlearn==0.4.6) (5.2.4)\n",
      "Requirement already satisfied: notebook>=4.4.1 in /home/sophie/anaconda3/lib/python3.7/site-packages (from widgetsnbextension~=3.5.0->ipywidgets>=7.5.0->fairlearn==0.4.6) (5.7.4)\n",
      "Requirement already satisfied: ptyprocess>=0.5 in /home/sophie/anaconda3/lib/python3.7/site-packages (from pexpect; sys_platform != \"win32\"->ipython>=4.0.0; python_version >= \"3.3\"->ipywidgets>=7.5.0->fairlearn==0.4.6) (0.6.0)\n",
      "Requirement already satisfied: wcwidth in /home/sophie/anaconda3/lib/python3.7/site-packages (from prompt-toolkit<2.1.0,>=2.0.0->ipython>=4.0.0; python_version >= \"3.3\"->ipywidgets>=7.5.0->fairlearn==0.4.6) (0.1.7)\n",
      "Requirement already satisfied: parso>=0.3.0 in /home/sophie/anaconda3/lib/python3.7/site-packages (from jedi>=0.10->ipython>=4.0.0; python_version >= \"3.3\"->ipywidgets>=7.5.0->fairlearn==0.4.6) (0.3.1)\n",
      "Requirement already satisfied: pyzmq>=13 in /home/sophie/anaconda3/lib/python3.7/site-packages (from jupyter-client->ipykernel>=4.5.1->ipywidgets>=7.5.0->fairlearn==0.4.6) (17.1.2)\n",
      "Requirement already satisfied: nbconvert in /home/sophie/anaconda3/lib/python3.7/site-packages (from notebook>=4.4.1->widgetsnbextension~=3.5.0->ipywidgets>=7.5.0->fairlearn==0.4.6) (5.4.0)\n",
      "Requirement already satisfied: Send2Trash in /home/sophie/anaconda3/lib/python3.7/site-packages (from notebook>=4.4.1->widgetsnbextension~=3.5.0->ipywidgets>=7.5.0->fairlearn==0.4.6) (1.5.0)\n",
      "Requirement already satisfied: terminado>=0.8.1 in /home/sophie/anaconda3/lib/python3.7/site-packages (from notebook>=4.4.1->widgetsnbextension~=3.5.0->ipywidgets>=7.5.0->fairlearn==0.4.6) (0.8.1)\n",
      "Requirement already satisfied: prometheus-client in /home/sophie/anaconda3/lib/python3.7/site-packages (from notebook>=4.4.1->widgetsnbextension~=3.5.0->ipywidgets>=7.5.0->fairlearn==0.4.6) (0.5.0)\n",
      "Requirement already satisfied: jinja2 in /home/sophie/anaconda3/lib/python3.7/site-packages (from notebook>=4.4.1->widgetsnbextension~=3.5.0->ipywidgets>=7.5.0->fairlearn==0.4.6) (2.10)\n",
      "Requirement already satisfied: mistune>=0.8.1 in /home/sophie/anaconda3/lib/python3.7/site-packages (from nbconvert->notebook>=4.4.1->widgetsnbextension~=3.5.0->ipywidgets>=7.5.0->fairlearn==0.4.6) (0.8.4)\n",
      "Requirement already satisfied: entrypoints>=0.2.2 in /home/sophie/anaconda3/lib/python3.7/site-packages (from nbconvert->notebook>=4.4.1->widgetsnbextension~=3.5.0->ipywidgets>=7.5.0->fairlearn==0.4.6) (0.2.3)\n",
      "Requirement already satisfied: bleach in /home/sophie/anaconda3/lib/python3.7/site-packages (from nbconvert->notebook>=4.4.1->widgetsnbextension~=3.5.0->ipywidgets>=7.5.0->fairlearn==0.4.6) (3.0.2)\n",
      "Requirement already satisfied: pandocfilters>=1.4.1 in /home/sophie/anaconda3/lib/python3.7/site-packages (from nbconvert->notebook>=4.4.1->widgetsnbextension~=3.5.0->ipywidgets>=7.5.0->fairlearn==0.4.6) (1.4.2)\n",
      "Requirement already satisfied: testpath in /home/sophie/anaconda3/lib/python3.7/site-packages (from nbconvert->notebook>=4.4.1->widgetsnbextension~=3.5.0->ipywidgets>=7.5.0->fairlearn==0.4.6) (0.4.2)\n",
      "Requirement already satisfied: defusedxml in /home/sophie/anaconda3/lib/python3.7/site-packages (from nbconvert->notebook>=4.4.1->widgetsnbextension~=3.5.0->ipywidgets>=7.5.0->fairlearn==0.4.6) (0.5.0)\n",
      "Requirement already satisfied: MarkupSafe>=0.23 in /home/sophie/anaconda3/lib/python3.7/site-packages (from jinja2->notebook>=4.4.1->widgetsnbextension~=3.5.0->ipywidgets>=7.5.0->fairlearn==0.4.6) (1.1.0)\n",
      "Requirement already satisfied: webencodings in /home/sophie/anaconda3/lib/python3.7/site-packages (from bleach->nbconvert->notebook>=4.4.1->widgetsnbextension~=3.5.0->ipywidgets>=7.5.0->fairlearn==0.4.6) (0.5.1)\n"
     ]
    }
   ],
   "source": [
    "!pip install aif360\n",
    "!pip install BlackBoxAuditing\n",
    "!pip install fairlearn==0.4.6"
   ]
  },
  {
   "cell_type": "markdown",
   "metadata": {},
   "source": [
    "# Load and Split Data"
   ]
  },
  {
   "cell_type": "code",
   "execution_count": 3,
   "metadata": {
    "scrolled": true
   },
   "outputs": [
    {
     "name": "stderr",
     "output_type": "stream",
     "text": [
      "/home/sophie/.local/lib/python3.7/site-packages/tensorflow/python/framework/dtypes.py:516: FutureWarning: Passing (type, 1) or '1type' as a synonym of type is deprecated; in a future version of numpy, it will be understood as (type, (1,)) / '(1,)type'.\n",
      "  _np_qint8 = np.dtype([(\"qint8\", np.int8, 1)])\n",
      "/home/sophie/.local/lib/python3.7/site-packages/tensorflow/python/framework/dtypes.py:517: FutureWarning: Passing (type, 1) or '1type' as a synonym of type is deprecated; in a future version of numpy, it will be understood as (type, (1,)) / '(1,)type'.\n",
      "  _np_quint8 = np.dtype([(\"quint8\", np.uint8, 1)])\n",
      "/home/sophie/.local/lib/python3.7/site-packages/tensorflow/python/framework/dtypes.py:518: FutureWarning: Passing (type, 1) or '1type' as a synonym of type is deprecated; in a future version of numpy, it will be understood as (type, (1,)) / '(1,)type'.\n",
      "  _np_qint16 = np.dtype([(\"qint16\", np.int16, 1)])\n",
      "/home/sophie/.local/lib/python3.7/site-packages/tensorflow/python/framework/dtypes.py:519: FutureWarning: Passing (type, 1) or '1type' as a synonym of type is deprecated; in a future version of numpy, it will be understood as (type, (1,)) / '(1,)type'.\n",
      "  _np_quint16 = np.dtype([(\"quint16\", np.uint16, 1)])\n",
      "/home/sophie/.local/lib/python3.7/site-packages/tensorflow/python/framework/dtypes.py:520: FutureWarning: Passing (type, 1) or '1type' as a synonym of type is deprecated; in a future version of numpy, it will be understood as (type, (1,)) / '(1,)type'.\n",
      "  _np_qint32 = np.dtype([(\"qint32\", np.int32, 1)])\n",
      "/home/sophie/.local/lib/python3.7/site-packages/tensorflow/python/framework/dtypes.py:525: FutureWarning: Passing (type, 1) or '1type' as a synonym of type is deprecated; in a future version of numpy, it will be understood as (type, (1,)) / '(1,)type'.\n",
      "  np_resource = np.dtype([(\"resource\", np.ubyte, 1)])\n",
      "/home/sophie/.local/lib/python3.7/site-packages/tensorboard/compat/tensorflow_stub/dtypes.py:541: FutureWarning: Passing (type, 1) or '1type' as a synonym of type is deprecated; in a future version of numpy, it will be understood as (type, (1,)) / '(1,)type'.\n",
      "  _np_qint8 = np.dtype([(\"qint8\", np.int8, 1)])\n",
      "/home/sophie/.local/lib/python3.7/site-packages/tensorboard/compat/tensorflow_stub/dtypes.py:542: FutureWarning: Passing (type, 1) or '1type' as a synonym of type is deprecated; in a future version of numpy, it will be understood as (type, (1,)) / '(1,)type'.\n",
      "  _np_quint8 = np.dtype([(\"quint8\", np.uint8, 1)])\n",
      "/home/sophie/.local/lib/python3.7/site-packages/tensorboard/compat/tensorflow_stub/dtypes.py:543: FutureWarning: Passing (type, 1) or '1type' as a synonym of type is deprecated; in a future version of numpy, it will be understood as (type, (1,)) / '(1,)type'.\n",
      "  _np_qint16 = np.dtype([(\"qint16\", np.int16, 1)])\n",
      "/home/sophie/.local/lib/python3.7/site-packages/tensorboard/compat/tensorflow_stub/dtypes.py:544: FutureWarning: Passing (type, 1) or '1type' as a synonym of type is deprecated; in a future version of numpy, it will be understood as (type, (1,)) / '(1,)type'.\n",
      "  _np_quint16 = np.dtype([(\"quint16\", np.uint16, 1)])\n",
      "/home/sophie/.local/lib/python3.7/site-packages/tensorboard/compat/tensorflow_stub/dtypes.py:545: FutureWarning: Passing (type, 1) or '1type' as a synonym of type is deprecated; in a future version of numpy, it will be understood as (type, (1,)) / '(1,)type'.\n",
      "  _np_qint32 = np.dtype([(\"qint32\", np.int32, 1)])\n",
      "/home/sophie/.local/lib/python3.7/site-packages/tensorboard/compat/tensorflow_stub/dtypes.py:550: FutureWarning: Passing (type, 1) or '1type' as a synonym of type is deprecated; in a future version of numpy, it will be understood as (type, (1,)) / '(1,)type'.\n",
      "  np_resource = np.dtype([(\"resource\", np.ubyte, 1)])\n",
      "pandas.util.testing is deprecated. Use the functions in the public API at pandas.testing instead.\n"
     ]
    }
   ],
   "source": [
    "from aif360.datasets import AdultDataset"
   ]
  },
  {
   "cell_type": "code",
   "execution_count": 4,
   "metadata": {},
   "outputs": [
    {
     "name": "stderr",
     "output_type": "stream",
     "text": [
      "WARNING: Logging before flag parsing goes to stderr.\n",
      "W0425 11:27:59.496087 140070176089920 standard_dataset.py:101] Missing Data: 3620 rows removed from AdultDataset.\n"
     ]
    }
   ],
   "source": [
    "ad = AdultDataset(instance_weights_name='fnlwgt', features_to_drop=[])"
   ]
  },
  {
   "cell_type": "code",
   "execution_count": 5,
   "metadata": {},
   "outputs": [],
   "source": [
    "ad_train, ad_test = ad.split(2)"
   ]
  },
  {
   "cell_type": "markdown",
   "metadata": {},
   "source": [
    "# Unconstrained Model"
   ]
  },
  {
   "cell_type": "code",
   "execution_count": 6,
   "metadata": {},
   "outputs": [],
   "source": [
    "from sklearn.linear_model import LogisticRegression\n",
    "from copy import deepcopy\n",
    "from aif360.metrics import ClassificationMetric"
   ]
  },
  {
   "cell_type": "code",
   "execution_count": 7,
   "metadata": {},
   "outputs": [],
   "source": [
    "ad_df_train, ad_attrs_train = ad_train.convert_to_dataframe(de_dummy_code=False, sep='=', set_category=True)\n",
    "ad_df_test, ad_attrs_test = ad_test.convert_to_dataframe(de_dummy_code=False, sep='=', set_category=True)"
   ]
  },
  {
   "cell_type": "code",
   "execution_count": 8,
   "metadata": {},
   "outputs": [],
   "source": [
    "Y_train = np.array(ad_df_train[['income-per-year']]).reshape(((len(ad_df_train),)))\n",
    "Xs_train = np.array(ad_df_train.drop(columns='income-per-year'))\n",
    "Y_test = np.array(ad_df_test[['income-per-year']]).reshape(((len(ad_df_test),)))\n",
    "Xs_test = np.array(ad_df_test.drop(columns='income-per-year'))"
   ]
  },
  {
   "cell_type": "code",
   "execution_count": 9,
   "metadata": {},
   "outputs": [],
   "source": [
    "clf = LogisticRegression(max_iter = 300, solver='liblinear').fit(Xs_train, Y_train)"
   ]
  },
  {
   "cell_type": "code",
   "execution_count": 10,
   "metadata": {},
   "outputs": [],
   "source": [
    "predicted_labels_train = clf.predict(Xs_train).reshape((len(Y_train), 1))\n",
    "predicted_labels = clf.predict(Xs_test).reshape((len(Y_test), 1))"
   ]
  },
  {
   "cell_type": "code",
   "execution_count": 32,
   "metadata": {},
   "outputs": [],
   "source": [
    "ad_pred = deepcopy(ad_test)\n",
    "ad_pred_train = deepcopy(ad_train)\n",
    "ad_pred.labels = predicted_labels\n",
    "ad_pred_train.labels = predicted_labels_train"
   ]
  },
  {
   "cell_type": "code",
   "execution_count": 12,
   "metadata": {},
   "outputs": [
    {
     "name": "stdout",
     "output_type": "stream",
     "text": [
      "Original Test Accuracy: 0.8516964899300383\n",
      "Original Demographic Parity ratio: 0.5652787213393603\n",
      "Original Average Absolute Odds diff: 0.049887323350057494\n"
     ]
    }
   ],
   "source": [
    "u = [{'race': 0}]\n",
    "p = [{'race': 1}]\n",
    "metrics = ClassificationMetric(ad_test,ad_pred,unprivileged_groups=u, privileged_groups=p)\n",
    "test_acc = metrics.accuracy()\n",
    "DI = metrics.disparate_impact()\n",
    "EO = metrics.average_abs_odds_difference()\n",
    "print('Original Test Accuracy:', test_acc)\n",
    "print('Original Demographic Parity ratio:', DI)\n",
    "print('Original Average Absolute Odds diff:', EO)"
   ]
  },
  {
   "cell_type": "markdown",
   "metadata": {},
   "source": [
    "# Demographic Parity (Independence)"
   ]
  },
  {
   "cell_type": "markdown",
   "metadata": {},
   "source": [
    "## Feldman et al. Repair (Preprocessing)"
   ]
  },
  {
   "cell_type": "code",
   "execution_count": 13,
   "metadata": {
    "scrolled": true
   },
   "outputs": [],
   "source": [
    "import aif360.algorithms.preprocessing as AIF"
   ]
  },
  {
   "cell_type": "code",
   "execution_count": 14,
   "metadata": {},
   "outputs": [],
   "source": [
    "repairer = AIF.DisparateImpactRemover(repair_level=1.0, sensitive_attribute='race')\n",
    "repaired_train = repairer.fit_transform(ad_train)\n",
    "repaired_test = repairer.fit_transform(ad_test)"
   ]
  },
  {
   "cell_type": "code",
   "execution_count": 15,
   "metadata": {},
   "outputs": [],
   "source": [
    "repaired_df_train, repaired_attrs_train = repaired_train.convert_to_dataframe(de_dummy_code=False, sep='=', set_category=True)\n",
    "repaired_df_test, repaired_attrs_test = repaired_test.convert_to_dataframe(de_dummy_code=False, sep='=', set_category=True)"
   ]
  },
  {
   "cell_type": "code",
   "execution_count": 16,
   "metadata": {},
   "outputs": [],
   "source": [
    "Y_rep_train = np.array(repaired_df_train[['income-per-year']]).reshape(((len(repaired_df_train),)))\n",
    "Xs_rep_train = np.array(repaired_df_train.drop(columns='income-per-year'))\n",
    "\n",
    "Y_rep_test = np.array(repaired_df_test[['income-per-year']]).reshape(((len(repaired_df_test),)))\n",
    "Xs_rep_test = np.array(repaired_df_test.drop(columns='income-per-year'))"
   ]
  },
  {
   "cell_type": "code",
   "execution_count": 17,
   "metadata": {},
   "outputs": [],
   "source": [
    "clf_rep = LogisticRegression(max_iter = 300, solver='liblinear').fit(Xs_rep_train, Y_rep_train)"
   ]
  },
  {
   "cell_type": "code",
   "execution_count": 18,
   "metadata": {},
   "outputs": [],
   "source": [
    "predicted_labels_rep = clf_rep.predict(Xs_rep_test).reshape((len(Y_rep_test), 1))"
   ]
  },
  {
   "cell_type": "code",
   "execution_count": 19,
   "metadata": {},
   "outputs": [],
   "source": [
    "ad_pred_rep = deepcopy(ad_test)\n",
    "ad_pred_rep.labels = predicted_labels_rep"
   ]
  },
  {
   "cell_type": "code",
   "execution_count": 20,
   "metadata": {},
   "outputs": [
    {
     "name": "stdout",
     "output_type": "stream",
     "text": [
      "Repair Test Accuracy: 0.8511096256954943\n",
      "Repair Demographic Parity ratio: 0.5748155706381144\n",
      "Repair Average Absolute Odds diff: 0.04189026077198628\n"
     ]
    }
   ],
   "source": [
    "metrics_rep = ClassificationMetric(ad_test,ad_pred_rep,unprivileged_groups=u, privileged_groups=p)\n",
    "test_acc_rep = metrics_rep.accuracy()\n",
    "DI_rep = metrics_rep.disparate_impact()\n",
    "EO_rep = metrics_rep.average_abs_odds_difference()\n",
    "print('Repair Test Accuracy:', test_acc_rep)\n",
    "print('Repair Demographic Parity ratio:', DI_rep)\n",
    "print('Repair Average Absolute Odds diff:', EO_rep)"
   ]
  },
  {
   "cell_type": "markdown",
   "metadata": {},
   "source": [
    "## Kamishima et al. Regularization (Regularization)"
   ]
  },
  {
   "cell_type": "code",
   "execution_count": 21,
   "metadata": {
    "jupyter": {
     "outputs_hidden": true
    },
    "scrolled": true
   },
   "outputs": [
    {
     "name": "stdout",
     "output_type": "stream",
     "text": [
      "Requirement already satisfied: tensorflow in /home/sophie/.local/lib/python3.7/site-packages (1.14.0)\n",
      "Requirement already satisfied: wheel>=0.26 in /home/sophie/anaconda3/lib/python3.7/site-packages (from tensorflow) (0.32.3)\n",
      "Requirement already satisfied: gast>=0.2.0 in /home/sophie/.local/lib/python3.7/site-packages (from tensorflow) (0.2.2)\n",
      "Requirement already satisfied: astor>=0.6.0 in /home/sophie/.local/lib/python3.7/site-packages (from tensorflow) (0.8.0)\n",
      "Requirement already satisfied: grpcio>=1.8.6 in /home/sophie/.local/lib/python3.7/site-packages (from tensorflow) (1.21.1)\n",
      "Requirement already satisfied: keras-applications>=1.0.6 in /home/sophie/.local/lib/python3.7/site-packages (from tensorflow) (1.0.8)\n",
      "Requirement already satisfied: protobuf>=3.6.1 in /home/sophie/.local/lib/python3.7/site-packages (from tensorflow) (3.8.0)\n",
      "Requirement already satisfied: numpy<2.0,>=1.14.5 in /home/sophie/.local/lib/python3.7/site-packages (from tensorflow) (1.18.2)\n",
      "Requirement already satisfied: tensorboard<1.15.0,>=1.14.0 in /home/sophie/.local/lib/python3.7/site-packages (from tensorflow) (1.14.0)\n",
      "Requirement already satisfied: termcolor>=1.1.0 in /home/sophie/.local/lib/python3.7/site-packages (from tensorflow) (1.1.0)\n",
      "Requirement already satisfied: google-pasta>=0.1.6 in /home/sophie/.local/lib/python3.7/site-packages (from tensorflow) (0.1.7)\n",
      "Requirement already satisfied: wrapt>=1.11.1 in /home/sophie/.local/lib/python3.7/site-packages (from tensorflow) (1.11.2)\n",
      "Requirement already satisfied: absl-py>=0.7.0 in /home/sophie/.local/lib/python3.7/site-packages (from tensorflow) (0.7.1)\n",
      "Requirement already satisfied: tensorflow-estimator<1.15.0rc0,>=1.14.0rc0 in /home/sophie/.local/lib/python3.7/site-packages (from tensorflow) (1.14.0)\n",
      "Requirement already satisfied: keras-preprocessing>=1.0.5 in /home/sophie/.local/lib/python3.7/site-packages (from tensorflow) (1.1.0)\n",
      "Requirement already satisfied: six>=1.10.0 in /home/sophie/anaconda3/lib/python3.7/site-packages (from tensorflow) (1.12.0)\n",
      "Requirement already satisfied: h5py in /home/sophie/anaconda3/lib/python3.7/site-packages (from keras-applications>=1.0.6->tensorflow) (2.8.0)\n",
      "Requirement already satisfied: setuptools in /home/sophie/.local/lib/python3.7/site-packages (from protobuf>=3.6.1->tensorflow) (46.1.3)\n",
      "Requirement already satisfied: markdown>=2.6.8 in /home/sophie/.local/lib/python3.7/site-packages (from tensorboard<1.15.0,>=1.14.0->tensorflow) (3.1.1)\n",
      "Requirement already satisfied: werkzeug>=0.11.15 in /home/sophie/anaconda3/lib/python3.7/site-packages (from tensorboard<1.15.0,>=1.14.0->tensorflow) (0.14.1)\n"
     ]
    }
   ],
   "source": [
    "!pip install tensorflow"
   ]
  },
  {
   "cell_type": "code",
   "execution_count": 22,
   "metadata": {},
   "outputs": [],
   "source": [
    "from aif360.algorithms.inprocessing import PrejudiceRemover"
   ]
  },
  {
   "cell_type": "code",
   "execution_count": 47,
   "metadata": {},
   "outputs": [],
   "source": [
    "PrejRemover = PrejudiceRemover(eta=0.1, sensitive_attr='race', class_attr='income-per-year')"
   ]
  },
  {
   "cell_type": "code",
   "execution_count": 48,
   "metadata": {},
   "outputs": [],
   "source": [
    "PrejRemover = PrejRemover.fit(ad_train)\n",
    "kamishima_pred = PrejRemover.predict(ad_test)"
   ]
  },
  {
   "cell_type": "code",
   "execution_count": 49,
   "metadata": {},
   "outputs": [
    {
     "name": "stdout",
     "output_type": "stream",
     "text": [
      "Prej Remover Test Accuracy: 0.8453421761768007\n",
      "Prej Remover Demographic Parity ratio: 0.4978724331429025\n",
      "Prej Remover Average Absolute Odds diff: 0.0756202852512517\n"
     ]
    }
   ],
   "source": [
    "metrics_kamishima = ClassificationMetric(ad_test,kamishima_pred,unprivileged_groups=u, privileged_groups=p)\n",
    "test_acc_prej = metrics_kamishima.accuracy()\n",
    "DI_prej = metrics_kamishima.disparate_impact()\n",
    "EO_prej = metrics_kamishima.average_abs_odds_difference()\n",
    "print('Prej Remover Test Accuracy:', test_acc_prej)\n",
    "print('Prej Remover Demographic Parity ratio:', DI_prej)\n",
    "print('Prej Remover Average Absolute Odds diff:', EO_prej)"
   ]
  },
  {
   "cell_type": "markdown",
   "metadata": {},
   "source": [
    "## Agarwal et al (Reduction)"
   ]
  },
  {
   "cell_type": "code",
   "execution_count": 42,
   "metadata": {},
   "outputs": [],
   "source": [
    "from aif360.algorithms.inprocessing.exponentiated_gradient_reduction import ExponentiatedGradientReduction"
   ]
  },
  {
   "cell_type": "code",
   "execution_count": 43,
   "metadata": {},
   "outputs": [],
   "source": [
    "estimator = LogisticRegression(solver='liblinear')\n",
    "np.random.seed(0) #need for reproducibility\n",
    "exp_grad_red_dp = ExponentiatedGradientReduction(estimator=estimator, \n",
    "                                              constraints=\"DemographicParity\",\n",
    "                                              drop_prot_attr=False)"
   ]
  },
  {
   "cell_type": "code",
   "execution_count": 44,
   "metadata": {},
   "outputs": [
    {
     "name": "stderr",
     "output_type": "stream",
     "text": [
      "A column-vector y was passed when a 1d array was expected. Please change the shape of y to (n_samples, ), for example using ravel().\n"
     ]
    }
   ],
   "source": [
    "exp_grad_red_dp.fit(ad_train)\n",
    "exp_grad_red_pred_dp = exp_grad_red_dp.predict(ad_test)"
   ]
  },
  {
   "cell_type": "code",
   "execution_count": 46,
   "metadata": {},
   "outputs": [
    {
     "name": "stdout",
     "output_type": "stream",
     "text": [
      "DP Reduction Test Accuracy: 0.8320405411045667\n",
      "DP Reduction Demographic Parity ratio: 0.9469555766712154\n",
      "DP Reduction Average Absolute Odds diff: 0.0630372657437408\n"
     ]
    }
   ],
   "source": [
    "metrics_red_dp = ClassificationMetric(ad_test,exp_grad_red_pred_dp,unprivileged_groups=u, privileged_groups=p)\n",
    "test_acc_red_dp = metrics_red_dp.accuracy()\n",
    "DI_red_dp = metrics_red_dp.disparate_impact()\n",
    "EO_red_dp = metrics_red_dp.average_abs_odds_difference()\n",
    "print('DP Reduction Test Accuracy:', test_acc_red_dp)\n",
    "print('DP Reduction Demographic Parity ratio:', DI_red_dp)\n",
    "print('DP Reduction Average Absolute Odds diff:', EO_red_dp)"
   ]
  },
  {
   "cell_type": "markdown",
   "metadata": {},
   "source": [
    "# Equalized Odds (Separation)"
   ]
  },
  {
   "cell_type": "markdown",
   "metadata": {},
   "source": [
    "## Hardt et al. (Postprocessing)"
   ]
  },
  {
   "cell_type": "code",
   "execution_count": 29,
   "metadata": {},
   "outputs": [],
   "source": [
    "from aif360.algorithms.postprocessing import EqOddsPostprocessing"
   ]
  },
  {
   "cell_type": "code",
   "execution_count": 30,
   "metadata": {},
   "outputs": [],
   "source": [
    "postprocessing = EqOddsPostprocessing(u, p)"
   ]
  },
  {
   "cell_type": "code",
   "execution_count": 33,
   "metadata": {},
   "outputs": [],
   "source": [
    "postprocessing = postprocessing.fit(ad_train, ad_pred_train)\n",
    "postprocess_pred = postprocessing.predict(ad_pred)"
   ]
  },
  {
   "cell_type": "code",
   "execution_count": 35,
   "metadata": {},
   "outputs": [
    {
     "name": "stdout",
     "output_type": "stream",
     "text": [
      "Postprocessing Test Accuracy: 0.8429309786202139\n",
      "Postprocessing Demographic Parity ratio: 0.7083046158936913\n",
      "Postprocessing Average Absolute Odds diff: 0.016684602600477202\n"
     ]
    }
   ],
   "source": [
    "metrics_post = ClassificationMetric(ad_test,postprocess_pred,unprivileged_groups=u, privileged_groups=p)\n",
    "test_acc_post = metrics_post.accuracy()\n",
    "DI_post = metrics_post.disparate_impact()\n",
    "EO_ppost = metrics_post.average_abs_odds_difference()\n",
    "print('Postprocessing Test Accuracy:', test_acc_post)\n",
    "print('Postprocessing Demographic Parity ratio:', DI_post)\n",
    "print('Postprocessing Average Absolute Odds diff:', EO_ppost)"
   ]
  },
  {
   "cell_type": "markdown",
   "metadata": {},
   "source": [
    "## Agarwal et al (Reduction)"
   ]
  },
  {
   "cell_type": "code",
   "execution_count": 37,
   "metadata": {},
   "outputs": [],
   "source": [
    "estimator = LogisticRegression(solver='liblinear')\n",
    "np.random.seed(0) #need for reproducibility\n",
    "exp_grad_red = ExponentiatedGradientReduction(estimator=estimator, \n",
    "                                              constraints=\"EqualizedOdds\",\n",
    "                                              drop_prot_attr=False)"
   ]
  },
  {
   "cell_type": "code",
   "execution_count": 38,
   "metadata": {},
   "outputs": [
    {
     "name": "stderr",
     "output_type": "stream",
     "text": [
      "A column-vector y was passed when a 1d array was expected. Please change the shape of y to (n_samples, ), for example using ravel().\n"
     ]
    }
   ],
   "source": [
    "exp_grad_red.fit(ad_train)\n",
    "exp_grad_red_pred = exp_grad_red.predict(ad_test)"
   ]
  },
  {
   "cell_type": "code",
   "execution_count": 40,
   "metadata": {},
   "outputs": [
    {
     "name": "stdout",
     "output_type": "stream",
     "text": [
      "EO Reduction Test Accuracy: 0.8395849432292414\n",
      "EO Reduction Demographic Parity ratio: 0.6803765727104913\n",
      "EO Reduction Average Absolute Odds diff: 0.009446494651760642\n"
     ]
    }
   ],
   "source": [
    "metrics_red_eo = ClassificationMetric(ad_test,exp_grad_red_pred,unprivileged_groups=u, privileged_groups=p)\n",
    "test_acc_red_eo = metrics_red_eo.accuracy()\n",
    "DI_red_eo = metrics_red_eo.disparate_impact()\n",
    "EO_red_eo = metrics_red_eo.average_abs_odds_difference()\n",
    "print('EO Reduction Test Accuracy:', test_acc_red_eo)\n",
    "print('EO Reduction Demographic Parity ratio:', DI_red_eo)\n",
    "print('EO Reduction Average Absolute Odds diff:', EO_red_eo)"
   ]
  },
  {
   "cell_type": "code",
   "execution_count": null,
   "metadata": {},
   "outputs": [],
   "source": []
  }
 ],
 "metadata": {
  "kernelspec": {
   "display_name": "Python 3",
   "language": "python",
   "name": "python3"
  },
  "language_info": {
   "codemirror_mode": {
    "name": "ipython",
    "version": 3
   },
   "file_extension": ".py",
   "mimetype": "text/x-python",
   "name": "python",
   "nbconvert_exporter": "python",
   "pygments_lexer": "ipython3",
   "version": "3.7.1"
  }
 },
 "nbformat": 4,
 "nbformat_minor": 4
}
